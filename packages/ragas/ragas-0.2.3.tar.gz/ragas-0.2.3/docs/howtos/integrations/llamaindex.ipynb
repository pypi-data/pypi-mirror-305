{
 "cells": [
  {
   "cell_type": "markdown",
   "id": "d2451aff",
   "metadata": {},
   "source": [
    "# LlamaIndex\n",
    "\n",
    "[LlamaIndex](https://github.com/run-llama/llama_index) is a data framework for LLM applications to ingest, structure, and access private or domain-specific data. Makes it super easy to connect LLMs with your own data. But in order to figure out the best configuration for llamaIndex and your data you need a object measure of the performance. This is where ragas comes in. Ragas will help you evaluate your `QueryEngine` and gives you the confidence to tweak the configuration to get hightest score.\n",
    "\n",
    "This guide assumes you have familarity with the LlamaIndex framework."
   ]
  },
  {
   "cell_type": "markdown",
   "id": "ea0553ea",
   "metadata": {},
   "source": [
    "## Building the Testset\n",
    "\n",
    "You will need an testset to evaluate your `QueryEngine` against. You can either build one yourself or use the [Testset Generator Module](../../getstarted/testset_generation.md) in Ragas to get started with a small synthetic one.\n",
    "\n",
    "Let's see how that works with Llamaindex"
   ]
  },
  {
   "cell_type": "code",
   "execution_count": 3,
   "id": "096e5af0",
   "metadata": {},
   "outputs": [],
   "source": [
    "# load the documents\n",
    "from llama_index.core import SimpleDirectoryReader\n",
    "\n",
    "documents = SimpleDirectoryReader(\"./nyc_wikipedia\").load_data()"
   ]
  },
  {
   "cell_type": "markdown",
   "id": "012d81a1",
   "metadata": {},
   "source": [
    "Now  lets init the `TestsetGenerator` object with the corresponding generator and critic llms"
   ]
  },
  {
   "cell_type": "code",
   "execution_count": 4,
   "id": "e2107b62",
   "metadata": {},
   "outputs": [],
   "source": [
    "from ragas.testset.generator import TestsetGenerator\n",
    "from ragas.testset.evolutions import simple, reasoning, multi_context\n",
    "from llama_index.llms.openai import OpenAI\n",
    "from llama_index.embeddings.openai import OpenAIEmbedding\n",
    "\n",
    "# generator with openai models\n",
    "generator_llm = OpenAI(model=\"gpt-3.5-turbo-16k\")\n",
    "critic_llm = OpenAI(model=\"gpt-4\")\n",
    "embeddings = OpenAIEmbedding()\n",
    "\n",
    "generator = TestsetGenerator.from_llama_index(\n",
    "    generator_llm=generator_llm,\n",
    "    critic_llm=critic_llm,\n",
    "    embeddings=embeddings,\n",
    ")"
   ]
  },
  {
   "cell_type": "markdown",
   "id": "f8d8d31c",
   "metadata": {},
   "source": [
    "Now you are all set to generate the dataset"
   ]
  },
  {
   "cell_type": "code",
   "execution_count": 5,
   "id": "fe03839d",
   "metadata": {},
   "outputs": [
    {
     "data": {
      "application/vnd.jupyter.widget-view+json": {
       "model_id": "e555d31a1f8f494a9533605c03ec4140",
       "version_major": 2,
       "version_minor": 0
      },
      "text/plain": [
       "embedding nodes:   0%|          | 0/54 [00:00<?, ?it/s]"
      ]
     },
     "metadata": {},
     "output_type": "display_data"
    },
    {
     "name": "stderr",
     "output_type": "stream",
     "text": [
      "Filename and doc_id are the same for all nodes.\n"
     ]
    },
    {
     "data": {
      "application/vnd.jupyter.widget-view+json": {
       "model_id": "33bc385c8b2040679eb3028de741e63c",
       "version_major": 2,
       "version_minor": 0
      },
      "text/plain": [
       "Generating:   0%|          | 0/5 [00:00<?, ?it/s]"
      ]
     },
     "metadata": {},
     "output_type": "display_data"
    }
   ],
   "source": [
    "# generate testset\n",
    "testset = generator.generate_with_llamaindex_docs(\n",
    "    documents,\n",
    "    test_size=5,\n",
    "    distributions={simple: 0.5, reasoning: 0.25, multi_context: 0.25},\n",
    ")"
   ]
  },
  {
   "cell_type": "code",
   "execution_count": 6,
   "id": "0b75a723",
   "metadata": {},
   "outputs": [
    {
     "data": {
      "text/html": [
       "<div>\n",
       "<style scoped>\n",
       "    .dataframe tbody tr th:only-of-type {\n",
       "        vertical-align: middle;\n",
       "    }\n",
       "\n",
       "    .dataframe tbody tr th {\n",
       "        vertical-align: top;\n",
       "    }\n",
       "\n",
       "    .dataframe thead th {\n",
       "        text-align: right;\n",
       "    }\n",
       "</style>\n",
       "<table border=\"1\" class=\"dataframe\">\n",
       "  <thead>\n",
       "    <tr style=\"text-align: right;\">\n",
       "      <th></th>\n",
       "      <th>question</th>\n",
       "      <th>contexts</th>\n",
       "      <th>ground_truth</th>\n",
       "      <th>evolution_type</th>\n",
       "      <th>metadata</th>\n",
       "      <th>episode_done</th>\n",
       "    </tr>\n",
       "  </thead>\n",
       "  <tbody>\n",
       "    <tr>\n",
       "      <th>0</th>\n",
       "      <td>What cultural movement began in New York City ...</td>\n",
       "      <td>[ Others cite the end of the crack epidemic an...</td>\n",
       "      <td>The Harlem Renaissance</td>\n",
       "      <td>simple</td>\n",
       "      <td>[{'file_path': '/home/jjmachan/jjmachan/explod...</td>\n",
       "      <td>True</td>\n",
       "    </tr>\n",
       "    <tr>\n",
       "      <th>1</th>\n",
       "      <td>What is the significance of New York City's tr...</td>\n",
       "      <td>[ consisting of 51 council members whose distr...</td>\n",
       "      <td>New York City's transportation system is both ...</td>\n",
       "      <td>simple</td>\n",
       "      <td>[{'file_path': '/home/jjmachan/jjmachan/explod...</td>\n",
       "      <td>True</td>\n",
       "    </tr>\n",
       "    <tr>\n",
       "      <th>2</th>\n",
       "      <td>What factors led to the creation of Central Pa...</td>\n",
       "      <td>[ next ten years with British troops stationed...</td>\n",
       "      <td>Public-minded members of the contemporaneous b...</td>\n",
       "      <td>reasoning</td>\n",
       "      <td>[{'file_path': '/home/jjmachan/jjmachan/explod...</td>\n",
       "      <td>True</td>\n",
       "    </tr>\n",
       "    <tr>\n",
       "      <th>3</th>\n",
       "      <td>What was the impact of the Treaty of Breda on ...</td>\n",
       "      <td>[ British raids. In 1626, the Dutch colonial D...</td>\n",
       "      <td>The Treaty of Breda confirmed the transfer of ...</td>\n",
       "      <td>multi_context</td>\n",
       "      <td>[{'file_path': '/home/jjmachan/jjmachan/explod...</td>\n",
       "      <td>True</td>\n",
       "    </tr>\n",
       "    <tr>\n",
       "      <th>4</th>\n",
       "      <td>What role did New York play in the American Re...</td>\n",
       "      <td>[ British raids. In 1626, the Dutch colonial D...</td>\n",
       "      <td>New York played a significant role in the Amer...</td>\n",
       "      <td>simple</td>\n",
       "      <td>[{'file_path': '/home/jjmachan/jjmachan/explod...</td>\n",
       "      <td>True</td>\n",
       "    </tr>\n",
       "  </tbody>\n",
       "</table>\n",
       "</div>"
      ],
      "text/plain": [
       "                                            question  \\\n",
       "0  What cultural movement began in New York City ...   \n",
       "1  What is the significance of New York City's tr...   \n",
       "2  What factors led to the creation of Central Pa...   \n",
       "3  What was the impact of the Treaty of Breda on ...   \n",
       "4  What role did New York play in the American Re...   \n",
       "\n",
       "                                            contexts  \\\n",
       "0  [ Others cite the end of the crack epidemic an...   \n",
       "1  [ consisting of 51 council members whose distr...   \n",
       "2  [ next ten years with British troops stationed...   \n",
       "3  [ British raids. In 1626, the Dutch colonial D...   \n",
       "4  [ British raids. In 1626, the Dutch colonial D...   \n",
       "\n",
       "                                        ground_truth evolution_type  \\\n",
       "0                             The Harlem Renaissance         simple   \n",
       "1  New York City's transportation system is both ...         simple   \n",
       "2  Public-minded members of the contemporaneous b...      reasoning   \n",
       "3  The Treaty of Breda confirmed the transfer of ...  multi_context   \n",
       "4  New York played a significant role in the Amer...         simple   \n",
       "\n",
       "                                            metadata  episode_done  \n",
       "0  [{'file_path': '/home/jjmachan/jjmachan/explod...          True  \n",
       "1  [{'file_path': '/home/jjmachan/jjmachan/explod...          True  \n",
       "2  [{'file_path': '/home/jjmachan/jjmachan/explod...          True  \n",
       "3  [{'file_path': '/home/jjmachan/jjmachan/explod...          True  \n",
       "4  [{'file_path': '/home/jjmachan/jjmachan/explod...          True  "
      ]
     },
     "execution_count": 6,
     "metadata": {},
     "output_type": "execute_result"
    }
   ],
   "source": [
    "df = testset.to_pandas()\n",
    "df.head()"
   ]
  },
  {
   "cell_type": "markdown",
   "id": "6107ea8b",
   "metadata": {},
   "source": [
    "with a test dataset to test our `QueryEngine` lets now build one and evaluate it."
   ]
  },
  {
   "cell_type": "markdown",
   "id": "abaf6538",
   "metadata": {},
   "source": [
    "## Building the `QueryEngine`\n",
    "\n",
    "To start lets build an `VectorStoreIndex` over the New York Citie's [wikipedia page](https://en.wikipedia.org/wiki/New_York_City) as an example and use ragas to evaluate it. \n",
    "\n",
    "Since we already loaded the dataset into `documents` lets use that."
   ]
  },
  {
   "cell_type": "code",
   "execution_count": 7,
   "id": "37c4a1cb",
   "metadata": {},
   "outputs": [],
   "source": [
    "# build query engine\n",
    "from llama_index.core import VectorStoreIndex, SimpleDirectoryReader\n",
    "from llama_index.core.settings import Settings\n",
    "\n",
    "vector_index = VectorStoreIndex.from_documents(documents)\n",
    "\n",
    "query_engine = vector_index.as_query_engine()"
   ]
  },
  {
   "cell_type": "markdown",
   "id": "13d676c0",
   "metadata": {},
   "source": [
    "Lets try an sample question from the generated testset to see if it is working"
   ]
  },
  {
   "cell_type": "code",
   "execution_count": 9,
   "id": "895d95b2",
   "metadata": {},
   "outputs": [
    {
     "data": {
      "text/plain": [
       "'What cultural movement began in New York City and established the African-American literary canon in the United States?'"
      ]
     },
     "execution_count": 9,
     "metadata": {},
     "output_type": "execute_result"
    }
   ],
   "source": [
    "# convert it to pandas dataset\n",
    "df = testset.to_pandas()\n",
    "df[\"question\"][0]"
   ]
  },
  {
   "cell_type": "code",
   "execution_count": 10,
   "id": "a25026c2",
   "metadata": {},
   "outputs": [
    {
     "name": "stdout",
     "output_type": "stream",
     "text": [
      "The Harlem Renaissance was the cultural movement that began in New York City and established the African-American literary canon in the United States.\n"
     ]
    }
   ],
   "source": [
    "response_vector = query_engine.query(df[\"question\"][0])\n",
    "\n",
    "print(response_vector)"
   ]
  },
  {
   "cell_type": "markdown",
   "id": "b678501e",
   "metadata": {},
   "source": [
    "## Evaluating the `QueryEngine`\n",
    "\n",
    "Now that we have a `QueryEngine` for the `VectorStoreIndex` we can use the llama_index integration Ragas has to evaluate it. \n",
    "\n",
    "In order to run an evaluation with Ragas and LlamaIndex you need 3 things\n",
    "\n",
    "1. LlamaIndex `QueryEngine`: what we will be evaluating\n",
    "2. Metrics: Ragas defines a set of metrics that can measure different aspects of the `QueryEngine`. The available metrics and their meaning can be found [here](https://github.com/explodinggradients/ragas/blob/main/docs/metrics.md)\n",
    "3. Questions: A list of questions that ragas will test the `QueryEngine` against. "
   ]
  },
  {
   "cell_type": "markdown",
   "id": "145109ad",
   "metadata": {},
   "source": [
    "first lets generate the questions. Ideally you should use that you see in production so that the distribution of question with which we evaluate matches the distribution of questions seen in production. This ensures that the scores reflect the performance seen in production but to start off we'll be using a few example question."
   ]
  },
  {
   "cell_type": "markdown",
   "id": "843bddb8",
   "metadata": {},
   "source": [
    "Now lets import the metrics we will be using to evaluate"
   ]
  },
  {
   "cell_type": "code",
   "execution_count": 11,
   "id": "9875132a",
   "metadata": {},
   "outputs": [],
   "source": [
    "from ragas.metrics import (\n",
    "    faithfulness,\n",
    "    answer_relevancy,\n",
    "    context_precision,\n",
    "    context_recall,\n",
    ")\n",
    "from ragas.metrics.critique import harmfulness\n",
    "\n",
    "metrics = [\n",
    "    faithfulness,\n",
    "    answer_relevancy,\n",
    "    context_precision,\n",
    "    context_recall,\n",
    "    harmfulness,\n",
    "]"
   ]
  },
  {
   "cell_type": "markdown",
   "id": "8230a307",
   "metadata": {},
   "source": [
    "now lets init the evaluator model"
   ]
  },
  {
   "cell_type": "code",
   "execution_count": 15,
   "id": "f8049166",
   "metadata": {},
   "outputs": [],
   "source": [
    "from llama_index.llms.openai import OpenAI\n",
    "from llama_index.embeddings.openai import OpenAIEmbedding\n",
    "\n",
    "# using GPT 3.5, use GPT 4 / 4-turbo for better accuracy\n",
    "evaluator_llm = OpenAI(model=\"gpt-3.5-turbo\")"
   ]
  },
  {
   "cell_type": "markdown",
   "id": "605e5d96",
   "metadata": {},
   "source": [
    "the `evaluate()` function expects a dict of \"question\" and \"ground_truth\" for metrics. You can easily convert the `testset` to that format"
   ]
  },
  {
   "cell_type": "code",
   "execution_count": 23,
   "id": "4b2a81ed",
   "metadata": {},
   "outputs": [
    {
     "data": {
      "text/plain": [
       "['The Harlem Renaissance',\n",
       " \"New York City's transportation system is both complex and extensive, with a comprehensive mass transit system that accounts for one in every three users of mass transit in the United States. The New York City Subway system is the largest rapid transit system in the world, and the city has a high usage of public transport, with a majority of households not owning a car. Due to their reliance on mass transit, New Yorkers spend less of their household income on transportation compared to the national average.\",\n",
       " 'Public-minded members of the contemporaneous business elite lobbied for the establishment of Central Park',\n",
       " 'The Treaty of Breda confirmed the transfer of New Amsterdam to English control and the renaming of the settlement as New York. The Duke of York, who would later become King James II and VII, played a significant role in the naming of New York City.',\n",
       " 'New York played a significant role in the American Revolution. The Stamp Act Congress met in New York in October 1765, and the city became a center for the Sons of Liberty organization. Skirmishes and battles took place in and around New York, including the Battle of Long Island and the Battle of Saratoga. The city was occupied by British forces for much of the war, but it was eventually liberated by American troops in 1783.']"
      ]
     },
     "execution_count": 23,
     "metadata": {},
     "output_type": "execute_result"
    }
   ],
   "source": [
    "# convert to HF dataset\n",
    "ds = testset.to_dataset()\n",
    "\n",
    "ds_dict = ds.to_dict()\n",
    "ds_dict[\"question\"]\n",
    "ds_dict[\"ground_truth\"]"
   ]
  },
  {
   "cell_type": "markdown",
   "id": "8ae4a2d1",
   "metadata": {},
   "source": [
    "Finally lets run the evaluation"
   ]
  },
  {
   "cell_type": "code",
   "execution_count": 24,
   "id": "05633cc2",
   "metadata": {},
   "outputs": [
    {
     "data": {
      "application/vnd.jupyter.widget-view+json": {
       "model_id": "261183e30af84047a6d8c18fdbef1d72",
       "version_major": 2,
       "version_minor": 0
      },
      "text/plain": [
       "Running Query Engine:   0%|          | 0/5 [00:00<?, ?it/s]"
      ]
     },
     "metadata": {},
     "output_type": "display_data"
    },
    {
     "data": {
      "application/vnd.jupyter.widget-view+json": {
       "model_id": "fd465e91cf81472ea57683bb67ee9860",
       "version_major": 2,
       "version_minor": 0
      },
      "text/plain": [
       "Evaluating:   0%|          | 0/25 [00:00<?, ?it/s]"
      ]
     },
     "metadata": {},
     "output_type": "display_data"
    },
    {
     "name": "stderr",
     "output_type": "stream",
     "text": [
      "n values greater than 1 not support for LlamaIndex LLMs\n",
      "n values greater than 1 not support for LlamaIndex LLMs\n",
      "n values greater than 1 not support for LlamaIndex LLMs\n",
      "n values greater than 1 not support for LlamaIndex LLMs\n",
      "n values greater than 1 not support for LlamaIndex LLMs\n"
     ]
    }
   ],
   "source": [
    "from ragas.integrations.llama_index import evaluate\n",
    "\n",
    "result = evaluate(\n",
    "    query_engine=query_engine,\n",
    "    metrics=metrics,\n",
    "    dataset=ds_dict,\n",
    "    llm=evaluator_llm,\n",
    "    embeddings=OpenAIEmbedding(),\n",
    ")"
   ]
  },
  {
   "cell_type": "code",
   "execution_count": 25,
   "id": "f927a943",
   "metadata": {},
   "outputs": [
    {
     "name": "stdout",
     "output_type": "stream",
     "text": [
      "{'faithfulness': 0.9000, 'answer_relevancy': 0.8993, 'context_precision': 0.9000, 'context_recall': 1.0000, 'harmfulness': 0.0000}\n"
     ]
    }
   ],
   "source": [
    "# final scores\n",
    "print(result)"
   ]
  },
  {
   "cell_type": "markdown",
   "id": "878b6b82",
   "metadata": {},
   "source": [
    "You can convert into a pandas dataframe to run more analysis on it."
   ]
  },
  {
   "cell_type": "code",
   "execution_count": 26,
   "id": "b96311e2",
   "metadata": {},
   "outputs": [
    {
     "data": {
      "text/html": [
       "<div>\n",
       "<style scoped>\n",
       "    .dataframe tbody tr th:only-of-type {\n",
       "        vertical-align: middle;\n",
       "    }\n",
       "\n",
       "    .dataframe tbody tr th {\n",
       "        vertical-align: top;\n",
       "    }\n",
       "\n",
       "    .dataframe thead th {\n",
       "        text-align: right;\n",
       "    }\n",
       "</style>\n",
       "<table border=\"1\" class=\"dataframe\">\n",
       "  <thead>\n",
       "    <tr style=\"text-align: right;\">\n",
       "      <th></th>\n",
       "      <th>question</th>\n",
       "      <th>contexts</th>\n",
       "      <th>answer</th>\n",
       "      <th>ground_truth</th>\n",
       "      <th>faithfulness</th>\n",
       "      <th>answer_relevancy</th>\n",
       "      <th>context_precision</th>\n",
       "      <th>context_recall</th>\n",
       "      <th>harmfulness</th>\n",
       "    </tr>\n",
       "  </thead>\n",
       "  <tbody>\n",
       "    <tr>\n",
       "      <th>0</th>\n",
       "      <td>What cultural movement began in New York City ...</td>\n",
       "      <td>[=== 19th century ===\\n\\nOver the course of th...</td>\n",
       "      <td>The Harlem Renaissance of literary and cultura...</td>\n",
       "      <td>The Harlem Renaissance</td>\n",
       "      <td>0.5</td>\n",
       "      <td>0.907646</td>\n",
       "      <td>0.5</td>\n",
       "      <td>1.0</td>\n",
       "      <td>0</td>\n",
       "    </tr>\n",
       "    <tr>\n",
       "      <th>1</th>\n",
       "      <td>What is the significance of New York City's tr...</td>\n",
       "      <td>[== Transportation ==\\n\\nNew York City's compr...</td>\n",
       "      <td>New York City's transportation system is signi...</td>\n",
       "      <td>New York City's transportation system is both ...</td>\n",
       "      <td>1.0</td>\n",
       "      <td>0.986921</td>\n",
       "      <td>1.0</td>\n",
       "      <td>1.0</td>\n",
       "      <td>0</td>\n",
       "    </tr>\n",
       "    <tr>\n",
       "      <th>2</th>\n",
       "      <td>What factors led to the creation of Central Pa...</td>\n",
       "      <td>[=== 19th century ===\\n\\nOver the course of th...</td>\n",
       "      <td>Prominent American literary figures lived in N...</td>\n",
       "      <td>Public-minded members of the contemporaneous b...</td>\n",
       "      <td>1.0</td>\n",
       "      <td>0.805014</td>\n",
       "      <td>1.0</td>\n",
       "      <td>1.0</td>\n",
       "      <td>0</td>\n",
       "    </tr>\n",
       "    <tr>\n",
       "      <th>3</th>\n",
       "      <td>What was the impact of the Treaty of Breda on ...</td>\n",
       "      <td>[=== Dutch rule ===\\n\\nA permanent European pr...</td>\n",
       "      <td>The Treaty of Breda resulted in the transfer o...</td>\n",
       "      <td>The Treaty of Breda confirmed the transfer of ...</td>\n",
       "      <td>1.0</td>\n",
       "      <td>0.860931</td>\n",
       "      <td>1.0</td>\n",
       "      <td>1.0</td>\n",
       "      <td>0</td>\n",
       "    </tr>\n",
       "    <tr>\n",
       "      <th>4</th>\n",
       "      <td>What role did New York play in the American Re...</td>\n",
       "      <td>[=== Province of New York and slavery ===\\n\\nI...</td>\n",
       "      <td>New York served as a significant location duri...</td>\n",
       "      <td>New York played a significant role in the Amer...</td>\n",
       "      <td>1.0</td>\n",
       "      <td>0.935846</td>\n",
       "      <td>1.0</td>\n",
       "      <td>1.0</td>\n",
       "      <td>0</td>\n",
       "    </tr>\n",
       "  </tbody>\n",
       "</table>\n",
       "</div>"
      ],
      "text/plain": [
       "                                            question  \\\n",
       "0  What cultural movement began in New York City ...   \n",
       "1  What is the significance of New York City's tr...   \n",
       "2  What factors led to the creation of Central Pa...   \n",
       "3  What was the impact of the Treaty of Breda on ...   \n",
       "4  What role did New York play in the American Re...   \n",
       "\n",
       "                                            contexts  \\\n",
       "0  [=== 19th century ===\\n\\nOver the course of th...   \n",
       "1  [== Transportation ==\\n\\nNew York City's compr...   \n",
       "2  [=== 19th century ===\\n\\nOver the course of th...   \n",
       "3  [=== Dutch rule ===\\n\\nA permanent European pr...   \n",
       "4  [=== Province of New York and slavery ===\\n\\nI...   \n",
       "\n",
       "                                              answer  \\\n",
       "0  The Harlem Renaissance of literary and cultura...   \n",
       "1  New York City's transportation system is signi...   \n",
       "2  Prominent American literary figures lived in N...   \n",
       "3  The Treaty of Breda resulted in the transfer o...   \n",
       "4  New York served as a significant location duri...   \n",
       "\n",
       "                                        ground_truth  faithfulness  \\\n",
       "0                             The Harlem Renaissance           0.5   \n",
       "1  New York City's transportation system is both ...           1.0   \n",
       "2  Public-minded members of the contemporaneous b...           1.0   \n",
       "3  The Treaty of Breda confirmed the transfer of ...           1.0   \n",
       "4  New York played a significant role in the Amer...           1.0   \n",
       "\n",
       "   answer_relevancy  context_precision  context_recall  harmfulness  \n",
       "0          0.907646                0.5             1.0            0  \n",
       "1          0.986921                1.0             1.0            0  \n",
       "2          0.805014                1.0             1.0            0  \n",
       "3          0.860931                1.0             1.0            0  \n",
       "4          0.935846                1.0             1.0            0  "
      ]
     },
     "execution_count": 26,
     "metadata": {},
     "output_type": "execute_result"
    }
   ],
   "source": [
    "result.to_pandas()"
   ]
  }
 ],
 "metadata": {
  "kernelspec": {
   "display_name": "Python 3 (ipykernel)",
   "language": "python",
   "name": "python3"
  },
  "language_info": {
   "codemirror_mode": {
    "name": "ipython",
    "version": 3
   },
   "file_extension": ".py",
   "mimetype": "text/x-python",
   "name": "python",
   "nbconvert_exporter": "python",
   "pygments_lexer": "ipython3",
   "version": "3.10.12"
  }
 },
 "nbformat": 4,
 "nbformat_minor": 5
}
