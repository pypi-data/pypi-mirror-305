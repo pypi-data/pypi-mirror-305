{
 "cells": [
  {
   "cell_type": "code",
   "metadata": {
    "ExecuteTime": {
     "end_time": "2024-10-08T21:20:45.765492Z",
     "start_time": "2024-10-08T21:20:45.162912Z"
    }
   },
   "source": [
    "from pymab.policies.greedy import GreedyPolicy\n",
    "from pymab.game import Game"
   ],
   "outputs": [],
   "execution_count": 1
  },
  {
   "cell_type": "code",
   "metadata": {},
   "source": [
    "# Define Q-values, which are the true values of the bandits\n",
    "#Q_values = np.array([0.1, 0.5, -0.2, 0.4, 0.7, 0.45, 0.3, 0.2, 0.05, -0.1])\n",
    "n_bandits = 10\n",
    "\n",
    "# Initialize the GreedyPolicy\n",
    "policy = GreedyPolicy(optimistic_initialization=1,\n",
    "                      n_bandits=n_bandits)\n",
    "\n",
    "# Setup the game\n",
    "game = Game(n_episodes=2000, \n",
    "            n_steps=1000, \n",
    "            policies=[policy], \n",
    "            n_bandits=n_bandits)\n",
    "\n",
    "# Run the game\n",
    "game.game_loop()\n",
    "\n",
    "# Plot the results\n",
    "game.plot_average_reward_by_step()"
   ],
   "outputs": [],
   "execution_count": null
  }
 ],
 "metadata": {
  "kernelspec": {
   "display_name": "ml_experiments",
   "language": "python",
   "name": "python3"
  },
  "language_info": {
   "codemirror_mode": {
    "name": "ipython",
    "version": 3
   },
   "file_extension": ".py",
   "mimetype": "text/x-python",
   "name": "python",
   "nbconvert_exporter": "python",
   "pygments_lexer": "ipython3",
   "version": "3.10.14"
  }
 },
 "nbformat": 4,
 "nbformat_minor": 2
}
