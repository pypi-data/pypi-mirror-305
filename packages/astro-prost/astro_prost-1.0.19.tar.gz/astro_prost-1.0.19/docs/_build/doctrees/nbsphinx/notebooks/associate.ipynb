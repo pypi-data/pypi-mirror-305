{
 "cells": [
  {
   "cell_type": "markdown",
   "id": "textblock1",
   "metadata": {
    "cell_marker": "\"\"\""
   },
   "source": [
    "# Host-Galaxy Association with Pröst\n",
    "\n",
    "### This notebook shows the basics of prost for host-galaxy association."
   ]
  },
  {
   "cell_type": "markdown",
   "id": "9f4c839d-c3a4-4700-911d-7cb0672f2c34",
   "metadata": {},
   "source": [
    "First, let's import some relevant packages. We'll need distributions to define our priors and likelihoods."
   ]
  },
  {
   "cell_type": "code",
   "execution_count": 1,
   "id": "codeblock1",
   "metadata": {},
   "outputs": [],
   "source": [
    "import pandas as pd\n",
    "from scipy.stats import gamma, halfnorm, uniform\n",
    "from astropy.cosmology import LambdaCDM\n",
    "import matplotlib\n",
    "import matplotlib.pyplot as plt\n",
    "import seaborn as sns \n",
    "\n",
    "#pretty plotting\n",
    "sns.set_context(\"poster\")\n",
    "\n",
    "#enable interactive plotting\n",
    "%matplotlib inline"
   ]
  },
  {
   "cell_type": "markdown",
   "id": "1c8e3139-8800-4911-9a27-db01be81d247",
   "metadata": {},
   "source": [
    "Pröst also provides a custom distribution object for the expected redshift of a transient with a given brightness and fixed volumetric rate. "
   ]
  },
  {
   "cell_type": "code",
   "execution_count": 2,
   "id": "617ef8b0-bc3e-4834-bbc2-a4e0b96a5368",
   "metadata": {},
   "outputs": [],
   "source": [
    "from astro_prost.helpers import PriorzObservedTransients, SnRateAbsmag"
   ]
  },
  {
   "cell_type": "markdown",
   "id": "7b55aa2e-dfaa-410a-8685-284c3c528e55",
   "metadata": {},
   "source": [
    "Next, we import the functions that do the bulk of the work."
   ]
  },
  {
   "cell_type": "code",
   "execution_count": 3,
   "id": "5c12b0a7-4b89-4564-a9e9-89fc072bb7a1",
   "metadata": {
    "cell_marker": "\"\"\"",
    "lines_to_next_cell": 1
   },
   "outputs": [],
   "source": [
    "from astro_prost.associate import associate_sample, prepare_catalog"
   ]
  },
  {
   "cell_type": "markdown",
   "id": "f722140b-4fb9-40b8-bed8-3536c88053f0",
   "metadata": {},
   "source": [
    "Now let's read in a transient catalog, which should have at least the name and coordinates of the transients. Here, we use the [ZTF BTS](https://sites.astro.caltech.edu/ztf/bts/explorer.php?f=s&subsample=trans&classstring=&endpeakmag=19.0&purity=y&quality=y) sample."
   ]
  },
  {
   "cell_type": "code",
   "execution_count": 4,
   "id": "codeblock2",
   "metadata": {},
   "outputs": [
    {
     "name": "stdout",
     "output_type": "stream",
     "text": [
      "          IAUID           RA          Dec\n",
      "4736  SN2023gaj  19:50:44.47  +57:33:14.6\n",
      "836   SN2019hte  14:34:13.60  +21:36:05.9\n",
      "3165  SN2021nli  14:02:12.66  -18:45:16.1\n",
      "2214  SN2020thn  00:06:56.11  +45:05:29.8\n",
      "2176  SN2020svi  00:30:31.84  +33:12:27.7\n",
      "675   SN2019dgw  19:11:11.79  +48:29:33.6\n",
      "2240  SN2020uao  01:08:47.61  +27:02:42.0\n",
      "2824  SN2021dps  08:00:54.09  -02:13:38.5\n",
      "3763  SN2022gpw  10:47:42.19  +54:24:41.5\n",
      "4167  SN2022rjx  00:19:10.68  +29:19:56.3\n"
     ]
    }
   ],
   "source": [
    "transient_catalog = pd.read_csv(\"../../src/astro_prost/data/ZTFBTS_TransientTable.csv\")\n",
    "\n",
    "#only take the first 10 events \n",
    "transient_catalog = transient_catalog.sample(n=10)\n",
    "\n",
    "print(transient_catalog.sample(frac=1)[['IAUID', 'RA', 'Dec']])"
   ]
  },
  {
   "cell_type": "markdown",
   "id": "793ab1d1-831b-4f59-8f5e-f1c1b0611284",
   "metadata": {},
   "source": [
    "Next, we define the priors for the association. By default, Pröst defines priors on a transient's observed(!)\n",
    "* Redshift distribution\n",
    "* Fractional radial offset from its host galaxy (defined in units of the host's [Directional Light Radius](https://arxiv.org/pdf/1604.06138))\n",
    "* Host galaxy brightness, in absolute magnitude ($B$-band if associating with the glade catalog, else the median across $griz$)"
   ]
  },
  {
   "cell_type": "markdown",
   "id": "4edf6fb5-3735-407e-b9f0-68e88894ee6a",
   "metadata": {},
   "source": [
    "We'll keep things simple for now, and assume that we detect fewer events with redshift, with broad uniform priors for brightness and fractional offset. "
   ]
  },
  {
   "cell_type": "code",
   "execution_count": 5,
   "id": "codeblock3",
   "metadata": {},
   "outputs": [],
   "source": [
    "# define priors for properties\n",
    "priorfunc_z = halfnorm(loc=0.0001, scale=0.5)\n",
    "priorfunc_offset = uniform(loc=0, scale=10)\n",
    "priorfunc_absmag = uniform(loc=-30, scale=20)"
   ]
  },
  {
   "cell_type": "markdown",
   "id": "ec975d37-b2a9-4efd-bc96-3f0b1c8bfba5",
   "metadata": {},
   "source": [
    "If, instead, you want the redshift prior to be based on an observed distribution of transients within a given absolute magnitude range, \n",
    "we can build an empirical distribution by uniformly distributed transients in a cosmological volume between $z_{min}$ and $z_{max}$, and call \n",
    "the the subset with peak brightness above $mag_{cutoff}$ to be \"observed\". \n",
    "\n",
    "By default, the code draws a transient's peak brightness from a truncated gaussian from $absmag_{min}$ to $absmag_{max}$, with mean of $absmag_{mean}$. "
   ]
  },
  {
   "cell_type": "code",
   "execution_count": 6,
   "id": "501096dc-96c9-404d-9221-a183dfd151b9",
   "metadata": {},
   "outputs": [],
   "source": [
    "cosmo = LambdaCDM(H0=70, Om0=0.3, Ode0=0.7)\n",
    "priorfunc_z = PriorzObservedTransients(z_min=0, z_max=1, mag_cutoff=19, absmag_mean=-19, absmag_min=-24, absmag_max=-17, cosmo=cosmo)"
   ]
  },
  {
   "cell_type": "markdown",
   "id": "a6c9817f-595e-4856-b103-281e02eb20ac",
   "metadata": {},
   "source": [
    "We can then plot the resulting distribution:"
   ]
  },
  {
   "cell_type": "code",
   "execution_count": 7,
   "id": "65085764-6abe-4810-a022-a138b61e52ac",
   "metadata": {},
   "outputs": [
    {
     "name": "stderr",
     "output_type": "stream",
     "text": [
      "/Users/alexgagliano/miniconda3/envs/prost/lib/python3.12/site-packages/astro_prost/helpers.py:988: UserWarning: FigureCanvasAgg is non-interactive, and thus cannot be shown\n",
      "  plt.show()\n"
     ]
    }
   ],
   "source": [
    "#broken for now\n",
    "priorfunc_z.plot()"
   ]
  },
  {
   "cell_type": "markdown",
   "id": "b14b3f91-e2d5-4238-87a4-1cc696391cd7",
   "metadata": {},
   "source": [
    "The pdf of the distribution can be evaluated and sampled:"
   ]
  },
  {
   "cell_type": "code",
   "execution_count": 8,
   "id": "8226cba3-64e1-4761-9e53-60ec33c66e4f",
   "metadata": {},
   "outputs": [
    {
     "name": "stdout",
     "output_type": "stream",
     "text": [
      "[0.27505459 0.67008328 0.10710514 0.32168342 0.20314816 0.38112814\n",
      " 0.14421972 0.02969649 0.13405895 0.08333242]\n"
     ]
    }
   ],
   "source": [
    "z_samples = priorfunc_z.rvs(10)\n",
    "print(z_samples)"
   ]
  },
  {
   "cell_type": "code",
   "execution_count": 9,
   "id": "7f053623-8159-4a24-a512-aaaab7e1e6ac",
   "metadata": {},
   "outputs": [
    {
     "data": {
      "text/plain": [
       "array([2.07589643, 0.02620794, 3.68362149, 1.43950389, 3.15583918,\n",
       "       0.8460035 , 3.84571512, 1.00366773, 3.84074048, 3.21932454])"
      ]
     },
     "execution_count": 9,
     "metadata": {},
     "output_type": "execute_result"
    }
   ],
   "source": [
    "priorfunc_z.pdf(z_samples)"
   ]
  },
  {
   "cell_type": "markdown",
   "id": "3f5f7fbb-0001-43d6-a756-6e8b0c6bf865",
   "metadata": {},
   "source": [
    "Next, we set the likelihoods. Note that we only set these for fractional offset and brightness; the redshift likelihood comes from comparing the photometric redshifts of candidate galaxies with the redshift of the transient (if available). "
   ]
  },
  {
   "cell_type": "code",
   "execution_count": 10,
   "id": "c070b8e9-e56c-4f5e-ae79-57e4be34f53d",
   "metadata": {},
   "outputs": [],
   "source": [
    "likefunc_offset = gamma(a=0.75)\n",
    "likefunc_absmag = SnRateAbsmag(a=-25, b=20)\n",
    "\n",
    "priors = {\"offset\": priorfunc_offset, \"absmag\": priorfunc_absmag, \"z\": priorfunc_z}\n",
    "likes = {\"offset\": likefunc_offset, \"absmag\": likefunc_absmag}"
   ]
  },
  {
   "cell_type": "code",
   "execution_count": 11,
   "id": "e3ddcac3-e17d-4d05-8bfd-1b2477a8986b",
   "metadata": {},
   "outputs": [],
   "source": [
    "plt.hist(likefunc_offset.rvs(size=10000));\n",
    "plt.xlabel(r\"Fractional Offset ($\\theta$/DLR)\");\n",
    "plt.ylabel(\"Likelihood PDF\");"
   ]
  },
  {
   "cell_type": "markdown",
   "id": "a1d4bb4d-8b81-40d0-9c1f-71d2a462b34d",
   "metadata": {},
   "source": [
    "Our likelihood for fractional offset sharply peaks near 0: if a transient is sitting on top of a galaxy, odds are very good that it's the host. The likelihood for host galaxy brightness is set here to a supernova-based likelihood, which increases with absolute magnitude."
   ]
  },
  {
   "cell_type": "code",
   "execution_count": 12,
   "id": "8b1cb3f5-19c7-487f-8d51-981dc4fb34be",
   "metadata": {},
   "outputs": [],
   "source": [
    "plt.hist(likefunc_absmag.rvs(size=1000))\n",
    "plt.xlabel(r\"Host Absolute Magnitude\");\n",
    "plt.ylabel(\"Likelihood PDF\");"
   ]
  },
  {
   "cell_type": "markdown",
   "id": "573a067e-4d77-4c3a-8cc9-4eec9afcc586",
   "metadata": {},
   "source": [
    "Next, let's set up the properties of the run:"
   ]
  },
  {
   "cell_type": "code",
   "execution_count": 15,
   "id": "2151c21f-08d1-484c-a42a-c75afd777ccf",
   "metadata": {},
   "outputs": [],
   "source": [
    "# list of catalogs to search -- options are (in order) glade, decals, panstarrs\n",
    "# If multiple are listed, the code stops whenever it finds a high-probability host\n",
    "catalogs = [\"panstarrs\"]\n",
    "\n",
    "# The name of the coordinate columns in the dataframe\n",
    "# Can be in string hourangle, deg or decimal degrees\n",
    "transient_coord_cols = (\"RA\", \"Dec\")\n",
    "\n",
    "# the column corresponding to transient names\n",
    "transient_name_col = \"IAUID\"\n",
    "\n",
    "# can be 0, 1, or 2\n",
    "verbose = 1\n",
    "\n",
    "# If true, enables multiprocessing with mpire (cannot be run in this notebook)\n",
    "parallel = False\n",
    "\n",
    "# If true, saves the results of the run to disk (alternative is to return them directly)\n",
    "save = False\n",
    "\n",
    "# If true, shows a progress bar for each association (only available when parallel=True)\n",
    "progress_bar = False\n",
    "\n",
    "# If true, concatenates the source properties from the matched catalog to the returned results\n",
    "cat_cols = True"
   ]
  },
  {
   "cell_type": "code",
   "execution_count": 16,
   "id": "e88a1f19-fd0a-4b39-9e37-dc1311883b52",
   "metadata": {},
   "outputs": [
    {
     "name": "stdout",
     "output_type": "stream",
     "text": [
      "Associating for SN2021nli at RA, DEC = {transient.position.ra.deg:.6f}, {transient.position.dec.deg:.6f}\n",
      "Removing panstarrs shreds...\n",
      "Removing 21 indices from tentative matches in panstarrs!\n",
      "\u001b[1m19/19\u001b[0m \u001b[32m━━━━━━━━━━━━━━━━━━━━\u001b[0m\u001b[37m\u001b[0m \u001b[1m0s\u001b[0m 2ms/step \n",
      "Association successful!\n",
      "Found a good host in panstarrs!\n",
      "Chosen galaxy has catalog ID of 85492105476205387and RA, DEC = {best_ra:.6f}, {best_dec:.6f}\n",
      "Getting img with size len 35.18...\n"
     ]
    },
    {
     "ename": "IndexError",
     "evalue": "list index out of range",
     "output_type": "error",
     "traceback": [
      "\u001b[0;31m---------------------------------------------------------------------------\u001b[0m",
      "\u001b[0;31mIndexError\u001b[0m                                Traceback (most recent call last)",
      "Cell \u001b[0;32mIn[16], line 7\u001b[0m\n\u001b[1;32m      1\u001b[0m transient_catalog \u001b[38;5;241m=\u001b[39m prepare_catalog(\n\u001b[1;32m      2\u001b[0m     transient_catalog, transient_name_col\u001b[38;5;241m=\u001b[39mtransient_name_col, transient_coord_cols\u001b[38;5;241m=\u001b[39mtransient_coord_cols\n\u001b[1;32m      3\u001b[0m )\n\u001b[1;32m      5\u001b[0m \u001b[38;5;66;03m# cosmology can be specified, else flat lambdaCDM is assumed with H0=70, Om0=0.3, Ode0=0.7\u001b[39;00m\n\u001b[1;32m      6\u001b[0m transient_catalog_with_hosts \u001b[38;5;241m=\u001b[39m \\\n\u001b[0;32m----> 7\u001b[0m     \u001b[43massociate_sample\u001b[49m\u001b[43m(\u001b[49m\n\u001b[1;32m      8\u001b[0m \u001b[43m        \u001b[49m\u001b[43mtransient_catalog\u001b[49m\u001b[43m,\u001b[49m\n\u001b[1;32m      9\u001b[0m \u001b[43m        \u001b[49m\u001b[43mpriors\u001b[49m\u001b[38;5;241;43m=\u001b[39;49m\u001b[43mpriors\u001b[49m\u001b[43m,\u001b[49m\n\u001b[1;32m     10\u001b[0m \u001b[43m        \u001b[49m\u001b[43mlikes\u001b[49m\u001b[38;5;241;43m=\u001b[39;49m\u001b[43mlikes\u001b[49m\u001b[43m,\u001b[49m\n\u001b[1;32m     11\u001b[0m \u001b[43m        \u001b[49m\u001b[43mcatalogs\u001b[49m\u001b[38;5;241;43m=\u001b[39;49m\u001b[43mcatalogs\u001b[49m\u001b[43m,\u001b[49m\n\u001b[1;32m     12\u001b[0m \u001b[43m        \u001b[49m\u001b[43mparallel\u001b[49m\u001b[38;5;241;43m=\u001b[39;49m\u001b[43mparallel\u001b[49m\u001b[43m,\u001b[49m\n\u001b[1;32m     13\u001b[0m \u001b[43m        \u001b[49m\u001b[43mverbose\u001b[49m\u001b[38;5;241;43m=\u001b[39;49m\u001b[43mverbose\u001b[49m\u001b[43m,\u001b[49m\n\u001b[1;32m     14\u001b[0m \u001b[43m        \u001b[49m\u001b[43msave\u001b[49m\u001b[38;5;241;43m=\u001b[39;49m\u001b[43msave\u001b[49m\u001b[43m,\u001b[49m\n\u001b[1;32m     15\u001b[0m \u001b[43m        \u001b[49m\u001b[43mprogress_bar\u001b[49m\u001b[38;5;241;43m=\u001b[39;49m\u001b[43mprogress_bar\u001b[49m\u001b[43m,\u001b[49m\n\u001b[1;32m     16\u001b[0m \u001b[43m        \u001b[49m\u001b[43mcat_cols\u001b[49m\u001b[38;5;241;43m=\u001b[39;49m\u001b[43mcat_cols\u001b[49m\u001b[43m,\u001b[49m\n\u001b[1;32m     17\u001b[0m \u001b[43m)\u001b[49m\n",
      "File \u001b[0;32m~/miniconda3/envs/prost/lib/python3.12/site-packages/astro_prost/associate.py:409\u001b[0m, in \u001b[0;36massociate_sample\u001b[0;34m(transient_catalog, catalogs, priors, likes, n_samples, verbose, parallel, save, save_path, cat_cols, progress_bar, cosmology)\u001b[0m\n\u001b[1;32m    407\u001b[0m             pool\u001b[38;5;241m.\u001b[39mstop_and_join()\n\u001b[1;32m    408\u001b[0m \u001b[38;5;28;01melse\u001b[39;00m:\n\u001b[0;32m--> 409\u001b[0m     results \u001b[38;5;241m=\u001b[39m [\u001b[43massociate_transient\u001b[49m\u001b[43m(\u001b[49m\u001b[38;5;241;43m*\u001b[39;49m\u001b[43mevent\u001b[49m\u001b[43m)\u001b[49m \u001b[38;5;28;01mfor\u001b[39;00m event \u001b[38;5;129;01min\u001b[39;00m events]\n\u001b[1;32m    411\u001b[0m \u001b[38;5;28;01mif\u001b[39;00m \u001b[38;5;129;01mnot\u001b[39;00m parallel \u001b[38;5;129;01mor\u001b[39;00m os\u001b[38;5;241m.\u001b[39menviron\u001b[38;5;241m.\u001b[39mget(envkey) \u001b[38;5;241m==\u001b[39m \u001b[38;5;28mstr\u001b[39m(os\u001b[38;5;241m.\u001b[39mgetpid()):\n\u001b[1;32m    412\u001b[0m     \u001b[38;5;66;03m# Update transient_catalog with results\u001b[39;00m\n\u001b[1;32m    414\u001b[0m     main_results \u001b[38;5;241m=\u001b[39m [res[:\u001b[38;5;241m-\u001b[39m\u001b[38;5;241m1\u001b[39m] \u001b[38;5;28;01mfor\u001b[39;00m res \u001b[38;5;129;01min\u001b[39;00m results]\n",
      "File \u001b[0;32m~/miniconda3/envs/prost/lib/python3.12/site-packages/astro_prost/associate.py:178\u001b[0m, in \u001b[0;36massociate_transient\u001b[0;34m(idx, row, glade_catalog, n_samples, verbose, priorfunc_z, priorfunc_offset, priorfunc_absmag, likefunc_offset, likefunc_absmag, cosmo, catalogs, cat_cols)\u001b[0m\n\u001b[1;32m    173\u001b[0m \u001b[38;5;28mprint\u001b[39m(\n\u001b[1;32m    174\u001b[0m     \u001b[38;5;124mf\u001b[39m\u001b[38;5;124m\"\u001b[39m\u001b[38;5;124mChosen galaxy has catalog ID of \u001b[39m\u001b[38;5;132;01m{\u001b[39;00mbest_objid\u001b[38;5;132;01m}\u001b[39;00m\u001b[38;5;124m\"\u001b[39m\n\u001b[1;32m    175\u001b[0m     \u001b[38;5;124m\"\u001b[39m\u001b[38;5;124mand RA, DEC = \u001b[39m\u001b[38;5;132;01m{best_ra:.6f}\u001b[39;00m\u001b[38;5;124m, \u001b[39m\u001b[38;5;132;01m{best_dec:.6f}\u001b[39;00m\u001b[38;5;124m\"\u001b[39m\n\u001b[1;32m    176\u001b[0m )\n\u001b[1;32m    177\u001b[0m \u001b[38;5;28;01mtry\u001b[39;00m:\n\u001b[0;32m--> 178\u001b[0m     \u001b[43mplot_match\u001b[49m\u001b[43m(\u001b[49m\n\u001b[1;32m    179\u001b[0m \u001b[43m        \u001b[49m\u001b[43m[\u001b[49m\u001b[43mbest_ra\u001b[49m\u001b[43m]\u001b[49m\u001b[43m,\u001b[49m\n\u001b[1;32m    180\u001b[0m \u001b[43m        \u001b[49m\u001b[43m[\u001b[49m\u001b[43mbest_dec\u001b[49m\u001b[43m]\u001b[49m\u001b[43m,\u001b[49m\n\u001b[1;32m    181\u001b[0m \u001b[43m        \u001b[49m\u001b[38;5;28;43;01mNone\u001b[39;49;00m\u001b[43m,\u001b[49m\n\u001b[1;32m    182\u001b[0m \u001b[43m        \u001b[49m\u001b[38;5;28;43;01mNone\u001b[39;49;00m\u001b[43m,\u001b[49m\n\u001b[1;32m    183\u001b[0m \u001b[43m        \u001b[49m\u001b[43mcat\u001b[49m\u001b[38;5;241;43m.\u001b[39;49m\u001b[43mgalaxies\u001b[49m\u001b[43m[\u001b[49m\u001b[38;5;124;43m\"\u001b[39;49m\u001b[38;5;124;43mz_best_mean\u001b[39;49m\u001b[38;5;124;43m\"\u001b[39;49m\u001b[43m]\u001b[49m\u001b[43m[\u001b[49m\u001b[43mbest_idx\u001b[49m\u001b[43m]\u001b[49m\u001b[43m,\u001b[49m\n\u001b[1;32m    184\u001b[0m \u001b[43m        \u001b[49m\u001b[43mcat\u001b[49m\u001b[38;5;241;43m.\u001b[39;49m\u001b[43mgalaxies\u001b[49m\u001b[43m[\u001b[49m\u001b[38;5;124;43m\"\u001b[39;49m\u001b[38;5;124;43mz_best_std\u001b[39;49m\u001b[38;5;124;43m\"\u001b[39;49m\u001b[43m]\u001b[49m\u001b[43m[\u001b[49m\u001b[43mbest_idx\u001b[49m\u001b[43m]\u001b[49m\u001b[43m,\u001b[49m\n\u001b[1;32m    185\u001b[0m \u001b[43m        \u001b[49m\u001b[43mtransient\u001b[49m\u001b[38;5;241;43m.\u001b[39;49m\u001b[43mposition\u001b[49m\u001b[38;5;241;43m.\u001b[39;49m\u001b[43mra\u001b[49m\u001b[38;5;241;43m.\u001b[39;49m\u001b[43mdeg\u001b[49m\u001b[43m,\u001b[49m\n\u001b[1;32m    186\u001b[0m \u001b[43m        \u001b[49m\u001b[43mtransient\u001b[49m\u001b[38;5;241;43m.\u001b[39;49m\u001b[43mposition\u001b[49m\u001b[38;5;241;43m.\u001b[39;49m\u001b[43mdec\u001b[49m\u001b[38;5;241;43m.\u001b[39;49m\u001b[43mdeg\u001b[49m\u001b[43m,\u001b[49m\n\u001b[1;32m    187\u001b[0m \u001b[43m        \u001b[49m\u001b[43mtransient\u001b[49m\u001b[38;5;241;43m.\u001b[39;49m\u001b[43mname\u001b[49m\u001b[43m,\u001b[49m\n\u001b[1;32m    188\u001b[0m \u001b[43m        \u001b[49m\u001b[43mtransient\u001b[49m\u001b[38;5;241;43m.\u001b[39;49m\u001b[43mredshift\u001b[49m\u001b[43m,\u001b[49m\n\u001b[1;32m    189\u001b[0m \u001b[43m        \u001b[49m\u001b[38;5;241;43m0\u001b[39;49m\u001b[43m,\u001b[49m\n\u001b[1;32m    190\u001b[0m \u001b[43m        \u001b[49m\u001b[38;5;124;43mf\u001b[39;49m\u001b[38;5;124;43m\"\u001b[39;49m\u001b[38;5;132;43;01m{\u001b[39;49;00m\u001b[43mtransient\u001b[49m\u001b[38;5;241;43m.\u001b[39;49m\u001b[43mname\u001b[49m\u001b[38;5;132;43;01m}\u001b[39;49;00m\u001b[38;5;124;43m_\u001b[39;49m\u001b[38;5;132;43;01m{\u001b[39;49;00m\u001b[43mcat_name\u001b[49m\u001b[38;5;132;43;01m}\u001b[39;49;00m\u001b[38;5;124;43m\"\u001b[39;49m\u001b[43m,\u001b[49m\n\u001b[1;32m    191\u001b[0m \u001b[43m    \u001b[49m\u001b[43m)\u001b[49m\n\u001b[1;32m    192\u001b[0m \u001b[38;5;28;01mexcept\u001b[39;00m HTTPError:\n\u001b[1;32m    193\u001b[0m     \u001b[38;5;28mprint\u001b[39m(\u001b[38;5;124m\"\u001b[39m\u001b[38;5;124mCouldn\u001b[39m\u001b[38;5;124m'\u001b[39m\u001b[38;5;124mt get an image. Waiting 60s before moving on.\u001b[39m\u001b[38;5;124m\"\u001b[39m)\n",
      "File \u001b[0;32m~/miniconda3/envs/prost/lib/python3.12/site-packages/astro_prost/diagnose.py:226\u001b[0m, in \u001b[0;36mplot_match\u001b[0;34m(host_ra, host_dec, true_host_ra, true_host_dec, host_z_mean, host_z_std, sn_ra, sn_dec, sn_name, sn_z, bayesflag, fn)\u001b[0m\n\u001b[1;32m    224\u001b[0m get_ps1_pic(\u001b[38;5;124m\"\u001b[39m\u001b[38;5;124m./\u001b[39m\u001b[38;5;124m\"\u001b[39m, \u001b[38;5;28;01mNone\u001b[39;00m, sn_ra, sn_dec, \u001b[38;5;28mint\u001b[39m(rad \u001b[38;5;241m*\u001b[39m \u001b[38;5;241m4\u001b[39m), band)\n\u001b[1;32m    225\u001b[0m a \u001b[38;5;241m=\u001b[39m find_all(\u001b[38;5;124mf\u001b[39m\u001b[38;5;124m\"\u001b[39m\u001b[38;5;124mPS1_ra=\u001b[39m\u001b[38;5;132;01m{\u001b[39;00msn_ra\u001b[38;5;132;01m}\u001b[39;00m\u001b[38;5;124m_dec=\u001b[39m\u001b[38;5;132;01m{\u001b[39;00msn_dec\u001b[38;5;132;01m}\u001b[39;00m\u001b[38;5;124m_\u001b[39m\u001b[38;5;132;01m{\u001b[39;00m\u001b[38;5;28mint\u001b[39m(rad)\u001b[38;5;132;01m}\u001b[39;00m\u001b[38;5;124marcsec_\u001b[39m\u001b[38;5;132;01m{\u001b[39;00mband\u001b[38;5;132;01m}\u001b[39;00m\u001b[38;5;124m.fits\u001b[39m\u001b[38;5;124m\"\u001b[39m, \u001b[38;5;124m\"\u001b[39m\u001b[38;5;124m.\u001b[39m\u001b[38;5;124m\"\u001b[39m)\n\u001b[0;32m--> 226\u001b[0m pixels \u001b[38;5;241m=\u001b[39m fits\u001b[38;5;241m.\u001b[39mopen(\u001b[43ma\u001b[49m\u001b[43m[\u001b[49m\u001b[38;5;241;43m0\u001b[39;49m\u001b[43m]\u001b[49m)[\u001b[38;5;241m0\u001b[39m]\u001b[38;5;241m.\u001b[39mdata\n\u001b[1;32m    227\u001b[0m pixels \u001b[38;5;241m=\u001b[39m pixels\u001b[38;5;241m.\u001b[39mastype(\u001b[38;5;124m\"\u001b[39m\u001b[38;5;124mfloat32\u001b[39m\u001b[38;5;124m\"\u001b[39m)\n\u001b[1;32m    228\u001b[0m \u001b[38;5;66;03m# normalize to the range 0-255\u001b[39;00m\n",
      "\u001b[0;31mIndexError\u001b[0m: list index out of range"
     ]
    }
   ],
   "source": [
    "transient_catalog = prepare_catalog(\n",
    "    transient_catalog, transient_name_col=transient_name_col, transient_coord_cols=transient_coord_cols\n",
    ")\n",
    "\n",
    "# cosmology can be specified, else flat lambdaCDM is assumed with H0=70, Om0=0.3, Ode0=0.7\n",
    "transient_catalog_with_hosts = \\\n",
    "    associate_sample(\n",
    "        transient_catalog,\n",
    "        priors=priors,\n",
    "        likes=likes,\n",
    "        catalogs=catalogs,\n",
    "        parallel=parallel,\n",
    "        verbose=verbose,\n",
    "        save=save,\n",
    "        progress_bar=progress_bar,\n",
    "        cat_cols=cat_cols,\n",
    ")"
   ]
  },
  {
   "cell_type": "markdown",
   "id": "8b286f6a-0e02-4d2c-be88-bddf78185dff",
   "metadata": {},
   "source": [
    "Let's look at the results: "
   ]
  },
  {
   "cell_type": "code",
   "execution_count": null,
   "id": "df6dbc9d-1486-4457-a75f-bed673afe8e3",
   "metadata": {},
   "outputs": [],
   "source": [
    "transient_catalog_with_hosts[['IAUID', 'host_id', 'host_ra', 'host_dec', 'host_prob', 'smallcone_prob', 'missedcat_prob']]"
   ]
  }
 ],
 "metadata": {
  "jupytext": {
   "cell_markers": "\"\"\""
  },
  "kernelspec": {
   "display_name": "prost",
   "language": "python",
   "name": "prost"
  },
  "language_info": {
   "codemirror_mode": {
    "name": "ipython",
    "version": 3
   },
   "file_extension": ".py",
   "mimetype": "text/x-python",
   "name": "python",
   "nbconvert_exporter": "python",
   "pygments_lexer": "ipython3",
   "version": "3.12.7"
  }
 },
 "nbformat": 4,
 "nbformat_minor": 5
}
