{
 "cells": [
  {
   "cell_type": "code",
   "execution_count": 1,
   "id": "399af73f-593c-42a1-a466-6434b9ce9978",
   "metadata": {
    "tags": []
   },
   "outputs": [
    {
     "name": "stdout",
     "output_type": "stream",
     "text": [
      "QKIT configuration initialized -> available as qkit.cfg[...]\n"
     ]
    }
   ],
   "source": [
    "import sys\n",
    "import numpy as np\n",
    "import matplotlib.pyplot as plt\n",
    "from scipy.interpolate import interp1d\n",
    "import scipy.optimize as opt\n",
    "import time\n",
    "from datetime import datetime\n",
    "from threading import Timer\n",
    "import scipy.signal as sig\n",
    "from scipy.interpolate import UnivariateSpline\n",
    "from qkit.analysis.circle_fit.circle_fit_2019 import circuit"
   ]
  },
  {
   "attachments": {},
   "cell_type": "markdown",
   "id": "b93e7edf-6dc5-4510-9f41-9e9f4f290be6",
   "metadata": {},
   "source": [
    "# Qubit Frequency Domain Measurements\n",
    "The first step in characterizing a Qubit, is finding its readout resonators. Then, using flux coils (so, a current source) can be used to tune the qubit, which affects the readout resonators frequency (see Dispersive Shift).\n",
    "\n",
    "To gauge the qubits energy levels, two-tone spectroscopy can be used.\n",
    "\n",
    "This notebook implements the necessary step to get a good idea in frequency domain about what your qubit is doing.\n",
    "\n",
    "**NOTE:** It is recommended to use a new copy of this template for each qubit. This will give you the newest features, and loss of notebooks isn't as severe.\n",
    "\n",
    "Cells requiring your input are preceded by **bold text indicating user information.**\n",
    "\n",
    "## QKit Configuration\n",
    "First, Qkit and the device is initialized. **Input the run_id and your name below.**"
   ]
  },
  {
   "cell_type": "code",
   "execution_count": 2,
   "id": "ff13197c-2d94-403b-9771-bb1efd866b3c",
   "metadata": {
    "tags": []
   },
   "outputs": [
    {
     "name": "stderr",
     "output_type": "stream",
     "text": [
      "2023-06-06 13:45:45 [WARNING ]: Your qkit version is older than 3 weeks. Please consider the 'git pull' command. We are usually trying to get better. (S20_check_for_updates.py:21)\n"
     ]
    },
    {
     "name": "stdout",
     "output_type": "stream",
     "text": [
      "Starting QKIT framework ... -> qkit.core.startup\n",
      "Loading module ... S10_logging.py\n",
      "Loading module ... S14_setup_directories.py\n",
      "Loading module ... S16_available_modules.py\n",
      "Loading module ... S20_check_for_updates.py\n",
      "Loading module ... S25_info_service.py\n",
      "Loading module ... S30_qkit_start.py\n",
      "Loading module ... S65_load_RI_service.py\n",
      "Loading module ... S70_load_visa.py\n",
      "Loading module ... S80_load_file_service.py\n",
      "Loading module ... S85_init_measurement.py\n"
     ]
    },
    {
     "data": {
      "application/vnd.jupyter.widget-view+json": {
       "model_id": "ef0b9ee81d0d46539e39728db17c71ba",
       "version_major": 2,
       "version_minor": 0
      },
      "text/plain": [
       "HBox(children=(Text(value='EDEL_18', description='Please check: Run ID', placeholder='***RUN_ID IS EMPTY***', …"
      ]
     },
     "metadata": {},
     "output_type": "display_data"
    },
    {
     "name": "stdout",
     "output_type": "stream",
     "text": [
      "Loading module ... S98_started.py\n",
      "Loading module ... S99_init_user.py\n"
     ]
    }
   ],
   "source": [
    "# import and start qkit\n",
    "\n",
    "import qkit\n",
    "qkit.cfg['load_visa']=True\n",
    "qkit.cfg['run_id']='EDEL_18'\n",
    "qkit.cfg['user']=r'Your_Name_Here'\n",
    "qkit.start()\n",
    "\n",
    "from qkit.storage.store import Data\n",
    "import qkit.analysis.qfit as qfit\n",
    "import qkit.measure.samples_class as sc"
   ]
  },
  {
   "attachments": {},
   "cell_type": "markdown",
   "id": "1c95ef7d",
   "metadata": {
    "tags": []
   },
   "source": [
    "## Load Instruments\n",
    "Here, the instruments required for the experiments are loaded. You may skip some, if your particular measurement doesn't need them.\n",
    "\n",
    "**Enter the device names**\n",
    "\n",
    "### Microwave Switch\n",
    "The microwave switch allows you to switch between samples in the fridge. Which microwave switch you need, depends on the fridge you use.\n",
    "\n",
    "**Enter the microwave switch name**"
   ]
  },
  {
   "cell_type": "code",
   "execution_count": 3,
   "id": "20c40e0c",
   "metadata": {
    "tags": []
   },
   "outputs": [
    {
     "name": "stdout",
     "output_type": "stream",
     "text": [
      "Connecting to switch server...\n",
      "Initialized the file info database (qkit.fid) in 1.078 seconds.\n"
     ]
    }
   ],
   "source": [
    "switch = qkit.instruments.create_from_config(\"switch-edel\")"
   ]
  },
  {
   "attachments": {},
   "cell_type": "markdown",
   "id": "b0bf130e",
   "metadata": {},
   "source": [
    "**Enter the output of the switch connected to your sample**"
   ]
  },
  {
   "cell_type": "code",
   "execution_count": 4,
   "id": "175a6e99-5d97-4226-9e76-a9a9b3a8265f",
   "metadata": {
    "tags": []
   },
   "outputs": [],
   "source": [
    "#switch.set_pulse_length(0.08)"
   ]
  },
  {
   "cell_type": "code",
   "execution_count": 5,
   "id": "e0ab2249",
   "metadata": {
    "tags": []
   },
   "outputs": [],
   "source": [
    "#switch.get_pulse_length()"
   ]
  },
  {
   "cell_type": "code",
   "execution_count": 6,
   "id": "503f2861-e80e-412b-a8ab-4568d7040f1f",
   "metadata": {
    "tags": []
   },
   "outputs": [],
   "source": [
    "#switch.reset(2)"
   ]
  },
  {
   "cell_type": "code",
   "execution_count": 7,
   "id": "a7837efd",
   "metadata": {
    "tags": []
   },
   "outputs": [],
   "source": [
    "#switch.switch_to(2,2)"
   ]
  },
  {
   "cell_type": "code",
   "execution_count": null,
   "id": "8b1a8e67",
   "metadata": {},
   "outputs": [],
   "source": [
    "switch.ensure_switch_at(2, 3)"
   ]
  },
  {
   "cell_type": "code",
   "execution_count": 8,
   "id": "34a42152-1e0f-4234-9c5b-93b5db2c8732",
   "metadata": {
    "tags": []
   },
   "outputs": [],
   "source": [
    "#switch.enable(2,3)\n",
    "#switch.disable(2,5)"
   ]
  },
  {
   "cell_type": "code",
   "execution_count": 9,
   "id": "1cb847c9",
   "metadata": {
    "tags": []
   },
   "outputs": [
    {
     "data": {
      "text/plain": [
       "'[2]'"
      ]
     },
     "execution_count": 9,
     "metadata": {},
     "output_type": "execute_result"
    }
   ],
   "source": [
    "switch.get_position(2)"
   ]
  },
  {
   "attachments": {},
   "cell_type": "markdown",
   "id": "efe79491-fdde-44b5-b6b1-c4d59c3e556f",
   "metadata": {},
   "source": [
    "### Microwave Source\n",
    "**Enter the name of the microwave source you want to use, and attenuation, if present.**"
   ]
  },
  {
   "cell_type": "code",
   "execution_count": null,
   "id": "505da181-b082-4256-b20a-b43c2837f8c7",
   "metadata": {
    "tags": []
   },
   "outputs": [],
   "source": [
    "# create mw source\n",
    "mw_src = qkit.instruments.create_from_config(\"mw-134\") # Alternatives: mw-21 or mw-94\n",
    "mw_src.set_power_offset(0) # Attenuation in dB. If you attenuate by -10dB, then set this to -10"
   ]
  },
  {
   "cell_type": "code",
   "execution_count": 12,
   "id": "11e089ef-4817-46fd-9e94-b6379716203f",
   "metadata": {
    "tags": []
   },
   "outputs": [
    {
     "data": {
      "text/plain": [
       "False"
      ]
     },
     "execution_count": 12,
     "metadata": {},
     "output_type": "execute_result"
    }
   ],
   "source": [
    "# turn on/off mw source\n",
    "mw_src.set_status(False)\n",
    "mw_src.get_status()"
   ]
  },
  {
   "attachments": {},
   "cell_type": "markdown",
   "id": "2416c5d0",
   "metadata": {},
   "source": [
    "### Current Source for Flux Tuning\n",
    "We use a current source to apply a local magnetic field to your qubit. Load a current source.\n",
    "**Change the device name as needed.**"
   ]
  },
  {
   "cell_type": "code",
   "execution_count": 68,
   "id": "78ce3156",
   "metadata": {
    "tags": []
   },
   "outputs": [],
   "source": [
    "# create DC source\n",
    "IVD = qkit.instruments.create_from_config('cs-129', reset=True) # or cs-130"
   ]
  },
  {
   "cell_type": "code",
   "execution_count": 69,
   "id": "2bf0a609",
   "metadata": {
    "tags": []
   },
   "outputs": [
    {
     "data": {
      "text/plain": [
       "False"
      ]
     },
     "execution_count": 69,
     "metadata": {},
     "output_type": "execute_result"
    }
   ],
   "source": [
    "# settings\n",
    "\n",
    "IVD.set_measurement_mode(0)\n",
    "IVD.set_bias_mode(0)\n",
    "#IVD.set_bias_range(2e-1)\n",
    "#IVD.set_sense_mode(1)\n",
    "#IVD.set_sense_limit(0.5)\n",
    "#IVD.get_all()\n",
    "\n",
    "IVD.set_current(0)\n",
    "IVD.set_status(0)\n",
    "IVD.get_status()"
   ]
  },
  {
   "attachments": {},
   "cell_type": "markdown",
   "id": "87bd929f-dcd9-4b9a-9704-a3dff3e091b6",
   "metadata": {
    "tags": []
   },
   "source": [
    "#### QDevil Setup"
   ]
  },
  {
   "cell_type": "code",
   "execution_count": 13,
   "id": "438690f7-fce6-4ca3-af21-7bddea981d39",
   "metadata": {
    "tags": []
   },
   "outputs": [],
   "source": [
    "IVD = qkit.instruments.create_from_config('qdevil')"
   ]
  },
  {
   "cell_type": "code",
   "execution_count": 41,
   "id": "f2d67197-b980-449d-968f-a8899bf2bf6d",
   "metadata": {
    "tags": []
   },
   "outputs": [],
   "source": [
    "channel = 1\n",
    "\n",
    "voltage = -1e-3"
   ]
  },
  {
   "cell_type": "code",
   "execution_count": 42,
   "id": "c2b7898a-83ba-4937-92dc-9e63f7c6a0f4",
   "metadata": {
    "tags": []
   },
   "outputs": [],
   "source": [
    "IVD.set_DC_voltage(channel, voltage)"
   ]
  },
  {
   "cell_type": "code",
   "execution_count": 70,
   "id": "45ea457f-2056-490c-8a57-dda5401bdd47",
   "metadata": {
    "tags": []
   },
   "outputs": [],
   "source": [
    "#IVD.reset()"
   ]
  },
  {
   "attachments": {},
   "cell_type": "markdown",
   "id": "2601743c-91b8-4a6b-8b7d-fd635892111a",
   "metadata": {},
   "source": [
    "### Vector Network Analyzer\n",
    "The vector network analyzer tests the frequency response of the sample.\n",
    "\n",
    "We often use directional couplers to add a second microwave tone. If it is present, it usually adds -20dB of attenuation. **Document the attenuation**."
   ]
  },
  {
   "cell_type": "code",
   "execution_count": 14,
   "id": "6f433008-3f4f-4313-b8fd-205ab95bc0d5",
   "metadata": {
    "tags": []
   },
   "outputs": [],
   "source": [
    "# create VNA\n",
    "vna = qkit.instruments.create_from_config(\"vna-136\") # or vna-132, vna-131\n",
    "mw_src.set_power_offset(0) # in dB. If you attenuate by -20dB, write -20\n",
    "from qkit.measure.spectroscopy.spectroscopy import spectrum\n",
    "s = spectrum(vna)"
   ]
  },
  {
   "attachments": {},
   "cell_type": "markdown",
   "id": "5c906fd5-f18a-4fd6-b7b9-beff1b8e1acf",
   "metadata": {},
   "source": [
    "## TIP Client (thermometer)\n",
    "We apply current to samples in the fridge. This is fine, if they stay superconducting. If the critical current is exceeded, the fridge may heat up rapidly, which may negatively affect samples in the same fridge. This needs to be prevented. Hence, we monitor the temperature."
   ]
  },
  {
   "cell_type": "code",
   "execution_count": 16,
   "id": "695701ad-6091-44dc-a55f-b79c81d1d1f2",
   "metadata": {
    "tags": []
   },
   "outputs": [
    {
     "name": "stdout",
     "output_type": "stream",
     "text": [
      "Connecting to TIP server...\n"
     ]
    },
    {
     "data": {
      "text/plain": [
       "0.010681998434482764"
      ]
     },
     "execution_count": 16,
     "metadata": {},
     "output_type": "execute_result"
    }
   ],
   "source": [
    "tip = qkit.instruments.create_from_config(\"tip-edel\") # or tip-perl\n",
    "tip.define_default_thermometer('mxc')\n",
    "\n",
    "def get_T():\n",
    "    try:\n",
    "        return float(tip.get_param(device='mxc', param='temperature'))\n",
    "    except:\n",
    "        return np.nan\n",
    "get_T()"
   ]
  },
  {
   "attachments": {},
   "cell_type": "markdown",
   "id": "90495dbc-423b-4810-a630-48c23d6d67e7",
   "metadata": {},
   "source": [
    "## Helper Functions"
   ]
  },
  {
   "cell_type": "code",
   "execution_count": 17,
   "id": "0bbd0cb3-5a1e-4234-9389-eac01816fe7b",
   "metadata": {
    "tags": []
   },
   "outputs": [],
   "source": [
    "# function estimates the duration of a measurement\n",
    "\n",
    "def estimate_measurement_time(dim=2):\n",
    "    if dim==1:\n",
    "        t_meas = vna.get_sweeptime_averages()\n",
    "    elif dim==2:\n",
    "        t_meas = vna.get_sweeptime_averages()*s.x_vec.size\n",
    "    elif dim==3:\n",
    "        t_meas = vna.get_sweeptime_averages()*s.x_vec.size*s.y_vec.size\n",
    "    timestamp = time.time()+t_meas\n",
    "    \n",
    "    if t_meas/60 < 180:\n",
    "        print('Masurement duration: ' + str(round(t_meas/60,1)) + ' min, ends at ', datetime.fromtimestamp(timestamp))\n",
    "    elif t_meas/60 >= 180:\n",
    "        print('Masurement duration: ' + str(round(t_meas/3600,2)) + ' h, ends at ', datetime.fromtimestamp(timestamp))\n",
    "\n",
    "    return "
   ]
  },
  {
   "cell_type": "code",
   "execution_count": 18,
   "id": "a837bd7e-950d-4b4e-8cdf-c708e12a4dee",
   "metadata": {
    "tags": []
   },
   "outputs": [],
   "source": [
    "# function returnes the wiki entry\n",
    "\n",
    "def get_wiki_entry():\n",
    "    print('| ', sep='', end='')\n",
    "    print(s._data_file._uuid, sep='', end='')\n",
    "    print(' |  | ', sep='', end='')\n",
    "    if s._scan_dim > 1:\n",
    "        print('{:f}{:s} to {:f}{:s} in {:f}{:s}'.format(s.x_vec[0],\n",
    "                                                        s.x_unit,\n",
    "                                                        s.x_vec[-1],\n",
    "                                                        s.x_unit,\n",
    "                                                        (s.x_vec[-1]-s.x_vec[0])/(s.x_vec.size-1),\n",
    "                                                        s.x_unit),\n",
    "              sep='', end='')\n",
    "    else:\n",
    "        print('---', sep='', end='')\n",
    "    print(' | ', sep='', end='')\n",
    "    if s._scan_dim > 2:\n",
    "        print('{:f}{:s} to {:f}{:s} in {:f}{:s}'.format(s.y_vec[0],\n",
    "                                                        s.y_unit,\n",
    "                                                        s.y_vec[-1],\n",
    "                                                        s.y_unit,\n",
    "                                                        (s.y_vec[-1]-s.y_vec[0])/(s.y_vec.size-1),\n",
    "                                                        s.y_unit),\n",
    "              sep='', end='')\n",
    "    else:\n",
    "        print('---', sep='', end='')\n",
    "    print(' | ', sep='', end='')\n",
    "    print(vna.get_bandwidth(), ' | ', vna.get_averages(), ' | ', vna.get_power(), ' | ', vna.get_span()/1e6, ' | ', vna.get_nop(), ' | ', sep='', end='')\n",
    "    print(IVD.get_current(), ' | ', mw_src.get_power(), ' | ', mw_src.get_frequency()/1e9, sep='', end='')\n",
    "    print(' |  |', sep='', end='')"
   ]
  },
  {
   "cell_type": "code",
   "execution_count": 19,
   "id": "5b4370ac-d480-4d0b-9bbb-3b0f7468e32f",
   "metadata": {
    "tags": []
   },
   "outputs": [],
   "source": [
    "# functions used to implement a killswitch of the DC-current source depending on a cryo temperature threshold\n",
    "\n",
    "temp_threshold = 15e-3 # mK\n",
    "enable_heatstop = False\n",
    "\n",
    "# Trigger function: True if the measured temperature exceeds the trigger temperature, False otherwise\n",
    "def temperature_killswitch(trigger = temp_threshold):\n",
    "    if enable_heatstop:\n",
    "        temp = get_T()\n",
    "        if temp > trigger:\n",
    "            return True\n",
    "        else:\n",
    "            return False\n",
    "    else:\n",
    "        return False\n",
    "    \n",
    "# Stop the DC current source\n",
    "def stop_current():\n",
    "    if enable_heatstop:\n",
    "        stop_point = IVD.get_current() # beware! get_current turns on current again\n",
    "        IVD.set_current(0)\n",
    "        IVD.set_status(False)\n",
    "        sys.exit(\"Heat Stop at \"+ str(stop_point/1e-3) + \" mA; Current status: \" +str(IVD.get_status()))"
   ]
  },
  {
   "cell_type": "code",
   "execution_count": 20,
   "id": "7e9c7c9e-8779-46e4-b8d0-1df73c821b63",
   "metadata": {
    "tags": []
   },
   "outputs": [],
   "source": [
    "# Function to calculate measurement points, good eg. for ramping the current up and down\n",
    "# INPUT: array with checkpoints that need to be reached in the measurement (eg. [start_value, stop_value]); step size\n",
    "# OUTPUT: array with all corresponding measurement points\n",
    "# WARNING: If used for sweeping a parameter up and back down and the step size does not correspond in the interval (eg. INPUT ([1, 8], 3)),\n",
    "# the points on ramp up and ramp down will not correspond\n",
    "def measurement_points(checkpoints, step):\n",
    "    points = np.array([])\n",
    "    step = abs(step)\n",
    "    for i in range(1, len(checkpoints)):\n",
    "        if checkpoints[i] > checkpoints[i-1]:\n",
    "            points = np.append(points, np.arange(checkpoints[i-1], checkpoints[i], step))\n",
    "        else:\n",
    "            points = np.append(points, np.arange(checkpoints[i-1], checkpoints[i], -step))\n",
    "    points = np.append(points, checkpoints[-1])\n",
    "    return points"
   ]
  },
  {
   "cell_type": "code",
   "execution_count": 21,
   "id": "d1606ea2-9fca-45c7-ad8b-cd41546ff2df",
   "metadata": {
    "tags": []
   },
   "outputs": [],
   "source": [
    "# Resonator calibration: search for optimal working point of resonator (VNA)\n",
    "\n",
    "def resonator_calibration(cal_nop, cal_span, cal_bw, cal_avg, mode):\n",
    "    \n",
    "    # Initialization\n",
    "    mw_src.set_status(False) # turn off mw source during search\n",
    "    vna.set_nop(cal_nop)\n",
    "    vna.set_centerfreq(res_freq)\n",
    "    vna.set_span(cal_span) # search the span aroud the resonator position\n",
    "    vna.set_bandwidth(cal_bw) # large IF bandwith, many averages\n",
    "    vna.set_averages(cal_avg)\n",
    "    vna.set_Average(True)\n",
    "\n",
    "    # Resonator measurement with MW source OFF\n",
    "    vna.pre_measurement()\n",
    "    vna.start_measurement()\n",
    "    while not vna.ready(): # wait till end of measurement\n",
    "        if temperature_killswitch():\n",
    "            stop_current()\n",
    "            return \n",
    "        else:\n",
    "            time.sleep(1e-1)\n",
    "            \n",
    "    # Find reesonance frequency\n",
    "    \n",
    "    # use phase derivative\n",
    "        s.freq = vna.get_freqpoints()\n",
    "        s.amp, s.pha = vna.get_tracedata() # dataset with the amp and phase data to find the resonator\n",
    "        try:\n",
    "            # use phase \n",
    "            if mode == \"pha\" or \"phase\":\n",
    "                # Savitzky-Golay-Filter: digital smoothing filter, increases the precision without distorting the signal tendency\n",
    "                # Convolution of low-degree polynomial over the data and fit\n",
    "                pha_savgol = - sig.savgol_filter(s.pha, window_length=9, polyorder=3, deriv=1)\n",
    "                peaks = sig.find_peaks(pha_savgol, prominence=4e-2)\n",
    "                peak = sig.find_peaks(pha_savgol, prominence=np.max(peaks[1]['prominences']))\n",
    "            \n",
    "            # use amplitude\n",
    "            elif mode == \"amp\" or \"amplitude\":\n",
    "                peaks = sig.find_peaks(-s.amp, prominence= 5e-4)\n",
    "                peak = sig.find_peaks(-s.amp, prominence=np.max(peaks[1]['prominences']))\n",
    "            \n",
    "            return s.freq[peak[0][0]]\n",
    "        except:\n",
    "            return 0"
   ]
  },
  {
   "cell_type": "code",
   "execution_count": 22,
   "id": "08c3278a-9832-49a8-b79d-4a53dac73e18",
   "metadata": {
    "tags": []
   },
   "outputs": [],
   "source": [
    "# Set bias flux/current\n",
    "\n",
    "def set_dc_bias(dc_bias, mode = \"set\", dc_time = 0.1):\n",
    "    max_current = 8.0e-3 # max. dc current allowed\n",
    "    dc_step = 10e-6\n",
    "    \n",
    "    # if None then turn off source\n",
    "    if dc_bias == None:\n",
    "        IVD.set_status(False)\n",
    "        return \"DC source turned off.\"\n",
    "    \n",
    "    # check, if current value does not exceed maximum value\n",
    "    if abs(dc_bias) > max_current:\n",
    "        return \"Please select a DC current bias value lower than \" + str(max_current) + \" A!\"\n",
    "        \n",
    "    # set current source to zero and turn on source\n",
    "    IVD.set_current(0)\n",
    "    IVD.set_measurement_mode(0)\n",
    "    IVD.set_bias_mode(0)\n",
    "    IVD.set_status(True)\n",
    "    \n",
    "    # set or ramp current\n",
    "    if mode == \"set\":\n",
    "        IVD.set_current(dc_bias)\n",
    "    elif mode == \"ramp\":\n",
    "        IVD.ramp_current(dc_bias, dc_step, dc_time)\n",
    "    \n",
    "    return \"DC source set to \" + str(round(IVD.get_current()*1e3,3)) + \" mA\""
   ]
  },
  {
   "cell_type": "code",
   "execution_count": 23,
   "id": "3cfed448-4756-4126-98cb-ecedee7c5801",
   "metadata": {
    "tags": []
   },
   "outputs": [],
   "source": [
    "def res_path(res):\n",
    "    path_name = ''\n",
    "    \n",
    "    if res == 1:\n",
    "        path_name = r'\\\\Res_1'\n",
    "    elif res == 2:\n",
    "        path_name = r'\\\\Res_2'\n",
    "    elif res == 3:\n",
    "        path_name = r'\\\\Res_3'\n",
    "    elif res == 4:\n",
    "        path_name = r'\\\\Res_4'\n",
    "        \n",
    "    return path_name"
   ]
  },
  {
   "attachments": {},
   "cell_type": "markdown",
   "id": "072547b1",
   "metadata": {},
   "source": [
    "# Measurements\n",
    "Now, we can start the actual measurements. Usually, only one qubit is measured at a time.\n",
    "\n",
    "**Add the sample information below.**"
   ]
  },
  {
   "attachments": {},
   "cell_type": "markdown",
   "id": "e7834e05-6b56-4e5a-84bb-af7fc028eb59",
   "metadata": {},
   "source": [
    "## Sample Definition"
   ]
  },
  {
   "cell_type": "code",
   "execution_count": 27,
   "id": "7c1946ec-59a6-451d-8dda-07b896fe22e5",
   "metadata": {
    "tags": []
   },
   "outputs": [
    {
     "name": "stdout",
     "output_type": "stream",
     "text": [
      "comment:   \n",
      "name:   GeQCoS-4Q-v4-3-C28\n",
      "setup:   directional coupler: -20 dBm, damping at mw source -20 dBm\n",
      "temperature:   ~10mK\n",
      "\n"
     ]
    }
   ],
   "source": [
    "sample = sc.Sample()\n",
    "sample.name = 'SAMPLE_NAME'\n",
    "sample.temperature = '~10mK'\n",
    "sample.setup = 'directional coupler: -20 dBm, damping at mw source -20 dBm'\n",
    "print(sample.get_all())\n",
    "s._measurement_object.sample = sample\n",
    "\n",
    "dir_sample =r'Alex\\\\sample_C28'"
   ]
  },
  {
   "attachments": {},
   "cell_type": "markdown",
   "id": "c89d0cea-bf4c-4ebd-af87-f6ebde21517b",
   "metadata": {},
   "source": [
    "#### C28 Res 1 (7.84 GHz)"
   ]
  },
  {
   "cell_type": "code",
   "execution_count": 26,
   "id": "d1359e02-4d7e-4066-a4f0-fd6ac82c882a",
   "metadata": {
    "tags": []
   },
   "outputs": [
    {
     "name": "stdout",
     "output_type": "stream",
     "text": [
      "Initialized the file info database (qkit.fid) in 1.258 seconds.\n"
     ]
    }
   ],
   "source": [
    "# resonator 1 / qubit 1\n",
    "\n",
    "exp_name = \"GeQCoS4Qv4_3_C28_r1\"\n",
    "res = 1\n",
    "res_freq = 7.842e9\n",
    "\n",
    "vna.set_centerfreq(res_freq)\n",
    "s.exp_name= exp_name\n",
    "\n",
    "def initial_calibration_R1(delay = 62.102e-9):\n",
    "    vna.set_measurement_parameter('S21')\n",
    "    vna.set_power(-40)\n",
    "    vna.set_bandwidth(100)\n",
    "    vna.set_span(20e6)\n",
    "    vna.set_nop(101)\n",
    "    vna.set_centerfreq(res_freq)\n",
    "    vna.do_set_edel_status(True) # port extension\n",
    "    vna.do_set_edel(delay, 1)\n",
    "    vna.set_Average(False)\n",
    "    return\n",
    "\n",
    "initial_calibration_R1()"
   ]
  },
  {
   "cell_type": "code",
   "execution_count": 27,
   "id": "cfc63348",
   "metadata": {
    "tags": []
   },
   "outputs": [],
   "source": [
    "s.exp_name = exp_name"
   ]
  },
  {
   "cell_type": "code",
   "execution_count": 28,
   "id": "ff8e0175",
   "metadata": {
    "tags": []
   },
   "outputs": [
    {
     "data": {
      "text/plain": [
       "True"
      ]
     },
     "execution_count": 28,
     "metadata": {},
     "output_type": "execute_result"
    }
   ],
   "source": [
    "vna.set_centerfreq(res_freq)"
   ]
  },
  {
   "attachments": {},
   "cell_type": "markdown",
   "id": "01828755-2963-44af-a553-8c697df77478",
   "metadata": {
    "tags": []
   },
   "source": [
    "### Sample: v4_3_C48"
   ]
  },
  {
   "cell_type": "code",
   "execution_count": 24,
   "id": "68688ac4-e7f6-4fe2-99a3-8b37015f26e0",
   "metadata": {
    "tags": []
   },
   "outputs": [
    {
     "name": "stdout",
     "output_type": "stream",
     "text": [
      "comment:   \n",
      "name:   GeQCoS-4Q-v4-3-C48\n",
      "setup:   directional coupler: -20 dBm, damping at mw source -20 dBm\n",
      "temperature:   ~10mK\n",
      "\n"
     ]
    }
   ],
   "source": [
    "sample = sc.Sample()\n",
    "sample.name = 'GeQCoS-4Q-v4-3-C48'\n",
    "sample.temperature = '~10mK'\n",
    "sample.setup = 'directional coupler: -20 dBm, damping at mw source -20 dBm'\n",
    "print(sample.get_all())\n",
    "s._measurement_object.sample = sample\n",
    "\n",
    "dir_sample =r'Alex\\\\sample_C48'"
   ]
  },
  {
   "attachments": {},
   "cell_type": "markdown",
   "id": "5c177f18-cdfa-4283-aed7-30116631d398",
   "metadata": {},
   "source": [
    "#### C48 Res 1 (7.81 GHz)"
   ]
  },
  {
   "cell_type": "code",
   "execution_count": 41,
   "id": "c5e94baf-570d-48db-b092-5559dcdb5070",
   "metadata": {
    "tags": []
   },
   "outputs": [],
   "source": [
    "# resonator 1 / qubit 1\n",
    "\n",
    "exp_name = \"GeQCoS4Qv4_3_C48_r1\"\n",
    "res = 1\n",
    "res_freq = 7.810e9\n",
    "\n",
    "vna.set_centerfreq(res_freq)\n",
    "s.exp_name= exp_name\n",
    "\n",
    "def initial_calibration_R1(delay = 61.286e-9):\n",
    "    vna.set_measurement_parameter('S21')\n",
    "    vna.set_power(-40)\n",
    "    vna.set_bandwidth(100)\n",
    "    vna.set_span(20e6)\n",
    "    vna.set_nop(201)\n",
    "    vna.set_centerfreq(res_freq)\n",
    "    vna.do_set_edel_status(True) # port extension\n",
    "    vna.do_set_edel(delay, 1)\n",
    "    vna.set_Average(False)\n",
    "    return\n",
    "\n",
    "initial_calibration_R1()"
   ]
  },
  {
   "attachments": {},
   "cell_type": "markdown",
   "id": "41ab8e7b-ac4a-4bda-8129-01290381b4c4",
   "metadata": {},
   "source": [
    "## Resonator Measurement"
   ]
  },
  {
   "attachments": {},
   "cell_type": "markdown",
   "id": "09f53116",
   "metadata": {
    "tags": []
   },
   "source": [
    "### 1D Trace"
   ]
  },
  {
   "cell_type": "code",
   "execution_count": 90,
   "id": "4549f8bd-f0b1-47dd-b9f1-0e11a7436147",
   "metadata": {},
   "outputs": [
    {
     "data": {
      "text/plain": [
       "'DC source set to -0.6 mA'"
      ]
     },
     "execution_count": 90,
     "metadata": {},
     "output_type": "execute_result"
    }
   ],
   "source": [
    "# set the flux bias\n",
    "set_dc_bias(-600e-6)"
   ]
  },
  {
   "cell_type": "code",
   "execution_count": 91,
   "id": "4877c39f-58c6-4659-a096-c48778ff65f8",
   "metadata": {},
   "outputs": [
    {
     "data": {
      "text/plain": [
       "True"
      ]
     },
     "execution_count": 91,
     "metadata": {},
     "output_type": "execute_result"
    }
   ],
   "source": [
    "IVD.get_status()"
   ]
  },
  {
   "cell_type": "code",
   "execution_count": 330,
   "id": "a93ec400-cd78-4e57-ad84-9f2022b9d0f6",
   "metadata": {},
   "outputs": [],
   "source": [
    "# Measurement parameters\n",
    "\n",
    "# VNA \n",
    "vna_power = -35 # dBm\n",
    "vna_nop  = 201 \n",
    "vna_span = 10e6 # Hz\n",
    "vna_avg = 3\n",
    "vna_bw = 50 # Hz"
   ]
  },
  {
   "cell_type": "code",
   "execution_count": 331,
   "id": "dd850306-6d14-4a09-a250-01a27441fd77",
   "metadata": {},
   "outputs": [
    {
     "data": {
      "text/plain": [
       "True"
      ]
     },
     "execution_count": 331,
     "metadata": {},
     "output_type": "execute_result"
    }
   ],
   "source": [
    "vna.set_power(vna_power)"
   ]
  },
  {
   "cell_type": "code",
   "execution_count": 332,
   "id": "e86b0156-f540-435b-b9dd-a3f70a8ed094",
   "metadata": {},
   "outputs": [
    {
     "data": {
      "text/plain": [
       "True"
      ]
     },
     "execution_count": 332,
     "metadata": {},
     "output_type": "execute_result"
    }
   ],
   "source": [
    "vna.set_nop(vna_nop)\n",
    "vna.set_span(vna_span)"
   ]
  },
  {
   "cell_type": "code",
   "execution_count": 333,
   "id": "2724512f-5070-43e7-82fe-a76b40cbd8d4",
   "metadata": {},
   "outputs": [
    {
     "data": {
      "text/plain": [
       "True"
      ]
     },
     "execution_count": 333,
     "metadata": {},
     "output_type": "execute_result"
    }
   ],
   "source": [
    "vna.set_averages(vna_avg)\n",
    "vna.set_Average(True)"
   ]
  },
  {
   "cell_type": "code",
   "execution_count": 334,
   "id": "3635486f-c5f8-4c14-9091-c1920b1f1bbc",
   "metadata": {},
   "outputs": [
    {
     "data": {
      "text/plain": [
       "True"
      ]
     },
     "execution_count": 334,
     "metadata": {},
     "output_type": "execute_result"
    }
   ],
   "source": [
    "vna.set_bandwidth(vna_bw)"
   ]
  },
  {
   "cell_type": "code",
   "execution_count": 97,
   "id": "7b4c4c40",
   "metadata": {},
   "outputs": [],
   "source": [
    "s.set_resonator_fit(fit_resonator=True, fit_function='circle_fit_reflection')"
   ]
  },
  {
   "cell_type": "code",
   "execution_count": 98,
   "id": "678a2664",
   "metadata": {},
   "outputs": [],
   "source": [
    "qkit.cfg['user']= dir_sample + r'\\\\Resonator_Trace' + res_path(res)\n",
    "s.dirname = exp_name + \"_1D_scan\""
   ]
  },
  {
   "cell_type": "code",
   "execution_count": 99,
   "id": "3ebd8fa4",
   "metadata": {},
   "outputs": [
    {
     "data": {
      "application/vnd.jupyter.widget-view+json": {
       "model_id": "fa9a93ce78634a48a7e0cf982ac47811",
       "version_major": 2,
       "version_minor": 0
      },
      "text/plain": [
       "HTML(value=\"<table style='width:100%'><tr><td> (0/3) </td><td>&#9992; 2023-04-26 (Wed) 13:47:53    </td><td>&#…"
      ]
     },
     "metadata": {},
     "output_type": "display_data"
    },
    {
     "data": {
      "application/vnd.jupyter.widget-view+json": {
       "model_id": "356ffd9a51584b0d80ea033295da75ab",
       "version_major": 2,
       "version_minor": 0
      },
      "text/plain": [
       "IntProgress(value=0, description='GeQCoS4Qv4_3_C28_r1_1D_scan', layout=Layout(width='95%'), max=3)"
      ]
     },
     "metadata": {},
     "output_type": "display_data"
    },
    {
     "name": "stderr",
     "output_type": "stream",
     "text": [
      "2023-04-26 13:47:53 [WARNING ]: Data does not cover a full circle (only 2.8 rad). Increase the frequency span around the resonance? (circuit.py:427)\n",
      "2023-04-26 13:47:53 [WARNING ]: Data does not cover a full circle (only 2.8 rad). Increase the frequency span around the resonance? (circuit.py:427)\n",
      "2023-04-26 13:47:53 [WARNING ]: Data does not cover a full circle (only 2.8 rad). Increase the frequency span around the resonance? (circuit.py:427)\n"
     ]
    },
    {
     "name": "stdout",
     "output_type": "stream",
     "text": [
      "0 True\n",
      "C:\\data\\EDEL_18\\Alex\\\\sample_C28\\\\Resonator_Trace\\RTQ0RH_GeQCoS4Qv4_3_C28_r1_1D_scan_GeQCoS4Qv4_3_C28_r1\\RTQ0RH_GeQCoS4Qv4_3_C28_r1_1D_scan_GeQCoS4Qv4_3_C28_r1.h5\n"
     ]
    },
    {
     "name": "stderr",
     "output_type": "stream",
     "text": [
      "C:\\qkit\\qkit\\analysis\\circle_fit\\circle_fit_2019\\circuit.py:309: RuntimeWarning: invalid value encountered in sqrt\n",
      "  R_err = self.r0 * np.sqrt(b**2 - np.sin(self.phi)**2)\n"
     ]
    },
    {
     "name": "stdout",
     "output_type": "stream",
     "text": [
      "Plots saved in C:\\data\\EDEL_18\\Alex\\sample_C28\\Resonator_Trace\\RTQ0RH_GeQCoS4Qv4_3_C28_r1_1D_scan_GeQCoS4Qv4_3_C28_r1\\images\n"
     ]
    }
   ],
   "source": [
    "s.measure_1D()"
   ]
  },
  {
   "attachments": {},
   "cell_type": "markdown",
   "id": "884a847e",
   "metadata": {},
   "source": [
    "### 2D Power scan"
   ]
  },
  {
   "cell_type": "code",
   "execution_count": 41,
   "id": "baab315e-8ad4-4c36-9f53-24d26e8f0ff2",
   "metadata": {
    "tags": []
   },
   "outputs": [
    {
     "data": {
      "text/plain": [
       "'DC source set to 0.85 mA'"
      ]
     },
     "execution_count": 41,
     "metadata": {},
     "output_type": "execute_result"
    }
   ],
   "source": [
    "# set the flux bias\n",
    "dc_bias =  850e-6\n",
    "set_dc_bias(dc_bias)"
   ]
  },
  {
   "cell_type": "code",
   "execution_count": 42,
   "id": "b5e6b5de-236b-4ce9-9ce0-f3384a510263",
   "metadata": {
    "tags": []
   },
   "outputs": [
    {
     "data": {
      "text/plain": [
       "True"
      ]
     },
     "execution_count": 42,
     "metadata": {},
     "output_type": "execute_result"
    }
   ],
   "source": [
    "IVD.get_status()"
   ]
  },
  {
   "cell_type": "code",
   "execution_count": 43,
   "id": "b840afd9-4a2f-43b9-acc5-df505a234287",
   "metadata": {
    "tags": []
   },
   "outputs": [],
   "source": [
    "# Measurement parameters\n",
    "\n",
    "# Power sweep\n",
    "power_start = -30 # dBm\n",
    "power_stop = -10 # dBm\n",
    "power_step = 10 # dBm\n",
    "\n",
    "power_points = measurement_points([power_start, power_stop], power_step)\n",
    "\n",
    "# VNA \n",
    "vna_nop  = 401 \n",
    "vna_span = 20e6 # Hz\n",
    "vna_avg = 5\n",
    "vna_bw = 50 # Hz"
   ]
  },
  {
   "cell_type": "code",
   "execution_count": 44,
   "id": "c175a683-c39f-4429-903a-0db82f6040cf",
   "metadata": {
    "tags": []
   },
   "outputs": [
    {
     "data": {
      "text/plain": [
       "True"
      ]
     },
     "execution_count": 44,
     "metadata": {},
     "output_type": "execute_result"
    }
   ],
   "source": [
    "vna.set_span(vna_span)\n",
    "vna.set_nop(vna_nop)"
   ]
  },
  {
   "cell_type": "code",
   "execution_count": 45,
   "id": "b3756605-c4ca-4807-b08a-ef1c9186bf6c",
   "metadata": {
    "tags": []
   },
   "outputs": [
    {
     "data": {
      "text/plain": [
       "True"
      ]
     },
     "execution_count": 45,
     "metadata": {},
     "output_type": "execute_result"
    }
   ],
   "source": [
    "vna.set_averages(vna_avg)\n",
    "vna.set_Average(True)"
   ]
  },
  {
   "cell_type": "code",
   "execution_count": 46,
   "id": "4ceb1252-b13a-4679-825c-24978ce807c7",
   "metadata": {
    "tags": []
   },
   "outputs": [
    {
     "data": {
      "text/plain": [
       "True"
      ]
     },
     "execution_count": 46,
     "metadata": {},
     "output_type": "execute_result"
    }
   ],
   "source": [
    "vna.set_bandwidth(vna_bw)"
   ]
  },
  {
   "cell_type": "code",
   "execution_count": 47,
   "id": "c4fcedcb-2fa1-4d0a-b068-8f812c5b6621",
   "metadata": {
    "tags": []
   },
   "outputs": [],
   "source": [
    "s.set_resonator_fit(fit_resonator=False, fit_function='circle_fit_reflection')"
   ]
  },
  {
   "cell_type": "code",
   "execution_count": 48,
   "id": "38e34aca",
   "metadata": {
    "tags": []
   },
   "outputs": [
    {
     "name": "stdout",
     "output_type": "stream",
     "text": [
      "Masurement duration: 1.9 min, ends at  2023-05-31 10:57:59.963427\n"
     ]
    }
   ],
   "source": [
    "s.set_x_parameters(x_vec=power_points,\n",
    "                   x_coordname='VNA_power', \n",
    "                   x_set_obj=vna.set_power, \n",
    "                   x_unit='dBm')\n",
    "\n",
    "estimate_measurement_time(2)"
   ]
  },
  {
   "cell_type": "code",
   "execution_count": 49,
   "id": "35a2762d",
   "metadata": {
    "tags": []
   },
   "outputs": [
    {
     "data": {
      "text/plain": [
       "True"
      ]
     },
     "execution_count": 49,
     "metadata": {},
     "output_type": "execute_result"
    }
   ],
   "source": [
    "vna.set_power(power_start)"
   ]
  },
  {
   "cell_type": "code",
   "execution_count": 50,
   "id": "b4c5a930",
   "metadata": {
    "tags": []
   },
   "outputs": [],
   "source": [
    "s.comment = \"\"\"Directional coupler : -20dBm VNA, MW source: \"\"\" + str(vna_att) +  \"\"\" dBm external\"\"\"\n",
    "#s.comment = \"\"\"no directional coupler\"\"\""
   ]
  },
  {
   "cell_type": "code",
   "execution_count": 51,
   "id": "7cfdcc36-ff15-4fc6-86b6-70f82f4f7a72",
   "metadata": {
    "tags": []
   },
   "outputs": [],
   "source": [
    "#name_extension = \"_at_\" + str(round(dc_bias*1e6,0)) +\"µA_bias_\" + \"(half_Phi0)\"\n",
    "name_extension = \"_at_\" + \"half_Phi0\"\n",
    "qkit.cfg['user']= dir_sample + r'\\\\Resonator_Power' + res_path(res)\n",
    "s.dirname = exp_name + \"_powerscan_\" + str(int(power_start)) + \"_to_\" + str(int(power_stop)) + \"_dBm\" + name_extension"
   ]
  },
  {
   "cell_type": "code",
   "execution_count": 52,
   "id": "09a1bd31",
   "metadata": {
    "tags": []
   },
   "outputs": [
    {
     "data": {
      "application/vnd.jupyter.widget-view+json": {
       "model_id": "67cb8b46def24e4185cfd09130c07af8",
       "version_major": 2,
       "version_minor": 0
      },
      "text/plain": [
       "HTML(value=\"<table style='width:100%'><tr><td> (0/3) </td><td>&#9992; 2023-05-31 (Wed) 10:58:10    </td><td>&#…"
      ]
     },
     "metadata": {},
     "output_type": "display_data"
    },
    {
     "data": {
      "application/vnd.jupyter.widget-view+json": {
       "model_id": "4c6eee46d72e45cf9778edd7b7ae493d",
       "version_major": 2,
       "version_minor": 0
      },
      "text/plain": [
       "IntProgress(value=0, description='2D VNA sweep GeQCoS4Qv4_3_C48_r3_powerscan_-30_to_-10_dBm_at_half_Phi0', lay…"
      ]
     },
     "metadata": {},
     "output_type": "display_data"
    },
    {
     "name": "stdout",
     "output_type": "stream",
     "text": [
      "C:\\data\\EDEL_18\\Alex\\\\sample_C48\\\\Resonator_Power\\\\Res_3\\RVIM5R_2D_GeQCoS4Qv4_3_C48_r3_powerscan_-30_to_-10_dBm_at_half_Phi0_GeQCoS4Qv4_3_C48_r3\\RVIM5R_2D_GeQCoS4Qv4_3_C48_r3_powerscan_-30_to_-10_dBm_at_half_Phi0_GeQCoS4Qv4_3_C48_r3.h5\n"
     ]
    },
    {
     "data": {
      "text/plain": [
       "True"
      ]
     },
     "execution_count": 52,
     "metadata": {},
     "output_type": "execute_result"
    },
    {
     "name": "stdout",
     "output_type": "stream",
     "text": [
      "Plots saved in C:\\data\\EDEL_18\\Alex\\sample_C48\\Resonator_Power\\Res_3\\RVIM5R_2D_GeQCoS4Qv4_3_C48_r3_powerscan_-30_to_-10_dBm_at_half_Phi0_GeQCoS4Qv4_3_C48_r3\\images\n"
     ]
    }
   ],
   "source": [
    "s.measure_2D()\n",
    "vna.set_power(power_start)"
   ]
  },
  {
   "attachments": {},
   "cell_type": "markdown",
   "id": "9f96270d-4100-48a9-9546-cf4bc0275e18",
   "metadata": {
    "tags": []
   },
   "source": [
    "### 2D Current scan"
   ]
  },
  {
   "cell_type": "code",
   "execution_count": 1,
   "id": "339340d2-6129-4a77-87cf-ed79e70ed90a",
   "metadata": {
    "tags": []
   },
   "outputs": [
    {
     "ename": "NameError",
     "evalue": "name 'set_dc_bias' is not defined",
     "output_type": "error",
     "traceback": [
      "\u001B[1;31m---------------------------------------------------------------------------\u001B[0m",
      "\u001B[1;31mNameError\u001B[0m                                 Traceback (most recent call last)",
      "Cell \u001B[1;32mIn[1], line 3\u001B[0m\n\u001B[0;32m      1\u001B[0m \u001B[38;5;66;03m# set the flux bias\u001B[39;00m\n\u001B[0;32m      2\u001B[0m dc_bias \u001B[38;5;241m=\u001B[39m  \u001B[38;5;241m0\u001B[39m\n\u001B[1;32m----> 3\u001B[0m \u001B[43mset_dc_bias\u001B[49m(dc_bias)\n",
      "\u001B[1;31mNameError\u001B[0m: name 'set_dc_bias' is not defined"
     ]
    }
   ],
   "source": [
    "# set the flux bias\n",
    "dc_bias =  0\n",
    "set_dc_bias(dc_bias)"
   ]
  },
  {
   "cell_type": "code",
   "execution_count": 2,
   "id": "b27d03e1-6a0f-46a4-8d42-2ad2bd17c911",
   "metadata": {
    "tags": []
   },
   "outputs": [
    {
     "ename": "NameError",
     "evalue": "name 'IVD' is not defined",
     "output_type": "error",
     "traceback": [
      "\u001B[1;31m---------------------------------------------------------------------------\u001B[0m",
      "\u001B[1;31mNameError\u001B[0m                                 Traceback (most recent call last)",
      "Cell \u001B[1;32mIn[2], line 1\u001B[0m\n\u001B[1;32m----> 1\u001B[0m \u001B[43mIVD\u001B[49m\u001B[38;5;241m.\u001B[39mget_status()\n",
      "\u001B[1;31mNameError\u001B[0m: name 'IVD' is not defined"
     ]
    }
   ],
   "source": [
    "IVD.get_status()"
   ]
  },
  {
   "cell_type": "code",
   "execution_count": 70,
   "id": "0f1ce415-053b-4812-b4ff-8f0f8e0eb7f8",
   "metadata": {
    "tags": []
   },
   "outputs": [],
   "source": [
    "dc_start = -2.475e-3 # A\n",
    "dc_stop = 2.475e-3 # A\n",
    "dc_step = 0.030e-3 # A\n",
    "\n",
    "current_points = measurement_points([dc_start, dc_stop], dc_step)\n",
    "\n",
    "dc_time = 0.25\n",
    "\n",
    "# VNA \n",
    "vna_nop  = 301 \n",
    "vna_span = 80e6 # Hz\n",
    "vna_avg = 5\n",
    "vna_bw = 100 # Hz\n",
    "vna_power = -40#-42.5 # dB"
   ]
  },
  {
   "cell_type": "code",
   "execution_count": 57,
   "id": "cb4e9032-cf4e-4ae6-ab55-9f1cca51bd9c",
   "metadata": {
    "tags": []
   },
   "outputs": [],
   "source": [
    "dc_start = -1.5e-3 # A\n",
    "dc_stop = 1.5e-3 # A\n",
    "dc_step = 20.0e-6 # A\n",
    "\n",
    "current_points = measurement_points([100*dc_start, 100*dc_stop], 100*dc_step)\n",
    "\n",
    "dc_time = 0.25\n",
    "\n",
    "# VNA \n",
    "vna_nop  = 301 \n",
    "vna_span = 80e6 # Hz\n",
    "vna_avg = 5\n",
    "vna_bw = 100 # Hz\n",
    "vna_power = -40#-42.5 # dB"
   ]
  },
  {
   "cell_type": "code",
   "execution_count": 71,
   "id": "e8ece2d5-ecec-4264-9206-bca83966bece",
   "metadata": {
    "tags": []
   },
   "outputs": [
    {
     "data": {
      "text/plain": [
       "True"
      ]
     },
     "execution_count": 71,
     "metadata": {},
     "output_type": "execute_result"
    }
   ],
   "source": [
    "vna.set_power(vna_power)"
   ]
  },
  {
   "cell_type": "code",
   "execution_count": 72,
   "id": "b1bbc039-353d-4cb1-a18d-cff232b4e7ae",
   "metadata": {
    "tags": []
   },
   "outputs": [
    {
     "data": {
      "text/plain": [
       "True"
      ]
     },
     "execution_count": 72,
     "metadata": {},
     "output_type": "execute_result"
    }
   ],
   "source": [
    "vna.set_span(vna_span)\n",
    "vna.set_nop(vna_nop)"
   ]
  },
  {
   "cell_type": "code",
   "execution_count": 73,
   "id": "a576fbfd-86fa-4ed5-b8fa-9e1d8cc77690",
   "metadata": {
    "tags": []
   },
   "outputs": [
    {
     "data": {
      "text/plain": [
       "True"
      ]
     },
     "execution_count": 73,
     "metadata": {},
     "output_type": "execute_result"
    }
   ],
   "source": [
    "vna.set_averages(vna_avg)\n",
    "vna.set_Average(True)"
   ]
  },
  {
   "cell_type": "code",
   "execution_count": 74,
   "id": "36d3414c-8390-4b0b-b24c-3df3d42c5a70",
   "metadata": {
    "tags": []
   },
   "outputs": [
    {
     "data": {
      "text/plain": [
       "True"
      ]
     },
     "execution_count": 74,
     "metadata": {},
     "output_type": "execute_result"
    }
   ],
   "source": [
    "vna.set_bandwidth(vna_bw)"
   ]
  },
  {
   "cell_type": "code",
   "execution_count": 75,
   "id": "fd6564ce-9e93-4d35-a36c-b7d964b72fa2",
   "metadata": {
    "tags": []
   },
   "outputs": [
    {
     "name": "stdout",
     "output_type": "stream",
     "text": [
      "Masurement duration: 40.0 min, ends at  2023-06-06 16:15:51.914758\n"
     ]
    }
   ],
   "source": [
    "def x_function(i):\n",
    "    #IVD.set_current(i)\n",
    "    \"\"\"\n",
    "    set_current(self, val, channel=1):\n",
    "    \n",
    "    Sets current value of channel <channel> to <val>.\n",
    "\n",
    "    Parameters\n",
    "    ----------\n",
    "    val: float\n",
    "        Bias current value.\n",
    "    channel: int\n",
    "        Number of channel of interest. Must be 1 for SMUs with only one channel and 1 or 2 for SMUs with two channels. Default is 1.\n",
    "    \"\"\"\n",
    "    \n",
    "    IVD.ramp_current(i, dc_step, dc_time)\n",
    "    #IVD.set_DC_voltage(1, i)\n",
    "    \"\"\"\n",
    "    ramp_current(self, stop, step, step_time=0.1, channel=1):\n",
    "    \n",
    "    Ramps current of channel <channel> from recent value to stop value <stop> with step size <step> and step time <step_time> according to bias_mode.\n",
    "\n",
    "    Parameters\n",
    "    ----------\n",
    "    stop: float\n",
    "        Stop current value\n",
    "    step: float\n",
    "        Step current size.\n",
    "    step_time: float\n",
    "        Sleep time between current staircase ramp.\n",
    "    channel: int\n",
    "        Number of channel of interest. Must be 1 for SMUs with only one channel and 1 or 2 for SMUs with two channels. Default is 1. (default)\n",
    "    \"\"\"\n",
    "    \n",
    "s.set_x_parameters(x_vec=current_points,\n",
    "                   x_coordname='current_bias', \n",
    "                   x_set_obj=x_function, \n",
    "                   x_unit='Amp')\n",
    "\n",
    "estimate_measurement_time(2)"
   ]
  },
  {
   "cell_type": "code",
   "execution_count": 76,
   "id": "9adf318c-da16-4cdb-9dec-fffb0137ec1b",
   "metadata": {
    "tags": []
   },
   "outputs": [],
   "source": [
    "s.comment = \"\"\"Directional coupler : -20dBm VNA, MW source: \"\"\" + str(vna_att) +  \"\"\" dBm external\"\"\"\n",
    "#s.comment = \"\"\"no directional coupler\"\"\""
   ]
  },
  {
   "cell_type": "code",
   "execution_count": 77,
   "id": "0432f9ee-5d1f-4dbe-9ab0-f12a08e22342",
   "metadata": {
    "tags": []
   },
   "outputs": [],
   "source": [
    "qkit.cfg['user']= dir_sample + r'\\\\Resonator_Current' + res_path(res)\n",
    "s.dirname = exp_name + \"_current_sweep_\" + str(round(dc_start/1e-3,1)) + \"_to_\" + str(round(dc_stop/1e-3,1)) + \"_mA\""
   ]
  },
  {
   "cell_type": "code",
   "execution_count": 78,
   "id": "6804f3f4-b5ee-4d5f-aa7c-5d4d1717b962",
   "metadata": {
    "tags": []
   },
   "outputs": [],
   "source": [
    "s.set_resonator_fit(fit_resonator=False, fit_function='circle_fit_reflection')"
   ]
  },
  {
   "cell_type": "code",
   "execution_count": 79,
   "id": "ca401cf8-ea6f-4f58-a1ef-989e9a9257c6",
   "metadata": {
    "tags": []
   },
   "outputs": [],
   "source": [
    "IVD.set_current(0)\n",
    "IVD.set_status(True)\n",
    "IVD.set_measurement_mode(0)\n",
    "IVD.set_bias_mode(0)"
   ]
  },
  {
   "cell_type": "code",
   "execution_count": 210,
   "id": "fc5cd992-dfe5-46f4-9ced-a078217c7025",
   "metadata": {
    "tags": []
   },
   "outputs": [],
   "source": [
    "#IVD.ramp_current(dc_start, dc_step, dc_time)\n",
    "IVD.set_current(dc_start)"
   ]
  },
  {
   "cell_type": "code",
   "execution_count": 80,
   "id": "1a57c45b-f719-425b-8cd1-9b1f3be49857",
   "metadata": {
    "tags": []
   },
   "outputs": [
    {
     "data": {
      "application/vnd.jupyter.widget-view+json": {
       "model_id": "592b4baff8e24c8fa63abf4a225cc032",
       "version_major": 2,
       "version_minor": 0
      },
      "text/plain": [
       "HTML(value=\"<table style='width:100%'><tr><td> (0/166) </td><td>&#9992; 2023-06-06 (Tue) 16:16:02    </td><td>…"
      ]
     },
     "metadata": {},
     "output_type": "display_data"
    },
    {
     "data": {
      "application/vnd.jupyter.widget-view+json": {
       "model_id": "b58a4e1cbdd445899c34a122d4594266",
       "version_major": 2,
       "version_minor": 0
      },
      "text/plain": [
       "IntProgress(value=0, description='2D VNA sweep GeQCoS4Qv4_3_C48_r3_current_sweep_-2.5_to_2.5_mA', layout=Layou…"
      ]
     },
     "metadata": {},
     "output_type": "display_data"
    },
    {
     "name": "stdout",
     "output_type": "stream",
     "text": [
      "C:\\data\\EDEL_18\\Alex\\\\sample_C48\\\\Resonator_Current\\\\Res_3\\RVU343_2D_GeQCoS4Qv4_3_C48_r3_current_sweep_-2.5_to_2.5_mA_GeQCoS4Qv4_3_C48_r3\\RVU343_2D_GeQCoS4Qv4_3_C48_r3_current_sweep_-2.5_to_2.5_mA_GeQCoS4Qv4_3_C48_r3.h5\n",
      "Plots saved in C:\\data\\EDEL_18\\Alex\\sample_C48\\Resonator_Current\\Res_3\\RVU343_2D_GeQCoS4Qv4_3_C48_r3_current_sweep_-2.5_to_2.5_mA_GeQCoS4Qv4_3_C48_r3\\images\n"
     ]
    }
   ],
   "source": [
    "s.measure_2D()\n",
    "#IVD.set_DC_voltage(1, 0)\n",
    "IVD.set_current(0)\n",
    "IVD.set_status(False)"
   ]
  },
  {
   "attachments": {},
   "cell_type": "markdown",
   "id": "e08665bc-6324-423d-872a-8699f6bcf6ce",
   "metadata": {},
   "source": [
    "## Two Tone Measurements"
   ]
  },
  {
   "attachments": {},
   "cell_type": "markdown",
   "id": "fc63b91b",
   "metadata": {
    "tags": []
   },
   "source": [
    "### 2D 2-tone"
   ]
  },
  {
   "cell_type": "code",
   "execution_count": 56,
   "id": "ef6af02b-70db-4d85-8d07-c0d4baa86f4d",
   "metadata": {
    "tags": []
   },
   "outputs": [
    {
     "data": {
      "text/plain": [
       "'DC source set to 0.85 mA'"
      ]
     },
     "execution_count": 56,
     "metadata": {},
     "output_type": "execute_result"
    }
   ],
   "source": [
    "# set the flux bias\n",
    "dc_bias = 850e-6\n",
    "set_dc_bias(dc_bias)"
   ]
  },
  {
   "cell_type": "code",
   "execution_count": 57,
   "id": "ffa4389e-9228-49dc-8bc7-30c25f19b0d7",
   "metadata": {
    "tags": []
   },
   "outputs": [
    {
     "data": {
      "text/plain": [
       "True"
      ]
     },
     "execution_count": 57,
     "metadata": {},
     "output_type": "execute_result"
    }
   ],
   "source": [
    "IVD.get_status()"
   ]
  },
  {
   "cell_type": "code",
   "execution_count": 58,
   "id": "b0d22339-41c5-40bf-8a31-7830f2ba95fb",
   "metadata": {
    "tags": []
   },
   "outputs": [
    {
     "data": {
      "text/plain": [
       "7595226437.39"
      ]
     },
     "execution_count": 58,
     "metadata": {},
     "output_type": "execute_result"
    }
   ],
   "source": [
    "res_freq = vna.get_centerfreq()\n",
    "vna.get_centerfreq()"
   ]
  },
  {
   "cell_type": "code",
   "execution_count": 112,
   "id": "39885f24-8c71-4dc8-b9f8-e58ddb9bfd3a",
   "metadata": {
    "tags": []
   },
   "outputs": [],
   "source": [
    "# Measurement parameter\n",
    "\n",
    "# mw drive\n",
    "mw_start = 7.0e9 # Hz\n",
    "mw_stop = 8.2e9 # Hz\n",
    "mw_step = 10e6 # Hz\n",
    "mw_power = -25 # -20 dBm is max without eternal damping\n",
    "\n",
    "mw_points = measurement_points([mw_start, mw_stop], mw_step)\n",
    "\n",
    "# VNA\n",
    "vna_nop  = 401 \n",
    "vna_span = 20e6 # Hz\n",
    "vna_avg = 50\n",
    "vna_bw = 50 # Hz\n",
    "vna_power = -40 # dB"
   ]
  },
  {
   "cell_type": "code",
   "execution_count": 113,
   "id": "0ccd66bc-73e9-4e30-a3e8-1fcc7e0f39aa",
   "metadata": {
    "tags": []
   },
   "outputs": [],
   "source": [
    "mw_src.set_power_offset(mw_att)"
   ]
  },
  {
   "cell_type": "code",
   "execution_count": 114,
   "id": "5154e263-8756-4bdf-b51d-fa54f8237782",
   "metadata": {
    "tags": []
   },
   "outputs": [
    {
     "data": {
      "text/plain": [
       "True"
      ]
     },
     "execution_count": 114,
     "metadata": {},
     "output_type": "execute_result"
    }
   ],
   "source": [
    "vna.set_power(vna_power)"
   ]
  },
  {
   "cell_type": "code",
   "execution_count": 115,
   "id": "cf8ccd31-160c-4cb6-8a96-845098f23347",
   "metadata": {
    "tags": []
   },
   "outputs": [
    {
     "data": {
      "text/plain": [
       "True"
      ]
     },
     "execution_count": 115,
     "metadata": {},
     "output_type": "execute_result"
    }
   ],
   "source": [
    "vna.set_span(vna_span)\n",
    "vna.set_nop(vna_nop)"
   ]
  },
  {
   "cell_type": "code",
   "execution_count": 116,
   "id": "dc9da30b-febe-41d4-91a7-41f713817687",
   "metadata": {
    "tags": []
   },
   "outputs": [
    {
     "data": {
      "text/plain": [
       "True"
      ]
     },
     "execution_count": 116,
     "metadata": {},
     "output_type": "execute_result"
    }
   ],
   "source": [
    "vna.set_averages(vna_avg)\n",
    "vna.set_Average(True)"
   ]
  },
  {
   "cell_type": "code",
   "execution_count": 117,
   "id": "b64e3f99-b520-4630-b2ac-b1e03ec57a4f",
   "metadata": {
    "tags": []
   },
   "outputs": [
    {
     "data": {
      "text/plain": [
       "True"
      ]
     },
     "execution_count": 117,
     "metadata": {},
     "output_type": "execute_result"
    }
   ],
   "source": [
    "vna.set_bandwidth(vna_bw)"
   ]
  },
  {
   "cell_type": "code",
   "execution_count": 118,
   "id": "15c9077c-b8dc-4df2-b718-4cb157cd2b86",
   "metadata": {
    "tags": []
   },
   "outputs": [
    {
     "data": {
      "text/plain": [
       "'\\nres_freq = vna.get_centerfreq()\\nvna.get_centerfreq()\\nvna.set_nop(1)\\n'"
      ]
     },
     "execution_count": 118,
     "metadata": {},
     "output_type": "execute_result"
    }
   ],
   "source": [
    "# Measurement with one point: One point (centerfreq) in amp. dip or phase edge\n",
    "\n",
    "\"\"\"\n",
    "res_freq = vna.get_centerfreq()\n",
    "vna.get_centerfreq()\n",
    "vna.set_nop(1)\n",
    "\"\"\""
   ]
  },
  {
   "cell_type": "code",
   "execution_count": 119,
   "id": "f3f7de61",
   "metadata": {
    "tags": []
   },
   "outputs": [
    {
     "data": {
      "text/plain": [
       "'\\nvna.set_startfreq(res_freq)\\nvna.set_stopfreq(res_freq+300e3)\\nvna.set_nop(2)\\n'"
      ]
     },
     "execution_count": 119,
     "metadata": {},
     "output_type": "execute_result"
    }
   ],
   "source": [
    "# Measurement with two points: One point (centerfreq) in amp. dip or phase edge and second point about 500 KHz left or right \n",
    "\n",
    "\"\"\"\n",
    "vna.set_startfreq(res_freq)\n",
    "vna.set_stopfreq(res_freq+300e3)\n",
    "vna.set_nop(2)\n",
    "\"\"\""
   ]
  },
  {
   "cell_type": "code",
   "execution_count": 120,
   "id": "d9d6ad03-1e20-4204-84fa-7b3d466587a2",
   "metadata": {
    "tags": []
   },
   "outputs": [
    {
     "data": {
      "text/plain": [
       "True"
      ]
     },
     "execution_count": 120,
     "metadata": {},
     "output_type": "execute_result"
    }
   ],
   "source": [
    "# Measurement with three points: One point (centerfreq) in amp. dip or phase edge and one point left and right each (baseline)\n",
    "\n",
    "res_freq = vna.get_centerfreq()\n",
    "vna.get_centerfreq()\n",
    "vna.set_nop(3)"
   ]
  },
  {
   "cell_type": "code",
   "execution_count": 121,
   "id": "744c7cb0",
   "metadata": {
    "tags": []
   },
   "outputs": [
    {
     "name": "stdout",
     "output_type": "stream",
     "text": [
      "Masurement duration: 5.8 min, ends at  2023-05-31 11:54:33.323002\n"
     ]
    }
   ],
   "source": [
    "s.set_x_parameters(x_vec=mw_points,\n",
    "                   x_coordname='mw_frequency', \n",
    "                   x_set_obj=mw_src.set_frequency, \n",
    "                   x_unit='Hz')\n",
    "\n",
    "estimate_measurement_time(2)"
   ]
  },
  {
   "cell_type": "code",
   "execution_count": 122,
   "id": "de23841d",
   "metadata": {
    "tags": []
   },
   "outputs": [],
   "source": [
    "s.comment = \"\"\"Directional coupler : -20dBm VNA, MW source: \"\"\" + str(vna_att) +  \"\"\" dBm external\"\"\"\n",
    "#s.comment = \"\"\"no directional coupler\"\"\""
   ]
  },
  {
   "cell_type": "code",
   "execution_count": 123,
   "id": "22b6abad-f843-4243-ab3d-7462f1d06542",
   "metadata": {
    "tags": []
   },
   "outputs": [],
   "source": [
    "#name_extension = \"_at_\" + str(round(dc_bias*1e6,0)) +\"µA_bias_\" + \"(full_Phi0)\"\n",
    "name_extension = \"_at_half_Phi0\"\n",
    "qkit.cfg['user']= dir_sample + r'\\\\TwoTone_Trace' + res_path(res)\n",
    "s.dirname = exp_name + \"_2tone_at_\" +  str(round(mw_power,1)) + \"_dBm_\" + str(round(mw_start/1e9,1)) + \"_to_\" + str(round(mw_stop/1e9,1)) + \"_GHz\" + str(round(mw_step/1e6,1)) + \"_MHz_step\" + name_extension\n",
    "s.dirname = 'shortened'"
   ]
  },
  {
   "cell_type": "code",
   "execution_count": 124,
   "id": "2b67fa2a",
   "metadata": {
    "tags": []
   },
   "outputs": [
    {
     "data": {
      "application/vnd.jupyter.widget-view+json": {
       "model_id": "b43ef2bb4b3442f2b10cb922cae11d7a",
       "version_major": 2,
       "version_minor": 0
      },
      "text/plain": [
       "HTML(value=\"<table style='width:100%'><tr><td> (0/121) </td><td>&#9992; 2023-05-31 (Wed) 11:54:34    </td><td>…"
      ]
     },
     "metadata": {},
     "output_type": "display_data"
    },
    {
     "data": {
      "application/vnd.jupyter.widget-view+json": {
       "model_id": "0e36afa6f08c4e9f9f8689f21306374a",
       "version_major": 2,
       "version_minor": 0
      },
      "text/plain": [
       "IntProgress(value=0, description='2D VNA sweep shortened', layout=Layout(width='95%'), max=121)"
      ]
     },
     "metadata": {},
     "output_type": "display_data"
    },
    {
     "name": "stdout",
     "output_type": "stream",
     "text": [
      "C:\\data\\EDEL_18\\Alex\\\\sample_C48\\\\TwoTone_Trace\\\\Res_3\\RVIOL9_2D_shortened_GeQCoS4Qv4_3_C48_r3\\RVIOL9_2D_shortened_GeQCoS4Qv4_3_C48_r3.h5\n"
     ]
    },
    {
     "data": {
      "text/plain": [
       "True"
      ]
     },
     "execution_count": 124,
     "metadata": {},
     "output_type": "execute_result"
    },
    {
     "name": "stdout",
     "output_type": "stream",
     "text": [
      "Plots saved in C:\\data\\EDEL_18\\Alex\\sample_C48\\TwoTone_Trace\\Res_3\\RVIOL9_2D_shortened_GeQCoS4Qv4_3_C48_r3\\images\n"
     ]
    }
   ],
   "source": [
    "mw_src.set_power(mw_power)\n",
    "mw_src.set_status(True)\n",
    "\n",
    "s.measure_2D()\n",
    "\n",
    "mw_src.set_status(False)"
   ]
  },
  {
   "attachments": {},
   "cell_type": "markdown",
   "id": "6e162283",
   "metadata": {
    "tags": []
   },
   "source": [
    "### 3D 2-tone power sweep"
   ]
  },
  {
   "cell_type": "code",
   "execution_count": 161,
   "id": "e5d9777a-8762-4f95-afec-06c7a276d183",
   "metadata": {
    "tags": []
   },
   "outputs": [
    {
     "data": {
      "text/plain": [
       "'DC source set to 0.21 mA'"
      ]
     },
     "execution_count": 161,
     "metadata": {},
     "output_type": "execute_result"
    }
   ],
   "source": [
    "# set the flux bias\n",
    "dc_bias = 210e-6\n",
    "set_dc_bias(dc_bias)"
   ]
  },
  {
   "cell_type": "code",
   "execution_count": 162,
   "id": "c79b43d2-0eb7-47d4-9887-b1f6674d0d31",
   "metadata": {
    "tags": []
   },
   "outputs": [
    {
     "data": {
      "text/plain": [
       "True"
      ]
     },
     "execution_count": 162,
     "metadata": {},
     "output_type": "execute_result"
    }
   ],
   "source": [
    "IVD.get_status()"
   ]
  },
  {
   "cell_type": "code",
   "execution_count": 164,
   "id": "b67809d1",
   "metadata": {
    "tags": []
   },
   "outputs": [
    {
     "data": {
      "text/plain": [
       "7588686825.3"
      ]
     },
     "execution_count": 164,
     "metadata": {},
     "output_type": "execute_result"
    }
   ],
   "source": [
    "res_freq = vna.get_centerfreq()\n",
    "vna.get_centerfreq()"
   ]
  },
  {
   "cell_type": "code",
   "execution_count": 173,
   "id": "962d63c2-a98d-4e81-8bfb-8d55d9742b68",
   "metadata": {
    "tags": []
   },
   "outputs": [],
   "source": [
    "# Measurement parameter\n",
    "\n",
    "# mw drive\n",
    "mw_start = 7.65e9 # Hz\n",
    "mw_stop = 10.0e9 # Hz\n",
    "mw_step = 10e6 # Hz\n",
    "\n",
    "mw_points = measurement_points([mw_stop, mw_start], mw_step)\n",
    "    \n",
    "power_start = -30 # dBm\n",
    "power_stop = 0 # dBm\n",
    "power_step = 5 # dBm\n",
    "\n",
    "mw_power_points = measurement_points([power_start, power_stop], power_step)\n",
    "\n",
    "# VNA \n",
    "vna_span = 10e6 # Hz\n",
    "vna_avg = 50\n",
    "vna_bw = 100 # Hz\n",
    "vna_power = -40 # dB"
   ]
  },
  {
   "cell_type": "code",
   "execution_count": 174,
   "id": "ba27f89f-9ead-4ab2-80b0-1640f28d1492",
   "metadata": {
    "tags": []
   },
   "outputs": [
    {
     "data": {
      "text/plain": [
       "True"
      ]
     },
     "execution_count": 174,
     "metadata": {},
     "output_type": "execute_result"
    }
   ],
   "source": [
    "mw_src.set_status(False)"
   ]
  },
  {
   "cell_type": "code",
   "execution_count": 175,
   "id": "7b583a08-c182-4c53-925a-b50b92f0571a",
   "metadata": {
    "tags": []
   },
   "outputs": [
    {
     "data": {
      "text/plain": [
       "True"
      ]
     },
     "execution_count": 175,
     "metadata": {},
     "output_type": "execute_result"
    }
   ],
   "source": [
    "mw_src.set_power_offset(mw_att)\n",
    "vna.set_power(vna_power)"
   ]
  },
  {
   "cell_type": "code",
   "execution_count": 176,
   "id": "56444dfb-6a58-4b15-98b9-7ce29598d427",
   "metadata": {
    "tags": []
   },
   "outputs": [
    {
     "data": {
      "text/plain": [
       "True"
      ]
     },
     "execution_count": 176,
     "metadata": {},
     "output_type": "execute_result"
    }
   ],
   "source": [
    "vna.set_span(vna_span)\n",
    "vna.set_nop(301)"
   ]
  },
  {
   "cell_type": "code",
   "execution_count": 177,
   "id": "55a35d3a-63d8-4b83-9a6e-262a05b6cd01",
   "metadata": {
    "tags": []
   },
   "outputs": [
    {
     "data": {
      "text/plain": [
       "True"
      ]
     },
     "execution_count": 177,
     "metadata": {},
     "output_type": "execute_result"
    }
   ],
   "source": [
    "vna.set_averages(vna_avg)\n",
    "vna.set_Average(True)"
   ]
  },
  {
   "cell_type": "code",
   "execution_count": 178,
   "id": "8a86f6db-14f3-4d26-bf3b-7abc5e6687aa",
   "metadata": {
    "tags": []
   },
   "outputs": [
    {
     "data": {
      "text/plain": [
       "True"
      ]
     },
     "execution_count": 178,
     "metadata": {},
     "output_type": "execute_result"
    }
   ],
   "source": [
    "vna.set_bandwidth(vna_bw)"
   ]
  },
  {
   "cell_type": "code",
   "execution_count": 137,
   "id": "5efe93b8-9bf0-4c1f-93f1-b98d8c49e0c3",
   "metadata": {
    "tags": []
   },
   "outputs": [
    {
     "data": {
      "text/plain": [
       "'\\nres_freq = vna.get_centerfreq()\\nvna.get_centerfreq()\\nvna.set_nop(1)\\n'"
      ]
     },
     "execution_count": 137,
     "metadata": {},
     "output_type": "execute_result"
    }
   ],
   "source": [
    "# Measurement with one point: One point (centerfreq) in amp. dip or phase edge\n",
    "\n",
    "\"\"\"\n",
    "res_freq = vna.get_centerfreq()\n",
    "vna.get_centerfreq()\n",
    "vna.set_nop(1)\n",
    "\"\"\""
   ]
  },
  {
   "cell_type": "code",
   "execution_count": 89,
   "id": "9ab0a2f0-0047-4d3e-ac23-f941631839af",
   "metadata": {
    "tags": []
   },
   "outputs": [
    {
     "data": {
      "text/plain": [
       "'\\nvna.set_startfreq(res_freq)\\nvna.set_stopfreq(res_freq+300e3)\\nvna.set_nop(2)\\n'"
      ]
     },
     "execution_count": 89,
     "metadata": {},
     "output_type": "execute_result"
    }
   ],
   "source": [
    "# Measurement with two points: One point (centerfreq) in amp. dip or phase edge and second point about 500 KHz left or right \n",
    "\n",
    "\"\"\"\n",
    "vna.set_startfreq(res_freq)\n",
    "vna.set_stopfreq(res_freq+300e3)\n",
    "vna.set_nop(2)\n",
    "\"\"\""
   ]
  },
  {
   "cell_type": "code",
   "execution_count": 179,
   "id": "eb1d6d2b-7f8b-4f25-9cc8-1dbce63c0128",
   "metadata": {
    "tags": []
   },
   "outputs": [
    {
     "data": {
      "text/plain": [
       "True"
      ]
     },
     "execution_count": 179,
     "metadata": {},
     "output_type": "execute_result"
    }
   ],
   "source": [
    "# Measurement with three points: One point (centerfreq) in amp. dip or phase edge and one point left and right each (baseline)\n",
    "\n",
    "#res_freq = vna.get_centerfreq()\n",
    "#vna.get_centerfreq()\n",
    "vna.set_nop(3)"
   ]
  },
  {
   "cell_type": "code",
   "execution_count": 180,
   "id": "8dbff253",
   "metadata": {
    "tags": []
   },
   "outputs": [
    {
     "name": "stdout",
     "output_type": "stream",
     "text": [
      "Masurement duration: 39.7 min, ends at  2023-06-05 23:40:27.409591\n"
     ]
    }
   ],
   "source": [
    "s.set_x_parameters(x_vec=mw_power_points,\n",
    "                   x_coordname='mw_power', \n",
    "                   x_set_obj=mw_src.set_power, \n",
    "                   x_unit='dBm')\n",
    "\n",
    "s.set_y_parameters(y_vec=mw_points,\n",
    "                   y_coordname='mw_frequency', \n",
    "                   y_set_obj=mw_src.set_frequency, \n",
    "                   y_unit='Hz')\n",
    "\n",
    "estimate_measurement_time(3)"
   ]
  },
  {
   "cell_type": "code",
   "execution_count": 181,
   "id": "88c1b24f-3f90-464c-ace6-832ca1f8d1b0",
   "metadata": {
    "tags": []
   },
   "outputs": [],
   "source": [
    "s.comment = \"\"\"Directional coupler : -20dBm VNA, MW source: \"\"\" + str(vna_att) +  \"\"\" dBm external\"\"\"\n",
    "#s.comment = \"\"\"no directional coupler\"\"\""
   ]
  },
  {
   "cell_type": "code",
   "execution_count": 182,
   "id": "d9e9f752-73e3-4938-86d8-54d9510bd189",
   "metadata": {
    "tags": []
   },
   "outputs": [],
   "source": [
    "name_extension = \"\" #_at_\" + str(round(dc_bias*1e6,0)) +\"µA_bias_\" + \"(half_Phi0)\"\n",
    "#name_extension = \"at_half_Phi0\"\n",
    "qkit.cfg['user']= dir_sample + r'\\\\TwoTone_Power' + res_path(res)\n",
    "s.dirname = exp_name + \"_2tone_\" + str(round(mw_start/1e9,1)) + \"_to_\" + str(round(mw_stop/1e9,1)) + \"_GHz_power_\" + str(power_start) + \"_to_\" + str(power_stop) + \"_dBm\" + name_extension"
   ]
  },
  {
   "cell_type": "code",
   "execution_count": 183,
   "id": "7e8e62bc",
   "metadata": {
    "tags": []
   },
   "outputs": [
    {
     "data": {
      "application/vnd.jupyter.widget-view+json": {
       "model_id": "40660b47bee64f6fabc81b925972a086",
       "version_major": 2,
       "version_minor": 0
      },
      "text/plain": [
       "HTML(value=\"<table style='width:100%'><tr><td> (0/1652) </td><td>&#9992; 2023-06-05 (Mon) 23:40:29    </td><td…"
      ]
     },
     "metadata": {},
     "output_type": "display_data"
    },
    {
     "data": {
      "application/vnd.jupyter.widget-view+json": {
       "model_id": "4475ccba1beb4bba9fc07ee8c20acd48",
       "version_major": 2,
       "version_minor": 0
      },
      "text/plain": [
       "IntProgress(value=0, description='3D VNA sweep GeQCoS4Qv4_3_C48_r3_2tone_7.7_to_10.0_GHz_power_-30_to_0_dBm', …"
      ]
     },
     "metadata": {},
     "output_type": "display_data"
    },
    {
     "name": "stdout",
     "output_type": "stream",
     "text": [
      "C:\\data\\EDEL_18\\Alex\\\\sample_C48\\\\TwoTone_Power\\\\Res_3\\RVST1D_3D_GeQCoS4Qv4_3_C48_r3_2tone_7.7_to_10.0_GHz_power_-30_to_0_dBm_GeQCoS4Qv4_3_C48_r3\\RVST1D_3D_GeQCoS4Qv4_3_C48_r3_2tone_7.7_to_10.0_GHz_power_-30_to_0_dBm_GeQCoS4Qv4_3_C48_r3.h5\n"
     ]
    },
    {
     "data": {
      "text/plain": [
       "True"
      ]
     },
     "execution_count": 183,
     "metadata": {},
     "output_type": "execute_result"
    },
    {
     "name": "stdout",
     "output_type": "stream",
     "text": [
      "Plots saved in C:\\data\\EDEL_18\\Alex\\sample_C48\\TwoTone_Power\\Res_3\\RVST1D_3D_GeQCoS4Qv4_3_C48_r3_2tone_7.7_to_10.0_GHz_power_-30_to_0_dBm_GeQCoS4Qv4_3_C48_r3\\images\n"
     ]
    }
   ],
   "source": [
    "mw_src.set_power(power_start)\n",
    "mw_src.set_status(True)\n",
    "\n",
    "s.measure_3D()\n",
    "\n",
    "mw_src.set_status(False)"
   ]
  },
  {
   "attachments": {},
   "cell_type": "markdown",
   "id": "9f79a00b-8a3e-424c-afc2-7f67356162ed",
   "metadata": {},
   "source": [
    "### 3D 2-tone VNA power sweep"
   ]
  },
  {
   "cell_type": "code",
   "execution_count": 119,
   "id": "994553bd-d139-4d9b-aadc-92d1a3dc983f",
   "metadata": {},
   "outputs": [
    {
     "data": {
      "text/plain": [
       "'DC source set to -0.2 mA'"
      ]
     },
     "execution_count": 119,
     "metadata": {},
     "output_type": "execute_result"
    }
   ],
   "source": [
    "# set the flux bias\n",
    "dc_bias = 830e-6\n",
    "set_dc_bias(dc_bias)"
   ]
  },
  {
   "cell_type": "code",
   "execution_count": 120,
   "id": "06df6d8e-51e9-4e4b-b10f-a52718ae3f48",
   "metadata": {},
   "outputs": [
    {
     "data": {
      "text/plain": [
       "True"
      ]
     },
     "execution_count": 120,
     "metadata": {},
     "output_type": "execute_result"
    }
   ],
   "source": [
    "IVD.get_status()"
   ]
  },
  {
   "cell_type": "code",
   "execution_count": 121,
   "id": "7abce133-c8fb-4d90-afa4-b287c288991a",
   "metadata": {},
   "outputs": [
    {
     "data": {
      "text/plain": [
       "7847618824.95"
      ]
     },
     "execution_count": 121,
     "metadata": {},
     "output_type": "execute_result"
    }
   ],
   "source": [
    "res_freq = vna.get_centerfreq()\n",
    "vna.get_centerfreq()"
   ]
  },
  {
   "cell_type": "code",
   "execution_count": 122,
   "id": "6660de90-ac5e-4531-b672-d63832c6da29",
   "metadata": {},
   "outputs": [],
   "source": [
    "# Measurement parameter\n",
    "\n",
    "# mw drive\n",
    "mw_start = 5.5e9 # Hz\n",
    "mw_stop = 7.0e9 # Hz\n",
    "mw_step = 10e6 # Hz\n",
    "\n",
    "mw_points = measurement_points([mw_stop, mw_start], mw_step)\n",
    "mw_power = -40\n",
    "    \n",
    "power_start = -55 # dBm\n",
    "power_stop = -35 # dBm\n",
    "power_step = 2.5 # dBm\n",
    "\n",
    "vna_power_points = measurement_points([power_start, power_stop], power_step)\n",
    "\n",
    "# VNA \n",
    "vna_span = 10e6 # Hz\n",
    "vna_avg = 50\n",
    "vna_bw = 50 # Hz\n",
    "#vna_power = -45 # dB"
   ]
  },
  {
   "cell_type": "code",
   "execution_count": 124,
   "id": "75cdf521-0caa-42dd-ad9a-fe4df9126a04",
   "metadata": {},
   "outputs": [
    {
     "data": {
      "text/plain": [
       "True"
      ]
     },
     "execution_count": 124,
     "metadata": {},
     "output_type": "execute_result"
    }
   ],
   "source": [
    "mw_src.set_status(False)"
   ]
  },
  {
   "cell_type": "code",
   "execution_count": 125,
   "id": "010d2ff8-c506-4c09-b463-f5fc1553290e",
   "metadata": {},
   "outputs": [
    {
     "data": {
      "text/plain": [
       "True"
      ]
     },
     "execution_count": 125,
     "metadata": {},
     "output_type": "execute_result"
    }
   ],
   "source": [
    "mw_src.set_power_offset(vna_att)\n",
    "mw_src.set_power(mw_power)"
   ]
  },
  {
   "cell_type": "code",
   "execution_count": 126,
   "id": "048d73af-4883-4b15-86c3-63bf9a08d50d",
   "metadata": {},
   "outputs": [
    {
     "data": {
      "text/plain": [
       "True"
      ]
     },
     "execution_count": 126,
     "metadata": {},
     "output_type": "execute_result"
    }
   ],
   "source": [
    "vna.set_span(vna_span)\n",
    "vna.set_nop(301)"
   ]
  },
  {
   "cell_type": "code",
   "execution_count": 127,
   "id": "e17ada30-e72a-421f-b57e-db42ec27fe23",
   "metadata": {},
   "outputs": [
    {
     "data": {
      "text/plain": [
       "True"
      ]
     },
     "execution_count": 127,
     "metadata": {},
     "output_type": "execute_result"
    }
   ],
   "source": [
    "vna.set_averages(vna_avg)\n",
    "vna.set_Average(True)"
   ]
  },
  {
   "cell_type": "code",
   "execution_count": 128,
   "id": "c1bcec3f-0825-449f-98ca-6ec2d0fd50fd",
   "metadata": {},
   "outputs": [
    {
     "data": {
      "text/plain": [
       "True"
      ]
     },
     "execution_count": 128,
     "metadata": {},
     "output_type": "execute_result"
    }
   ],
   "source": [
    "vna.set_bandwidth(vna_bw)"
   ]
  },
  {
   "cell_type": "code",
   "execution_count": 129,
   "id": "f8967d08-da67-4b99-a52a-81e54fb756c4",
   "metadata": {},
   "outputs": [
    {
     "data": {
      "text/plain": [
       "'\\nres_freq = vna.get_centerfreq()\\nvna.get_centerfreq()\\nvna.set_nop(1)\\n'"
      ]
     },
     "execution_count": 129,
     "metadata": {},
     "output_type": "execute_result"
    }
   ],
   "source": [
    "# Measurement with one point: One point (centerfreq) in amp. dip or phase edge\n",
    "\n",
    "\"\"\"\n",
    "res_freq = vna.get_centerfreq()\n",
    "vna.get_centerfreq()\n",
    "vna.set_nop(1)\n",
    "\"\"\""
   ]
  },
  {
   "cell_type": "code",
   "execution_count": 130,
   "id": "c51a6790-5137-4b44-8b6f-4894392fc87e",
   "metadata": {},
   "outputs": [
    {
     "data": {
      "text/plain": [
       "'\\nvna.set_startfreq(res_freq)\\nvna.set_stopfreq(res_freq+300e3)\\nvna.set_nop(2)\\n'"
      ]
     },
     "execution_count": 130,
     "metadata": {},
     "output_type": "execute_result"
    }
   ],
   "source": [
    "# Measurement with two points: One point (centerfreq) in amp. dip or phase edge and second point about 500 KHz left or right \n",
    "\n",
    "\"\"\"\n",
    "vna.set_startfreq(res_freq)\n",
    "vna.set_stopfreq(res_freq+300e3)\n",
    "vna.set_nop(2)\n",
    "\"\"\""
   ]
  },
  {
   "cell_type": "code",
   "execution_count": 131,
   "id": "1904f48d-930c-40ab-a516-35e807ac298b",
   "metadata": {},
   "outputs": [
    {
     "data": {
      "text/plain": [
       "True"
      ]
     },
     "execution_count": 131,
     "metadata": {},
     "output_type": "execute_result"
    }
   ],
   "source": [
    "# Measurement with three points: One point (centerfreq) in amp. dip or phase edge and one point left and right each (baseline)\n",
    "\n",
    "#res_freq = vna.get_centerfreq()\n",
    "#vna.get_centerfreq()\n",
    "vna.set_nop(3)"
   ]
  },
  {
   "cell_type": "code",
   "execution_count": 132,
   "id": "45a2f4f5-9111-4044-a813-0b84333a4620",
   "metadata": {},
   "outputs": [
    {
     "name": "stdout",
     "output_type": "stream",
     "text": [
      "Masurement duration: 54.4 min, ends at  2023-05-02 17:10:06.202965\n"
     ]
    }
   ],
   "source": [
    "s.set_x_parameters(x_vec=vna_power_points,\n",
    "                   x_coordname='vna_power', \n",
    "                   x_set_obj=vna.set_power, \n",
    "                   x_unit='dBm')\n",
    "\n",
    "s.set_y_parameters(y_vec=mw_points,\n",
    "                   y_coordname='mw_frequency', \n",
    "                   y_set_obj=mw_src.set_frequency, \n",
    "                   y_unit='Hz')\n",
    "\n",
    "estimate_measurement_time(3)"
   ]
  },
  {
   "cell_type": "code",
   "execution_count": 133,
   "id": "d3523dc3-5357-4318-95e3-ae43fffbbe77",
   "metadata": {},
   "outputs": [],
   "source": [
    "s.comment = \"\"\"Directional coupler : -20dBm VNA, MW source: \"\"\" + str(vna_att) +  \"\"\" dBm external\"\"\"\n",
    "#s.comment = \"\"\"no directional coupler\"\"\""
   ]
  },
  {
   "cell_type": "code",
   "execution_count": 134,
   "id": "bf795da0-9083-4f79-80a4-66ce738096ab",
   "metadata": {
    "tags": []
   },
   "outputs": [],
   "source": [
    "name_extension = \"\" #_at_\" + str(round(dc_bias*1e6,0)) +\"µA_bias_\" + \"(half_Phi0)\"\n",
    "qkit.cfg['user']= dir_sample + r'\\\\TwoTone_Power' + res_path(res)\n",
    "s.dirname = exp_name + \"_2tone_\" + str(round(mw_start/1e9,1)) + \"_to_\" + str(round(mw_stop/1e9,1)) + \"_GHz_power_\" + str(power_start) + \"_to_\" + str(power_stop) + \"_dBm\" + name_extension"
   ]
  },
  {
   "cell_type": "code",
   "execution_count": 135,
   "id": "93040afd-5fdf-413b-be02-667147e51758",
   "metadata": {},
   "outputs": [
    {
     "data": {
      "application/vnd.jupyter.widget-view+json": {
       "model_id": "7fa8bec86fa248cca0a61c8497515f88",
       "version_major": 2,
       "version_minor": 0
      },
      "text/plain": [
       "HTML(value=\"<table style='width:100%'><tr><td> (0/1134) </td><td>&#9992; 2023-05-02 (Tue) 17:10:09    </td><td…"
      ]
     },
     "metadata": {},
     "output_type": "display_data"
    },
    {
     "data": {
      "application/vnd.jupyter.widget-view+json": {
       "model_id": "7c5d5c833abb4e4eb749c41d038defe2",
       "version_major": 2,
       "version_minor": 0
      },
      "text/plain": [
       "IntProgress(value=0, description='3D VNA sweep GeQCoS4Qv4_3_C28_r1_2tone_6.5_to_7.8_GHz_power_-55_to_-35_dBm',…"
      ]
     },
     "metadata": {},
     "output_type": "display_data"
    },
    {
     "name": "stdout",
     "output_type": "stream",
     "text": [
      "C:\\data\\EDEL_18\\Alex\\\\sample_C28\\\\TwoTone_Power\\RU1BM6_3D_GeQCoS4Qv4_3_C28_r1_2tone_6.5_to_7.8_GHz_power_-55_to_-35_dBm_GeQCoS4Qv4_3_C28_r1\\RU1BM6_3D_GeQCoS4Qv4_3_C28_r1_2tone_6.5_to_7.8_GHz_power_-55_to_-35_dBm_GeQCoS4Qv4_3_C28_r1.h5\n"
     ]
    },
    {
     "data": {
      "text/plain": [
       "True"
      ]
     },
     "execution_count": 135,
     "metadata": {},
     "output_type": "execute_result"
    },
    {
     "name": "stdout",
     "output_type": "stream",
     "text": [
      "Plots saved in C:\\data\\EDEL_18\\Alex\\sample_C28\\TwoTone_Power\\RU1BM6_3D_GeQCoS4Qv4_3_C28_r1_2tone_6.5_to_7.8_GHz_power_-55_to_-35_dBm_GeQCoS4Qv4_3_C28_r1\\images\n"
     ]
    }
   ],
   "source": [
    "mw_src.set_power(mw_power)\n",
    "mw_src.set_status(True)\n",
    "\n",
    "s.measure_3D()\n",
    "\n",
    "mw_src.set_status(False)"
   ]
  },
  {
   "attachments": {},
   "cell_type": "markdown",
   "id": "c63bd17f-06f0-4596-b2c6-493117b498d3",
   "metadata": {
    "tags": []
   },
   "source": [
    "### 3D 2-tone Current sweep"
   ]
  },
  {
   "cell_type": "code",
   "execution_count": 257,
   "id": "c321be47-2193-4451-a5ff-6ab41737bb94",
   "metadata": {},
   "outputs": [
    {
     "data": {
      "text/plain": [
       "'DC source set to -0.54 mA'"
      ]
     },
     "execution_count": 257,
     "metadata": {},
     "output_type": "execute_result"
    }
   ],
   "source": [
    "# set the flux bias\n",
    "dc_bias = -540e-6\n",
    "set_dc_bias(dc_bias)"
   ]
  },
  {
   "cell_type": "code",
   "execution_count": 258,
   "id": "66d350cd-c3a2-481f-99ee-95e4f6a54303",
   "metadata": {},
   "outputs": [
    {
     "data": {
      "text/plain": [
       "True"
      ]
     },
     "execution_count": 258,
     "metadata": {},
     "output_type": "execute_result"
    }
   ],
   "source": [
    "IVD.get_status()"
   ]
  },
  {
   "cell_type": "code",
   "execution_count": 259,
   "id": "aa83bdc4-b1e6-4e13-9869-2722ed68edd7",
   "metadata": {},
   "outputs": [
    {
     "data": {
      "text/plain": [
       "7848347889.48"
      ]
     },
     "execution_count": 259,
     "metadata": {},
     "output_type": "execute_result"
    }
   ],
   "source": [
    "res_freq = vna.get_centerfreq()\n",
    "vna.get_centerfreq()"
   ]
  },
  {
   "cell_type": "code",
   "execution_count": 260,
   "id": "d91d7b8f-0b1d-4e57-b2ac-2aa964455643",
   "metadata": {},
   "outputs": [],
   "source": [
    "# Measurement parameter\n",
    "\n",
    "# field bias\n",
    "dc_start = -100e-6 # A\n",
    "dc_stop = -200e-6 # A\n",
    "dc_step = 5e-6 # A\n",
    "\n",
    "current_points = measurement_points([dc_start, dc_stop], dc_step)\n",
    "\n",
    "dc_time = 0.25\n",
    "\n",
    "# mw drive\n",
    "mw_start = 7e9 # Hz\n",
    "mw_stop = 8e9 # Hz\n",
    "mw_step = 20e6 # Hz\n",
    "\n",
    "mw_points = measurement_points([mw_start, mw_stop], mw_step)\n",
    "\n",
    "mw_power = -10\n",
    "\n",
    "# VNA\n",
    "vna_nop  = 401 \n",
    "vna_span = 10e6 # Hz\n",
    "vna_avg = 20\n",
    "vna_bw = 50 # Hz\n",
    "vna_power = -45 # dB"
   ]
  },
  {
   "cell_type": "code",
   "execution_count": 261,
   "id": "a888bff3-f93b-488d-9397-90510cb0366d",
   "metadata": {},
   "outputs": [
    {
     "data": {
      "text/plain": [
       "True"
      ]
     },
     "execution_count": 261,
     "metadata": {},
     "output_type": "execute_result"
    }
   ],
   "source": [
    "mw_src.set_status(False)"
   ]
  },
  {
   "cell_type": "code",
   "execution_count": 262,
   "id": "738c43c5-731c-4ee8-a1b0-a5f0efa85805",
   "metadata": {},
   "outputs": [
    {
     "data": {
      "text/plain": [
       "True"
      ]
     },
     "execution_count": 262,
     "metadata": {},
     "output_type": "execute_result"
    }
   ],
   "source": [
    "vna.set_power(vna_power)\n",
    "mw_src.set_power_offset(mw_att)\n",
    "mw_src.set_power(mw_power)"
   ]
  },
  {
   "cell_type": "code",
   "execution_count": 263,
   "id": "f1552821-8c22-485b-b602-4297257a9a59",
   "metadata": {},
   "outputs": [
    {
     "data": {
      "text/plain": [
       "True"
      ]
     },
     "execution_count": 263,
     "metadata": {},
     "output_type": "execute_result"
    }
   ],
   "source": [
    "vna.set_span(vna_span)\n",
    "vna.set_nop(vna_nop)"
   ]
  },
  {
   "cell_type": "code",
   "execution_count": 264,
   "id": "fb33aeb6-c0e4-46f5-acfe-a3a09ecf8e50",
   "metadata": {},
   "outputs": [
    {
     "data": {
      "text/plain": [
       "True"
      ]
     },
     "execution_count": 264,
     "metadata": {},
     "output_type": "execute_result"
    }
   ],
   "source": [
    "vna.set_averages(vna_avg)\n",
    "vna.set_Average(True)"
   ]
  },
  {
   "cell_type": "code",
   "execution_count": 265,
   "id": "9b74504d-08a8-4a0c-b92b-333966033e2b",
   "metadata": {},
   "outputs": [
    {
     "data": {
      "text/plain": [
       "True"
      ]
     },
     "execution_count": 265,
     "metadata": {},
     "output_type": "execute_result"
    }
   ],
   "source": [
    "vna.set_bandwidth(vna_bw)"
   ]
  },
  {
   "cell_type": "code",
   "execution_count": 266,
   "id": "78b9ed4e-1a2b-456a-8070-2395498d1e41",
   "metadata": {},
   "outputs": [
    {
     "data": {
      "text/plain": [
       "'\\nres_freq = vna.get_centerfreq()\\nvna.get_centerfreq()\\nvna.set_nop(1)\\n'"
      ]
     },
     "execution_count": 266,
     "metadata": {},
     "output_type": "execute_result"
    }
   ],
   "source": [
    "# Measurement with one point: One point (centerfreq) in amp. dip or phase edge\n",
    "\n",
    "\"\"\"\n",
    "res_freq = vna.get_centerfreq()\n",
    "vna.get_centerfreq()\n",
    "vna.set_nop(1)\n",
    "\"\"\""
   ]
  },
  {
   "cell_type": "code",
   "execution_count": 267,
   "id": "8c8e3d47-4e65-4cff-96da-19089c16a962",
   "metadata": {},
   "outputs": [
    {
     "data": {
      "text/plain": [
       "'\\nvna.set_startfreq(res_freq)\\nvna.set_stopfreq(res_freq+300e3)\\nvna.set_nop(2)\\n'"
      ]
     },
     "execution_count": 267,
     "metadata": {},
     "output_type": "execute_result"
    }
   ],
   "source": [
    "# Measurement with two points: One point (centerfreq) in amp. dip or phase edge and second point about 500 KHz left or right \n",
    "\n",
    "\"\"\"\n",
    "vna.set_startfreq(res_freq)\n",
    "vna.set_stopfreq(res_freq+300e3)\n",
    "vna.set_nop(2)\n",
    "\"\"\""
   ]
  },
  {
   "cell_type": "code",
   "execution_count": 268,
   "id": "e13fecf2-e5bc-42d1-ac46-a0f1ab9fbdd4",
   "metadata": {},
   "outputs": [
    {
     "data": {
      "text/plain": [
       "True"
      ]
     },
     "execution_count": 268,
     "metadata": {},
     "output_type": "execute_result"
    }
   ],
   "source": [
    "# Measurement with three points: One point (centerfreq) in amp. dip or phase edge and one point left and right each (baseline)\n",
    "\n",
    "res_freq = vna.get_centerfreq()\n",
    "vna.get_centerfreq()\n",
    "vna.set_nop(3)"
   ]
  },
  {
   "cell_type": "code",
   "execution_count": 269,
   "id": "df6ab6c8-d6d9-444a-b2d1-a73d0069baab",
   "metadata": {},
   "outputs": [
    {
     "name": "stdout",
     "output_type": "stream",
     "text": [
      "Masurement duration: 40.2 min, ends at  2023-04-27 12:23:39.933692\n"
     ]
    }
   ],
   "source": [
    "def x_function(i):\n",
    "    #IVD.set_current(i) \n",
    "    IVD.ramp_current(i, dc_step, dc_time)\n",
    "\n",
    "# x parameters for field sweep\n",
    "s.set_x_parameters(x_vec=current_points,\n",
    "                   x_coordname='current_bias', \n",
    "                   x_set_obj=x_function, \n",
    "                   x_unit='Amp')\n",
    "\n",
    "# y parameters for mw source\n",
    "s.set_y_parameters(y_vec=mw_points,\n",
    "                   y_coordname='mw_frequency', \n",
    "                   y_set_obj=mw_src.set_frequency, \n",
    "                   y_unit='Hz')\n",
    "\n",
    "estimate_measurement_time(3)"
   ]
  },
  {
   "cell_type": "code",
   "execution_count": 270,
   "id": "5d5a3035-ebea-4a79-b7ea-6a1fb40d56a5",
   "metadata": {},
   "outputs": [],
   "source": [
    "s.comment = \"\"\"Directional coupler : -20dBm VNA, MW source: \"\"\" + str(vna_att) +  \"\"\" dBm external\"\"\"\n",
    "#s.comment = \"\"\"no directional coupler\"\"\""
   ]
  },
  {
   "cell_type": "code",
   "execution_count": 271,
   "id": "881d6872-53a3-48b8-88c4-b0f13bc99e2c",
   "metadata": {
    "tags": []
   },
   "outputs": [],
   "source": [
    "qkit.cfg['user']= dir_sample + r'\\\\TwoTone_Current' + res_path(res)\n",
    "s.dirname = exp_name + \"_2tone_\" + str(round(mw_start/1e9,1)) + \"_to_\"  + str(round(mw_stop/1e9,1)) + \"_GHz_current_\" + str(round(dc_start/1e-3,1)) + \"_to_\"  + str(round(dc_stop/1e-3,1)) + \"_mA\""
   ]
  },
  {
   "cell_type": "code",
   "execution_count": 272,
   "id": "996b6d08-a669-4687-ac7b-22c28792663c",
   "metadata": {},
   "outputs": [],
   "source": [
    "IVD.set_current(dc_start)\n",
    "IVD.set_status(True)\n",
    "IVD.set_measurement_mode(0)\n",
    "IVD.set_bias_mode(0)"
   ]
  },
  {
   "cell_type": "code",
   "execution_count": 273,
   "id": "d0e229e2-9684-46a0-bfeb-79cde73b4625",
   "metadata": {},
   "outputs": [
    {
     "name": "stdout",
     "output_type": "stream",
     "text": [
      "-0.000595A\r"
     ]
    }
   ],
   "source": [
    "IVD.ramp_current(dc_start, dc_step, dc_time)"
   ]
  },
  {
   "cell_type": "code",
   "execution_count": 274,
   "id": "0e542640-644e-4d81-a92e-f8335f9ac10b",
   "metadata": {},
   "outputs": [
    {
     "data": {
      "application/vnd.jupyter.widget-view+json": {
       "model_id": "73b685a47ab3438d9178fdbca9eb8b76",
       "version_major": 2,
       "version_minor": 0
      },
      "text/plain": [
       "HTML(value=\"<table style='width:100%'><tr><td> (0/2091) </td><td>&#9992; 2023-04-27 (Thu) 12:23:52    </td><td…"
      ]
     },
     "metadata": {},
     "output_type": "display_data"
    },
    {
     "data": {
      "application/vnd.jupyter.widget-view+json": {
       "model_id": "63b4c02e54bb4436b9141c62e9b10d47",
       "version_major": 2,
       "version_minor": 0
      },
      "text/plain": [
       "IntProgress(value=0, description='3D VNA sweep GeQCoS4Qv4_3_C28_r1_2tone_7.0_to_8.0_GHz_current_-0.6_to_-0.4_m…"
      ]
     },
     "metadata": {},
     "output_type": "display_data"
    },
    {
     "name": "stdout",
     "output_type": "stream",
     "text": [
      "C:\\data\\EDEL_18\\Alex\\\\sample_C28\\\\TwoTone_Current\\RTRPOU_3D_GeQCoS4Qv4_3_C28_r1_2tone_7.0_to_8.0_GHz_current_-0.6_to_-0.4_mA_GeQCoS4Qv4_3_C28_r1\\RTRPOU_3D_GeQCoS4Qv4_3_C28_r1_2tone_7.0_to_8.0_GHz_current_-0.6_to_-0.4_mA_GeQCoS4Qv4_3_C28_r1.h5\n",
      "Plots saved in C:\\data\\EDEL_18\\Alex\\sample_C28\\TwoTone_Current\\RTRPOU_3D_GeQCoS4Qv4_3_C28_r1_2tone_7.0_to_8.0_GHz_current_-0.6_to_-0.4_mA_GeQCoS4Qv4_3_C28_r1\\images\n"
     ]
    }
   ],
   "source": [
    "mw_src.set_status(True)\n",
    "\n",
    "s.measure_3D()\n",
    "\n",
    "mw_src.set_status(False)\n",
    "IVD.set_current(0)\n",
    "IVD.set_status(False)"
   ]
  },
  {
   "attachments": {},
   "cell_type": "markdown",
   "id": "6921e667-68d7-43c6-8d9d-bd0dd790d262",
   "metadata": {
    "tags": []
   },
   "source": [
    "### 3D 2-tone Current sweep (res cal.)"
   ]
  },
  {
   "cell_type": "code",
   "execution_count": 297,
   "id": "3e12bfc7-ce4a-40b4-b025-a88a8d9d75df",
   "metadata": {},
   "outputs": [],
   "source": [
    "# initial_calibration_R1()\n",
    "# initial_calibration_R2()\n",
    "# initial_calibration_R3()\n",
    "# initial_calibration_R4()"
   ]
  },
  {
   "cell_type": "code",
   "execution_count": 29,
   "id": "44dccc42-2201-4b37-ae7f-b093a63c8a27",
   "metadata": {
    "tags": []
   },
   "outputs": [
    {
     "data": {
      "text/plain": [
       "'DC source set to 0.65 mA'"
      ]
     },
     "execution_count": 29,
     "metadata": {},
     "output_type": "execute_result"
    }
   ],
   "source": [
    "# set the flux bias\n",
    "dc_bias = 650e-6\n",
    "set_dc_bias(dc_bias)"
   ]
  },
  {
   "cell_type": "code",
   "execution_count": 30,
   "id": "5c7a447d-f173-4790-90bb-eb2b8e1c1861",
   "metadata": {
    "tags": []
   },
   "outputs": [
    {
     "data": {
      "text/plain": [
       "True"
      ]
     },
     "execution_count": 30,
     "metadata": {},
     "output_type": "execute_result"
    }
   ],
   "source": [
    "IVD.get_status()"
   ]
  },
  {
   "cell_type": "code",
   "execution_count": 31,
   "id": "93d8e192-3344-4e5c-bedb-3e1370cfce24",
   "metadata": {
    "tags": []
   },
   "outputs": [
    {
     "data": {
      "text/plain": [
       "7586000000.0"
      ]
     },
     "execution_count": 31,
     "metadata": {},
     "output_type": "execute_result"
    }
   ],
   "source": [
    "res_freq = vna.get_centerfreq()\n",
    "vna.get_centerfreq()"
   ]
  },
  {
   "cell_type": "code",
   "execution_count": 46,
   "id": "e5060b2d-be5c-4496-a2d5-3f9f755e9126",
   "metadata": {
    "tags": []
   },
   "outputs": [],
   "source": [
    "# Measurement parameter Upper Block at low currents\n",
    "\n",
    "# field bias\n",
    "dc_start = 800e-6 # A\n",
    "dc_stop = 1050e-6 # A\n",
    "dc_step = 10e-6 # A\n",
    "\n",
    "current_points = measurement_points([dc_start, dc_stop], dc_step)\n",
    "\n",
    "dc_time = 0.25\n",
    "\n",
    "# mw drive\n",
    "mw_start = 4.0e9 # Hz\n",
    "mw_stop = 7.45e9 # Hz\n",
    "mw_step = 10e6 # Hz\n",
    "\n",
    "mw_points = measurement_points([mw_start, mw_stop], mw_step)\n",
    "\n",
    "mw_power = -3 # dBm\n",
    "\n",
    "# VNA\n",
    "vna_nop  = 1  # measurement with one point in dip\n",
    "vna_span = 50e6 # Hz\n",
    "vna_avg = 120\n",
    "vna_bw = 80 # Hz\n",
    "vna_power = -33 # dBm\n",
    "\n",
    "# resonator calibration\n",
    "mode = \"phase\"\n",
    "cal_nop = 1001\n",
    "cal_span = 50e6\n",
    "cal_bw = 1000\n",
    "cal_avg = 20 #50\n",
    "\n",
    "DEBUG_RESONATOR_TRACING = False"
   ]
  },
  {
   "cell_type": "code",
   "execution_count": 47,
   "id": "7ad1d8af-679f-4f44-9479-5b9e73e7a14b",
   "metadata": {
    "tags": []
   },
   "outputs": [
    {
     "data": {
      "text/plain": [
       "True"
      ]
     },
     "execution_count": 47,
     "metadata": {},
     "output_type": "execute_result"
    }
   ],
   "source": [
    "vna.set_power(vna_power)\n",
    "mw_src.set_power_offset(mw_att)\n",
    "mw_src.set_power(mw_power)\n",
    "mw_src.set_frequency(mw_start)"
   ]
  },
  {
   "cell_type": "code",
   "execution_count": 48,
   "id": "cb5a9fdf-b4bc-408a-96c9-22d1c217410f",
   "metadata": {
    "tags": []
   },
   "outputs": [
    {
     "name": "stdout",
     "output_type": "stream",
     "text": [
      "Masurement duration: 7.2 h, ends at  2023-06-05 07:57:20.511901\n"
     ]
    }
   ],
   "source": [
    "# set bias current\n",
    "def x_function(i):   \n",
    "\n",
    "    # check cryo temperature and ramp current\n",
    "    if temperature_killswitch():\n",
    "        stop_current()\n",
    "    else:\n",
    "        IVD.ramp_current(i, dc_step, dc_time)\n",
    "    \n",
    "    # determine resonator frequency (without mw tone)\n",
    "        mw_src.set_status(False) # turn off mw source during search\n",
    "    vna.set_nop(cal_nop)\n",
    "    vna.set_centerfreq(res_freq)\n",
    "    vna.set_span(cal_span) # search the span aroud the resonator position\n",
    "    vna.set_bandwidth(cal_bw) # large IF bandwith, many averages\n",
    "    vna.set_averages(cal_avg)\n",
    "    vna.set_Average(True)\n",
    "\n",
    "    # Resonator measurement with MW source OFF\n",
    "    vna.pre_measurement()\n",
    "    vna.start_measurement()\n",
    "    while not vna.ready(): # wait till end of measurement\n",
    "        if temperature_killswitch():\n",
    "            stop_current()\n",
    "            return \n",
    "        else:\n",
    "            time.sleep(1e-1)\n",
    "            \n",
    "    # Find reesonance frequency\n",
    "    \n",
    "    # use phase derivative\n",
    "    s.freq = vna.get_freqpoints()\n",
    "    s.amp, s.pha = vna.get_tracedata() # dataset with the amp and phase data to find the resonator\n",
    "        \n",
    "    try:\n",
    "        # use phase \n",
    "        if mode in (\"pha\", \"phase\"):\n",
    "            # Savitzky-Golay-Filter: digital smoothing filter, increases the precision without distorting the signal tendency\n",
    "            # Convolution of low-degree polynomial over the data and fit\n",
    "            if DEBUG_RESONATOR_TRACING:\n",
    "                print(\"Using phase data\")\n",
    "                import matplotlib.pyplot as plt\n",
    "                plt.plot(s.freq, s.pha)\n",
    "                plt.show()\n",
    "            unwraped_phase = np.unwrap(s.pha)\n",
    "            pha_savgol = - sig.savgol_filter(unwraped_phase, window_length=9, polyorder=3, deriv=1)\n",
    "            peaks = sig.find_peaks(pha_savgol, prominence=4e-2)\n",
    "            peak = sig.find_peaks(pha_savgol, prominence=np.max(peaks[1]['prominences']))\n",
    "            \n",
    "        # use amplitude\n",
    "        elif mode in (\"amp\", \"amplitude\"):\n",
    "            if DEBUG_RESONATOR_TRACING:\n",
    "                print(\"Using amplitude data\")\n",
    "                import matplotlib.pyplot as plt\n",
    "                plt.plot(s.freq, s.amp)\n",
    "                plt.show()\n",
    "            peaks = sig.find_peaks(-s.amp, prominence= 1e-3)\n",
    "            peak = sig.find_peaks(-s.amp, prominence=np.max(peaks[1]['prominences']))\n",
    "        \n",
    "        s.centerfreq = s.freq[peak[0][0]]\n",
    "        if DEBUG_RESONATOR_TRACING:\n",
    "            print(\"Found resonator at %s\" % s.centerfreq)\n",
    "    except Exception as e:\n",
    "        if DEBUG_RESONATOR_TRACING:\n",
    "            print(\"Resonator detection failed: %s\" % e)\n",
    "        pass\n",
    "    \n",
    "    # set VNA-frequency to resonant frequency\n",
    "    vna.set_nop(vna_nop)\n",
    "    vna.set_span(vna_span)\n",
    "    vna.set_centerfreq(s.centerfreq)\n",
    "    vna.set_bandwidth(vna_bw)\n",
    "    vna.set_Average(True)\n",
    "    vna.set_averages(vna_avg)\n",
    "    vna.pre_measurement()\n",
    "    mw_src.set_status(True)\n",
    "\n",
    "# set mw source\n",
    "def y_function(i):\n",
    "    if i == 0:\n",
    "        mw_src.set_status(False)\n",
    "    else:\n",
    "        if temperature_killswitch():\n",
    "            stop_current()\n",
    "        else:\n",
    "            mw_src.set_frequency(i)\n",
    "            mw_src.set_status(True)\n",
    "    \n",
    "# x parameters for field sweep\n",
    "s.set_x_parameters(x_vec=current_points,\n",
    "                   x_coordname='current_bias', \n",
    "                   x_set_obj=x_function, \n",
    "                   x_unit='Amp')\n",
    "\n",
    "# y parameters for mw source\n",
    "s.set_y_parameters(y_vec=mw_points,\n",
    "                   y_coordname='mw_frequency', \n",
    "                   y_set_obj=y_function, \n",
    "                   y_unit='Hz')\n",
    "\n",
    "# log entry for centerfrequency\n",
    "s.set_log_function(func=(lambda: s.centerfreq, ),\n",
    "                   name=('centerfreq', ),\n",
    "                   unit=('Hz', ))\n",
    "\n",
    "estimate_measurement_time(3)"
   ]
  },
  {
   "cell_type": "code",
   "execution_count": 50,
   "id": "dcd407f8-0283-451d-8cb4-c7767bafad09",
   "metadata": {
    "tags": []
   },
   "outputs": [],
   "source": [
    "IVD.ramp_current(s.x_vec[0], dc_start)\n",
    "x_function(s.x_vec[0])"
   ]
  },
  {
   "cell_type": "code",
   "execution_count": 51,
   "id": "5762a986-3fea-4be8-b599-366987c85c1c",
   "metadata": {
    "tags": []
   },
   "outputs": [],
   "source": [
    "s.comment = \"\"\"Directional coupler : -20dBm VNA, MW source: \"\"\" + str(vna_att) +  \"\"\" dBm external\"\"\"\n",
    "#s.comment = \"\"\"no directional coupler\"\"\""
   ]
  },
  {
   "cell_type": "code",
   "execution_count": 52,
   "id": "e9b99a95-f41b-452d-b1d9-e9eb03e206b8",
   "metadata": {
    "tags": []
   },
   "outputs": [],
   "source": [
    "qkit.cfg['user']= dir_sample + r'\\\\TwoTone_Current' + res_path(res)\n",
    "s.dirname = exp_name + \"_2tone_\" + str(round(mw_start/1e9,1)) + \"_to_\"  + str(round(mw_stop/1e9,1)) + \"_GHz_current_\" + str(round(dc_start/1e-3,1)) + \"_to_\"  + str(round(dc_stop/1e-3,1)) + \"_mA\""
   ]
  },
  {
   "cell_type": "code",
   "execution_count": 53,
   "id": "c253758f-8146-446c-98c8-0ff39327bbdd",
   "metadata": {
    "tags": []
   },
   "outputs": [],
   "source": [
    "IVD.set_current(dc_start)\n",
    "IVD.set_status(True)\n",
    "IVD.set_measurement_mode(0)\n",
    "IVD.set_bias_mode(0)"
   ]
  },
  {
   "cell_type": "code",
   "execution_count": 54,
   "id": "9f2f4ea0-80c6-445e-a377-f8659fa9cd49",
   "metadata": {
    "tags": []
   },
   "outputs": [
    {
     "data": {
      "application/vnd.jupyter.widget-view+json": {
       "model_id": "dce829860ee34707a317f374d75eed93",
       "version_major": 2,
       "version_minor": 0
      },
      "text/plain": [
       "HTML(value=\"<table style='width:100%'><tr><td> (0/8996) </td><td>&#9992; 2023-06-05 (Mon) 04:53:08    </td><td…"
      ]
     },
     "metadata": {},
     "output_type": "display_data"
    },
    {
     "data": {
      "application/vnd.jupyter.widget-view+json": {
       "model_id": "10a1a54a0beb4821b9a054b3a4e5db1a",
       "version_major": 2,
       "version_minor": 0
      },
      "text/plain": [
       "IntProgress(value=0, description='3D VNA sweep GeQCoS4Qv4_3_C48_r3_2tone_4.0_to_7.5_GHz_current_0.8_to_1.0_mA'…"
      ]
     },
     "metadata": {},
     "output_type": "display_data"
    },
    {
     "name": "stdout",
     "output_type": "stream",
     "text": [
      "C:\\data\\EDEL_18\\Alex\\\\sample_C48\\\\TwoTone_Current\\\\Res_3\\RVR39A_3D_GeQCoS4Qv4_3_C48_r3_2tone_4.0_to_7.5_GHz_current_0.8_to_1.0_mA_GeQCoS4Qv4_3_C48_r3\\RVR39A_3D_GeQCoS4Qv4_3_C48_r3_2tone_4.0_to_7.5_GHz_current_0.8_to_1.0_mA_GeQCoS4Qv4_3_C48_r3.h5\n",
      "Plots saved in C:\\data\\EDEL_18\\Alex\\sample_C48\\TwoTone_Current\\Res_3\\RVR39A_3D_GeQCoS4Qv4_3_C48_r3_2tone_4.0_to_7.5_GHz_current_0.8_to_1.0_mA_GeQCoS4Qv4_3_C48_r3\\images\n"
     ]
    }
   ],
   "source": [
    "# Measurement without landscape\n",
    "\n",
    "mw_src.set_status(True)\n",
    "\n",
    "s.measure_3D()\n",
    "\n",
    "mw_src.set_status(False)\n",
    "IVD.set_current(0)\n",
    "IVD.set_status(False)\n"
   ]
  },
  {
   "attachments": {},
   "cell_type": "markdown",
   "id": "c63c9b75-9f70-4227-be9b-8a51a2cbf5f1",
   "metadata": {},
   "source": [
    "### landscape scan"
   ]
  },
  {
   "cell_type": "code",
   "execution_count": 44,
   "id": "42f2e97a-e35b-4460-a960-58254ca10176",
   "metadata": {
    "tags": []
   },
   "outputs": [],
   "source": [
    "# C28, Qubit 1, 09.05.2023\n",
    "raw = \"\"\"\n",
    "1e-05   8e+09   9.61302e-05\n",
    "3e-05   8.07e+09        0.000105706\n",
    "5e-05   8.12e+09        6.03795e-05\n",
    "5e-05   8.15e+09        -3.71207e-05\n",
    "7e-05   8.2e+09 0.000273453\n",
    "9e-05   8.22e+09        -6.12733e-05\n",
    "0.00011 8.26e+09        -8.04868e-05\n",
    "0.00013 8.3e+09 -0.000378326\n",
    "0.00017 8.36e+09        -0.000312868\n",
    "0.00017 8.39e+09        -6.2719e-05\n",
    "0.00019 8.44e+09        -0.00012395\n",
    "0.00021 8.49e+09        -0.00011598\n",
    "0.00023 8.55e+09        -0.000258758\n",
    "0.00027 8.6e+09 -9.73241e-05\n",
    "0.00029 8.64e+09        -3.93065e-05\n",
    "0.00031 8.68e+09        -0.000117832\n",
    "0.00033 8.7e+09 -0.00108778\n",
    "0.00035 8.71e+09        -0.00183737\n",
    "0.00037 8.72e+09        -0.00225962\n",
    "0.00039 8.74e+09        -0.00172091\n",
    "0.00041 8.76e+09        -0.00186277\n",
    "0.00045 8.77e+09        -0.000890615\n",
    "0.00045 8.78e+09        -0.00135738\n",
    "0.00051 8.8e+09 -0.00147409\n",
    "0.00049 8.79e+09        -0.000960421\n",
    "0.00055 8.8e+09 -0.00145479\n",
    "0.00057 8.8e+09 -0.000772224\n",
    "0.00061 8.79e+09        -0.000409245\n",
    "0.00063 8.79e+09        -0.00158013\n",
    "0.00065 8.78e+09        -0.000880796\n",
    "0.00067 8.77e+09        -0.0023867\n",
    "0.00069 8.76e+09        -0.00173891\n",
    "0.00071 8.75e+09        -0.00183124\n",
    "0.00073 8.74e+09        -0.00127376\n",
    "0.00075 8.72e+09        -0.00106832\n",
    "0.00077 8.71e+09        -0.00128103\n",
    "0.00079 8.68e+09        -0.000737401\n",
    "0.00079 8.66e+09        -0.000582018\n",
    "0.00083 8.61e+09        -7.85757e-06\n",
    "0.00083 8.59e+09        -0.000105355\n",
    "0.00087 8.56e+09        -0.000293707\n",
    "0.00089 8.52e+09        -0.000374682\n",
    "0.00089 8.49e+09        0.000123941\n",
    "0.00091 8.45e+09        -0.000342742\n",
    "0.00093 8.43e+09        -0.000390442\n",
    "0.00095 8.37e+09        0.00011655\n",
    "0.00097 8.32e+09        -0.000609028\n",
    "0.00099 8.27e+09        1.72709e-05\n",
    "0.00101 8.24e+09        0.000269279\n",
    "0.00101 8.21e+09        0.000175311\n",
    "0.00103 8.17e+09        0.000211641\n",
    "0.00105 8.12e+09        0.000216343\n",
    "0.00109 8.07e+09        0.000133596\n",
    "0.00109 8.02e+09        0.000188518\n",
    "0.00109 8e+09   -0.000116922\n",
    "\"\"\""
   ]
  },
  {
   "cell_type": "code",
   "execution_count": 54,
   "id": "7242f7d9-4a99-46fa-85a2-09f1c5f33fb2",
   "metadata": {
    "tags": []
   },
   "outputs": [],
   "source": [
    "# qubit 3 - 13.05.\n",
    "raw = \"\"\"\n",
    "-0.00035        7.95e+09        0.0002624\n",
    "-0.00034        7.98e+09        nan\n",
    "-0.00033        8e+09   nan\n",
    "-0.00033        8.03e+09        0.000207153\n",
    "-0.00032        8.06e+09        0.000386109\n",
    "-0.00031        8.11e+09        0.000261912\n",
    "-0.0003 8.14e+09        7.75559e-05\n",
    "-0.0003 8.16e+09        0.000209359\n",
    "-0.00029        8.2e+09 0.0002055\n",
    "-0.00028        8.24e+09        0.000124706\n",
    "-0.00027        8.27e+09        4.45405e-06\n",
    "-0.00026        8.3e+09 -0.00028221\n",
    "-0.00025        8.33e+09        0.000670995\n",
    "-0.00024        8.35e+09        0.000903993\n",
    "-0.00022        8.4e+09 1.25561e-05\n",
    "-0.0002 8.44e+09        0.000677327\n",
    "-0.00019        8.5e+09 -0.000354458\n",
    "-0.00016        8.55e+09        -0.000218859\n",
    "-0.00014        8.58e+09        -0.000614464\n",
    "-0.00011        8.61e+09        -0.000854376\n",
    "-8e-05  8.65e+09        -0.00108807\n",
    "-7e-05  8.65e+09        -0.000230604\n",
    "-5e-05  8.68e+09        0.000599792\n",
    "-3e-05  8.69e+09        -0.00110299\n",
    "9.21572e-19     8.7e+09 0.000613234\n",
    "2e-05   8.7e+09 0.00242244\n",
    "4e-05   8.7e+09 0.0015514\n",
    "6e-05   8.7e+09 0.00314271\n",
    "9e-05   8.69e+09        8.01499e-05\n",
    "0.00012 8.67e+09        0.000396093\n",
    "0.00013 8.67e+09        0.000391425\n",
    "0.00015 8.64e+09        -0.000383247\n",
    "0.00018 8.61e+09        -0.000988344\n",
    "0.0002  8.59e+09        0.000223809\n",
    "0.00022 8.57e+09        1.31811e-05\n",
    "0.00023 8.54e+09        -1.16981e-05\n",
    "0.00025 8.52e+09        -0.000443188\n",
    "0.00026 8.49e+09        -0.000212779\n",
    "0.00028 8.46e+09        nan\n",
    "0.00029 8.42e+09        0.000141811\n",
    "0.0003  8.38e+09        0.000673815\n",
    "0.00031 8.36e+09        nan\n",
    "0.00032 8.33e+09        nan\n",
    "0.00033 8.29e+09        nan\n",
    "0.00034 8.25e+09        nan\n",
    "0.00036 8.21e+09        nan\n",
    "0.00037 8.18e+09        nan\n",
    "0.00038 8.13e+09        nan\n",
    "0.00039 8.11e+09        nan\n",
    "0.0004  8.06e+09        nan\n",
    "0.0004  8.03e+09        nan\n",
    "\"\"\""
   ]
  },
  {
   "cell_type": "code",
   "execution_count": 55,
   "id": "20516e57-c06d-4854-907a-e860a12972f2",
   "metadata": {
    "tags": []
   },
   "outputs": [],
   "source": [
    "# data post processing\n",
    "\n",
    "raw_numbers = [[float(str_value) for str_value in line.split()] for line in raw.splitlines() if line]\n",
    "I, f, _ = np.array(raw_numbers).T\n",
    "\n",
    "delta_f = 0\n",
    "delta_I = 0\n",
    "\n",
    "for i in range(len(f)):\n",
    "    f[i] = f[i] + delta_f\n",
    "    I[i] = I[i] + delta_I"
   ]
  },
  {
   "cell_type": "code",
   "execution_count": 56,
   "id": "a2a49890-b766-4c79-9602-47ba83bb5b2c",
   "metadata": {
    "tags": []
   },
   "outputs": [],
   "source": [
    "# fit functions for the (I,f)-curve\n",
    "\n",
    "# hyperbola\n",
    "def f_hyp(x, a, b, c):\n",
    "    \"hyperbolic function with the form y = sqrt[ a*(x-b)**2 + c ]\"\n",
    "    return np.sqrt(a * (x - b) ** 2 + c)\n",
    "\n",
    "# parabola\n",
    "def f_par(x, a, b, c):\n",
    "    \"parabolic function with the form y = a*(x-b)**2 + c ]\"\n",
    "    return (a * (x - b) ** 2 + c)"
   ]
  },
  {
   "cell_type": "code",
   "execution_count": 57,
   "id": "65402bf6-737a-47b0-93ff-5d48dd51bdc2",
   "metadata": {
    "tags": []
   },
   "outputs": [
    {
     "name": "stdout",
     "output_type": "stream",
     "text": [
      "-5010042930827803.0 3.7935732998250776e-05 8721776012.317385\n"
     ]
    },
    {
     "data": {
      "image/png": "[encoded data removed]",
      "text/plain": [
       "<Figure size 640x480 with 1 Axes>"
      ]
     },
     "metadata": {},
     "output_type": "display_data"
    }
   ],
   "source": [
    "# fitting curve to data points\n",
    "\n",
    "I_fit = np.linspace(min(I), max(I), 1001)\n",
    "p0 = (-1.0e15, 1300e-6, 8.86e9)\n",
    "popt, pcov = opt.curve_fit(f_par, xdata=I, ydata=f, p0=p0)\n",
    "f_fit = f_par(I_fit, *popt)\n",
    "\n",
    "plt.plot(I*1e3, f, '.', label=\"raw\")\n",
    "plt.plot(I_fit*1e3, f_fit, label=\"popt\")\n",
    "#plt.plot(I_fit*1e3, f_par(I_fit, *p0), label=\"p0\")\n",
    "plt.ylabel(\"mw frequency (GHz)\")\n",
    "plt.xlabel(\"bias current (mA)\")\n",
    "plt.legend()\n",
    "print(*popt)"
   ]
  },
  {
   "cell_type": "code",
   "execution_count": 58,
   "id": "c835ac3b-049e-4f3b-a175-c0d12ac5a670",
   "metadata": {
    "tags": []
   },
   "outputs": [
    {
     "name": "stdout",
     "output_type": "stream",
     "text": [
      "xz_landscape deleted\n"
     ]
    },
    {
     "data": {
      "image/png": "[encoded data removed]",
      "text/plain": [
       "<Figure size 640x480 with 1 Axes>"
      ]
     },
     "metadata": {},
     "output_type": "display_data"
    }
   ],
   "source": [
    "# set curve type for landscape ('parab' or 'hyperb')\n",
    "# set span around curve to define landscape width\n",
    "\n",
    "s.landscape.delete_landscape_function_xy()\n",
    "s.landscape.delete_landscape_function_xz()\n",
    "s.landscape.generate_fit_function_xy(curve_f='parab',\n",
    "                                     curve_p=[I, f],\n",
    "                                     p0=popt,\n",
    "                                     y_span=300e6\n",
    "                                    )\n",
    "\n",
    "#s.landscape.xylandscapes[0]['center_points'] *= 1e9\n",
    "s.landscape.xylandscapes\n",
    "\n",
    "s.landscape.plot_xy_landscape()"
   ]
  },
  {
   "cell_type": "code",
   "execution_count": 59,
   "id": "ac4a32db-bd9e-4898-b864-529693802af4",
   "metadata": {
    "tags": []
   },
   "outputs": [
    {
     "data": {
      "application/vnd.jupyter.widget-view+json": {
       "model_id": "9d6a1153638542d682c08b3e643c8d38",
       "version_major": 2,
       "version_minor": 0
      },
      "text/plain": [
       "HTML(value=\"<table style='width:100%'><tr><td> (0/19600) </td><td>&#9992; 2023-05-15 (Mon) 10:25:29    </td><t…"
      ]
     },
     "metadata": {},
     "output_type": "display_data"
    },
    {
     "data": {
      "application/vnd.jupyter.widget-view+json": {
       "model_id": "e86bf85d148d455490b17ff46806a5ca",
       "version_major": 2,
       "version_minor": 0
      },
      "text/plain": [
       "IntProgress(value=0, description='3D VNA sweep GeQCoS4Qv4_3_C28_r3_2tone_7.8_to_8.8_GHz_current_-0.4_to_0.5_mA…"
      ]
     },
     "metadata": {},
     "output_type": "display_data"
    },
    {
     "name": "stdout",
     "output_type": "stream",
     "text": [
      "C:\\data\\EDEL_18\\Alex\\\\sample_C28\\\\TwoTone_Current\\\\Res_3\\RUMXH2_3D_GeQCoS4Qv4_3_C28_r3_2tone_7.8_to_8.8_GHz_current_-0.4_to_0.5_mA_GeQCoS4Qv4_3_C28_r3\\RUMXH2_3D_GeQCoS4Qv4_3_C28_r3_2tone_7.8_to_8.8_GHz_current_-0.4_to_0.5_mA_GeQCoS4Qv4_3_C28_r3.h5\n"
     ]
    },
    {
     "ename": "SystemExit",
     "evalue": "Heat Stop at 0.37993499999999997 mA; Current status: False",
     "output_type": "error",
     "traceback": [
      "An exception has occurred, use %tb to see the full traceback.\n",
      "\u001B[1;31mSystemExit\u001B[0m\u001B[1;31m:\u001B[0m Heat Stop at 0.37993499999999997 mA; Current status: False\n"
     ]
    },
    {
     "name": "stderr",
     "output_type": "stream",
     "text": [
      "C:\\qkit\\.venv\\lib\\site-packages\\IPython\\core\\interactiveshell.py:3516: UserWarning: To exit: use 'exit', 'quit', or Ctrl-D.\n",
      "  warn(\"To exit: use 'exit', 'quit', or Ctrl-D.\", stacklevel=1)\n"
     ]
    },
    {
     "name": "stdout",
     "output_type": "stream",
     "text": [
      "Exception in qkit/gui/plot/plot.py while plotting\n",
      "/entry/data0/centerfreq\n",
      "x and y must have same first dimension, but have shapes (173,) and (156,)\n",
      "Plots saved in C:\\data\\EDEL_18\\Alex\\sample_C28\\TwoTone_Current\\Res_3\\RUMXH2_3D_GeQCoS4Qv4_3_C28_r3_2tone_7.8_to_8.8_GHz_current_-0.4_to_0.5_mA_GeQCoS4Qv4_3_C28_r3\\images\n"
     ]
    }
   ],
   "source": [
    "# Measurement with landscape\n",
    "\n",
    "mw_src.set_status(True)\n",
    "\n",
    "s.measure_3D()\n",
    "\n",
    "mw_src.set_status(False)\n",
    "IVD.set_current(0)\n",
    "IVD.set_status(False)"
   ]
  },
  {
   "attachments": {},
   "cell_type": "markdown",
   "id": "0b184027-5548-472e-8fb2-4a2d0fa68ea5",
   "metadata": {},
   "source": [
    "### readout resonator calibration test"
   ]
  },
  {
   "cell_type": "code",
   "execution_count": null,
   "id": "55918881-c565-497e-9b11-00f4962d0259",
   "metadata": {},
   "outputs": [],
   "source": [
    "# set the flux bias\n",
    "dc_bias = 600e-6\n",
    "set_dc_bias(dc_bias)"
   ]
  },
  {
   "cell_type": "code",
   "execution_count": null,
   "id": "70a050b7-783d-471f-9be6-52695c0f4216",
   "metadata": {},
   "outputs": [],
   "source": [
    "IVD.get_status()"
   ]
  },
  {
   "cell_type": "code",
   "execution_count": 37,
   "id": "548a9e82-f298-4578-9ef3-1436b81be9d6",
   "metadata": {},
   "outputs": [],
   "source": [
    "res_freq = vna.get_centerfreq()\n",
    "vna.get_centerfreq()"
   ]
  },
  {
   "cell_type": "code",
   "execution_count": 35,
   "id": "de524de0-3714-4f10-9e39-00e8b3fa321f",
   "metadata": {},
   "outputs": [
    {
     "data": {
      "application/vnd.jupyter.widget-view+json": {
       "model_id": "58da3cfea7334f24808972e096c705d8",
       "version_major": 2,
       "version_minor": 0
      },
      "text/plain": [
       "HTML(value=\"<table style='width:100%'><tr><td> (0/20) </td><td>&#9992; 2023-04-13 (Thu) 14:22:51    </td><td>&…"
      ]
     },
     "metadata": {},
     "output_type": "display_data"
    },
    {
     "data": {
      "application/vnd.jupyter.widget-view+json": {
       "model_id": "3df71c7b1fa54e499ce64568f30c6aa9",
       "version_major": 2,
       "version_minor": 0
      },
      "text/plain": [
       "IntProgress(value=0, description='VNA_tracedata', layout=Layout(width='95%'), max=20)"
      ]
     },
     "metadata": {},
     "output_type": "display_data"
    },
    {
     "name": "stdout",
     "output_type": "stream",
     "text": [
      "C:\\data\\EDEL_18\\Alex\\RT1ZPN_VNA_tracedata_GeQCoS4Qv4_3_C28_r3\\RT1ZPN_VNA_tracedata_GeQCoS4Qv4_3_C28_r3.h5\n"
     ]
    }
   ],
   "source": [
    "# search for optimal working point of resonator (VNA)\n",
    "\n",
    "mode = \"amplitude\"\n",
    "cal_nop = 801\n",
    "cal_span = 40e6\n",
    "cal_bw = 1000\n",
    "cal_avg = 20\n",
    "\n",
    "# determine resonator frequency (without mw tone)\n",
    "mw_src.set_status(False) # turn off mw source during search\n",
    "vna.set_nop(cal_nop)\n",
    "vna.set_centerfreq(res_freq)\n",
    "vna.set_span(cal_span) # search the span aroud the resonator position\n",
    "vna.set_bandwidth(cal_bw) # large IF bandwith, many averages\n",
    "vna.set_averages(cal_avg)\n",
    "vna.set_Average(True)\n",
    "\n",
    "s.measure_1D()\n",
    "\n",
    "s.freq = vna.get_freqpoints()\n",
    "s.amp, s.pha = vna.get_tracedata() # dataset with the amp and phase data to tind the resonator"
   ]
  },
  {
   "cell_type": "code",
   "execution_count": 16,
   "id": "fcd84a5e-32a2-4a3d-a25c-79e2a946d0df",
   "metadata": {},
   "outputs": [],
   "source": [
    "# Determine f_res with amplitude data\n",
    "\n",
    "plt.plot(s.freq, -s.amp)\n",
    "\n",
    "peaks = sig.find_peaks(-s.amp, prominence= 5e-4)\n",
    "peak = sig.find_peaks(-s.amp, prominence=np.max(peaks[1]['prominences']))\n",
    "s.centerfreq = s.freq[peak[0][0]]\n",
    "\n",
    "print(\"Amplitude: f_res = \" + str(round(s.centerfreq/1e9, 3)) + \" GHz\")"
   ]
  },
  {
   "cell_type": "code",
   "execution_count": null,
   "id": "a124f3ad-db96-4b51-a1ba-7f2fb378c4ff",
   "metadata": {},
   "outputs": [],
   "source": [
    "# Determine f_res with phase data\n",
    "\n",
    "plt.plot(s.freq, -np.gradient(s.pha))\n",
    "pha_savgol = -sig.savgol_filter(s.pha, window_length=9, polyorder=3, deriv=1)\n",
    "plt.plot(s.freq, pha_savgol)\n",
    "\n",
    "peaks = sig.find_peaks(pha_savgol, prominence= 4e-2)\n",
    "peak = sig.find_peaks(pha_savgol, prominence=np.max(peaks[1]['prominences']))\n",
    "s.centerfreq = s.freq[peak[0][0]]\n",
    "\n",
    "print(\"Phase: f_res = \" + str(round(s.centerfreq/1e9, 3)) + \" GHz\")"
   ]
  }
 ],
 "metadata": {
  "kernelspec": {
   "display_name": "Python 3 (ipykernel)",
   "language": "python",
   "name": "python3"
  },
  "language_info": {
   "codemirror_mode": {
    "name": "ipython",
    "version": 3
   },
   "file_extension": ".py",
   "mimetype": "text/x-python",
   "name": "python",
   "nbconvert_exporter": "python",
   "pygments_lexer": "ipython3",
   "version": "3.10.11"
  }
 },
 "nbformat": 4,
 "nbformat_minor": 5
}
