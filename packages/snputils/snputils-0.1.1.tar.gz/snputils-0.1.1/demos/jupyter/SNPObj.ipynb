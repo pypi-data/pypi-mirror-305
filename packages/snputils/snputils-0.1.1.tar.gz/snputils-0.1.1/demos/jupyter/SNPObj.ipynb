{
 "cells": [
  {
   "cell_type": "markdown",
   "id": "7150f5dc-9000-460d-a33d-9d423e318f6c",
   "metadata": {},
   "source": [
    "# Tutorial on the SNPObj Functionalities"
   ]
  },
  {
   "cell_type": "code",
   "execution_count": 25,
   "id": "674d136a-1ded-4ce0-babc-87556d518b5f",
   "metadata": {},
   "outputs": [],
   "source": [
    "import logging\n",
    "import os\n",
    "import sys\n",
    "import numpy as np\n",
    "\n",
    "dir = os.path.abspath('../../../snputils/')\n",
    "if not dir in sys.path: sys.path.append(dir)\n",
    "\n",
    "from snputils.snp.io.read.vcf import VCFReader\n",
    "from snputils.snp.io.write import VCFWriter\n",
    "\n",
    "logging.basicConfig(stream=sys.stdout, level=logging.INFO)"
   ]
  },
  {
   "cell_type": "markdown",
   "id": "4950224f-57a7-408e-b8d4-dd4d26af74c2",
   "metadata": {},
   "source": [
    "### 1. Read VCF file into a SNPObj"
   ]
  },
  {
   "cell_type": "markdown",
   "id": "9b5b691a-b3bb-4365-b511-bf6c6f94b96a",
   "metadata": {},
   "source": [
    "Following, we show how to read a VCF file into a SNPObject. The SNPObj encapsulates similar attributes found in a VCF file, including:\n",
    "\n",
    "* **calldata_gt:** An array containing the genotypes.\n",
    "* **samples:** An array containing the sample IDs, or None if no samples are available.\n",
    "* **variants_ref:** An array containing the reference of each SNP.\n",
    "* **variants_alt:** An array containing the alternate alleles of each SNP.\n",
    "* **variants_chrom:** An array containing the chromosome of each SNP.\n",
    "* **variants_filter_pass:** An array containing flag for passed/failed control checks for each SNP.\n",
    "* **variants_id:** An array containing SNP IDs.\n",
    "* **variants_pos:** An array containing the position of each SNP in the chromosome.\n",
    "* **variants_qual:** An array containing the Phred-scaled quality score for each SNP."
   ]
  },
  {
   "cell_type": "code",
   "execution_count": 2,
   "id": "934f175f-b210-428d-9e7a-18347c949306",
   "metadata": {},
   "outputs": [
    {
     "name": "stdout",
     "output_type": "stream",
     "text": [
      "INFO:snputils.snp.io.read.vcf:Reading ../../data/subset.vcf\n",
      "INFO:snputils.snp.io.read.vcf:Finished reading ../../data/subset.vcf\n",
      "Attributes of the SNPObject: ['calldata_gt', 'samples', 'variants_ref', 'variants_alt', 'variants_chrom', 'variants_filter_pass', 'variants_id', 'variants_pos', 'variants_qual']\n"
     ]
    }
   ],
   "source": [
    "# Define path to VCF\n",
    "query_path = '../../data/subset.vcf'\n",
    "\n",
    "# Read VCF into SNPObj\n",
    "reader = VCFReader(query_path)\n",
    "snpobj = reader.read()\n",
    "\n",
    "print(\"Attributes of the SNPObject:\", snpobj.keys())"
   ]
  },
  {
   "cell_type": "markdown",
   "id": "cb20b5ff-5eb1-441a-a06f-8f4e2a594387",
   "metadata": {},
   "source": [
    "### 2. Accessing and Modifying Attributes"
   ]
  },
  {
   "cell_type": "markdown",
   "id": "6064bb54-2e6e-4678-a81c-7e0e661947e7",
   "metadata": {},
   "source": [
    "You can access and modify attributes using attribute or dictionary access:"
   ]
  },
  {
   "cell_type": "code",
   "execution_count": 3,
   "id": "62a5da74",
   "metadata": {},
   "outputs": [
    {
     "name": "stdout",
     "output_type": "stream",
     "text": [
      "Old sample IDs: ['HG00096' 'HG00097' 'HG00099' 'HG00100']\n",
      "New sample IDs (attribute access): ['sample_1', 'sample_2', 'sample_3', 'sample_4']\n",
      "New sample IDs (dictionary access): ['sample_1', 'sample_2', 'sample_3', 'sample_4']\n"
     ]
    }
   ],
   "source": [
    "# Accessing the original sample IDs\n",
    "samples = snpobj.samples\n",
    "print(\"Old sample IDs:\", samples)\n",
    "\n",
    "# Updating sample IDs using attribute access\n",
    "snpobj.samples = ['sample_1', 'sample_2', 'sample_3', 'sample_4']\n",
    "print(\"New sample IDs (attribute access):\", snpobj.samples)\n",
    "\n",
    "# Updating sample IDs using dictionary-like access\n",
    "snpobj['samples'] = ['sample_1', 'sample_2', 'sample_3', 'sample_4']\n",
    "print(\"New sample IDs (dictionary access):\", snpobj['samples'])"
   ]
  },
  {
   "cell_type": "markdown",
   "id": "81b6b34a",
   "metadata": {},
   "source": [
    "### 3. Retrieve Number of Samples and SNPs"
   ]
  },
  {
   "cell_type": "code",
   "execution_count": 4,
   "id": "56fe8a53",
   "metadata": {},
   "outputs": [
    {
     "name": "stdout",
     "output_type": "stream",
     "text": [
      "Number of samples: 4\n",
      "Number of SNPs: 976599\n"
     ]
    }
   ],
   "source": [
    "# Retrieving the number of samples from the SNPObject\n",
    "n_samples = snpobj.n_samples()\n",
    "print(\"Number of samples:\", n_samples)\n",
    "\n",
    "# Retrieving the number of SNPs from the SNPObject\n",
    "n_snps = snpobj.n_snps()\n",
    "print(\"Number of SNPs:\", n_snps)"
   ]
  },
  {
   "cell_type": "markdown",
   "id": "4d2e69eb-77bc-481e-8310-64fb2350de2f",
   "metadata": {},
   "source": [
    "### 4. Obtain Unique Chromosome Names"
   ]
  },
  {
   "cell_type": "markdown",
   "id": "c36c651d-dbad-4dde-86bb-2c68c73275cf",
   "metadata": {},
   "source": [
    "The `unique_chrom()` method retrieves unique chromosome names from the `variants_chrom` attribute, preserving their order of appearance."
   ]
  },
  {
   "cell_type": "code",
   "execution_count": 5,
   "id": "cd2e476c-e47e-44ea-b6fa-fa6ebfdc29b9",
   "metadata": {},
   "outputs": [
    {
     "name": "stdout",
     "output_type": "stream",
     "text": [
      "Unique chromosomes: ['21']\n"
     ]
    }
   ],
   "source": [
    "print(\"Unique chromosomes:\", snpobj.unique_chrom())"
   ]
  },
  {
   "cell_type": "markdown",
   "id": "e8ea9dcd",
   "metadata": {},
   "source": [
    "### 5. Change Chromosome Nomenclature"
   ]
  },
  {
   "cell_type": "markdown",
   "id": "4e19357b",
   "metadata": {},
   "source": [
    "The `rename_chrom` method offers flexibility in modifying chromosome notations within genomic datasets. It supports changing between several typical naming conventions as well as applying custom regex transformations to suit specific data standardization needs.\n",
    "\n",
    "**Typical Chromosome Notations**\n",
    "\n",
    "1. **'chr':** This is a commonly used format where chromosomes are prefixed with 'chr', e.g., 'chr1', 'chr2'.\n",
    "2. **'chm':** Similar to 'chr' but with a different prefix, e.g., 'chm1', 'chm2'.\n",
    "3. **'chrom':** A more verbose prefix, e.g., 'chrom1', 'chrom2'.\n",
    "4. **Plain:** Uses just the chromosome number or letter without a prefix, e.g., '1', '2'.\n",
    "\n",
    "Below are examples demonstrating how to switch between different chromosome naming conventions and apply a custom regex transformation."
   ]
  },
  {
   "cell_type": "code",
   "execution_count": 6,
   "id": "f573349c-cae3-49e9-88df-2616b1332cf0",
   "metadata": {},
   "outputs": [
    {
     "name": "stdout",
     "output_type": "stream",
     "text": [
      "Chromosomes before renaming: ['21']\n"
     ]
    },
    {
     "name": "stdout",
     "output_type": "stream",
     "text": [
      "Chromosomes after renaming: ['chr21']\n"
     ]
    }
   ],
   "source": [
    "# Example of renaming chromosomes using predefined patterns\n",
    "# This converts chromosome notations from 'chr' format to 'chm' format.\n",
    "print(\"Chromosomes before renaming:\", snpobj.unique_chrom())  # Display first 5 chromosomes\n",
    "snpobj = snpobj.rename_chrom(inplace=False)\n",
    "print(\"Chromosomes after renaming:\", snpobj.unique_chrom())  "
   ]
  },
  {
   "cell_type": "code",
   "execution_count": 7,
   "id": "e815f7d1",
   "metadata": {},
   "outputs": [
    {
     "name": "stdout",
     "output_type": "stream",
     "text": [
      "Chromosomes after renaming: ['21']\n"
     ]
    }
   ],
   "source": [
    "snpobj = snpobj.convert_chromosome_format(from_format='chr', to_format='plain', inplace=False)\n",
    "print(\"Chromosomes after renaming:\", snpobj.unique_chrom()) "
   ]
  },
  {
   "cell_type": "code",
   "execution_count": 8,
   "id": "8147ae98-5647-4fa7-a6be-27fd270c655d",
   "metadata": {},
   "outputs": [
    {
     "name": "stdout",
     "output_type": "stream",
     "text": [
      "Unique chromosomes before renaming: ['21']\n"
     ]
    },
    {
     "name": "stdout",
     "output_type": "stream",
     "text": [
      "Unique chromosomes after renaming: ['chr21']\n"
     ]
    }
   ],
   "source": [
    "print(\"Unique chromosomes before renaming:\", snpobj.unique_chrom())\n",
    "snpobj = snpobj.rename_chrom(to_replace=['21'], value=['chr21'], regex=False)\n",
    "print(\"Unique chromosomes after renaming:\", snpobj.unique_chrom())"
   ]
  },
  {
   "cell_type": "code",
   "execution_count": 9,
   "id": "30f85fcd-24d5-48b2-935b-0aa0d41eebc0",
   "metadata": {},
   "outputs": [
    {
     "name": "stdout",
     "output_type": "stream",
     "text": [
      "Unique chromosomes before renaming: ['chr21']\n",
      "Unique chromosomes after renaming: ['21']\n"
     ]
    }
   ],
   "source": [
    "print(\"Unique chromosomes before renaming:\", snpobj.unique_chrom())\n",
    "snpobj = snpobj.rename_chrom(to_replace={'chr21' : '21'}, regex=False)\n",
    "print(\"Unique chromosomes after renaming:\", snpobj.unique_chrom())"
   ]
  },
  {
   "cell_type": "markdown",
   "id": "5923c208-fa7f-4284-8cec-95410a553a1b",
   "metadata": {},
   "source": [
    "### 6. Rename missing values\n",
    "\n",
    "The `rename_missings()` method can be used to Replace missing values in the `calldata_gt` field. By default, missing values codified as \"-1\" are replaced with \".\". If inplace=False, the modified object is returned. Otherwise, the operation is done in-place and None is returned. By default, inplace=False."
   ]
  },
  {
   "cell_type": "code",
   "execution_count": 10,
   "id": "629018cf-9298-4201-92c6-c613a0db47cc",
   "metadata": {},
   "outputs": [
    {
     "name": "stdout",
     "output_type": "stream",
     "text": [
      "[0 1]\n",
      "[0 1]\n"
     ]
    }
   ],
   "source": [
    "print(np.unique(snpobj['calldata_gt']))\n",
    "snpobj = snpobj.rename_missings(before=\".\", after=-1)\n",
    "print(np.unique(snpobj['calldata_gt']))"
   ]
  },
  {
   "cell_type": "markdown",
   "id": "9e6e7275-7306-4852-9a47-a1d36671ceb6",
   "metadata": {},
   "source": [
    "### 7. Filter SNPObj by SNPs"
   ]
  },
  {
   "cell_type": "markdown",
   "id": "04c4f39c-eaa9-4603-ad7d-7bbc0c6d4377",
   "metadata": {},
   "source": [
    "The `filter_snps()` method can be used to filter SNPs according to `chromosome name` and/or `SNP position`. It can also filter based on specific `SNP indexes`. It can either include or exclude SNPs that match the specified criteria. If inplace=False, the modified object is returned. Otherwise, the operation is done in-place and None is returned. By default, inplace=False. \n",
    "\n",
    "* Include SNPs at positions in the range (500k, 600k) from chromosomes '21':"
   ]
  },
  {
   "cell_type": "code",
   "execution_count": 11,
   "id": "a8eec030-2520-4453-9513-47be95f8c5c4",
   "metadata": {},
   "outputs": [
    {
     "name": "stdout",
     "output_type": "stream",
     "text": [
      "SNPs before filtering: 976599\n",
      "SNPs after filtering: 976599\n"
     ]
    }
   ],
   "source": [
    "print(\"SNPs before filtering:\", len(snpobj.variants_pos))\n",
    "snpobj = snpobj.filter_snps(chrom=['21'], pos=list(range(5000000, 600000)), include=True)\n",
    "print(\"SNPs after filtering:\", len(snpobj.variants_pos))"
   ]
  },
  {
   "cell_type": "markdown",
   "id": "466b069c-6538-40f7-bb6f-804404fbc6d0",
   "metadata": {},
   "source": [
    "* Exclude all SNPs from chromosome 1:"
   ]
  },
  {
   "cell_type": "code",
   "execution_count": 12,
   "id": "a9b2d6ed-2d7c-4f7b-8bd8-f82b05925800",
   "metadata": {},
   "outputs": [
    {
     "name": "stdout",
     "output_type": "stream",
     "text": [
      "Unique chromosomes before filtering: ['21']\n",
      "Unique chromosomes after filtering: []\n"
     ]
    }
   ],
   "source": [
    "print(\"Unique chromosomes before filtering:\", snpobj.unique_chrom())\n",
    "snpobj2 = snpobj.filter_snps(chrom='21', include=False)\n",
    "print(\"Unique chromosomes after filtering:\", snpobj2.unique_chrom())"
   ]
  },
  {
   "cell_type": "markdown",
   "id": "57b0afad-4bb3-4721-b504-1fdb482fdb50",
   "metadata": {},
   "source": [
    "* Include the SNPs at indexes [0, 2, 4]:"
   ]
  },
  {
   "cell_type": "code",
   "execution_count": 13,
   "id": "8ab6b144-fe43-477a-a11a-59019f63e497",
   "metadata": {},
   "outputs": [
    {
     "name": "stdout",
     "output_type": "stream",
     "text": [
      "Unique variants before filtering: 976599\n",
      "Unique variants after filtering: 3\n"
     ]
    }
   ],
   "source": [
    "print(\"Unique variants before filtering:\", len(snpobj.variants_pos))\n",
    "snpobj2 = snpobj.filter_snps(indexes=[0, 2, 4], include=True)\n",
    "print(\"Unique variants after filtering:\", len(snpobj2.variants_pos))"
   ]
  },
  {
   "cell_type": "markdown",
   "id": "5595d63d-a177-4314-bebd-c4b4762a466b",
   "metadata": {},
   "source": [
    "### 8.  Filter SNPObj by samples"
   ]
  },
  {
   "cell_type": "markdown",
   "id": "546a085b-2488-4ab5-8d12-869e211ce921",
   "metadata": {},
   "source": [
    "The `filter_samples()` method can be used to filter samples according to `sample names`, or based on `sample indexes`. It can either include or exclude samples that match the specified criteria. \n",
    "\n",
    "* Exclude samples 'sample_3' and 'sample_4':"
   ]
  },
  {
   "cell_type": "code",
   "execution_count": 15,
   "id": "9501a44a-6254-41d2-bfda-b91c16374a63",
   "metadata": {},
   "outputs": [
    {
     "name": "stdout",
     "output_type": "stream",
     "text": [
      "Samples before filtering: ['sample_1', 'sample_2', 'sample_3', 'sample_4']\n",
      "Samples after filtering: ['sample_1' 'sample_2']\n"
     ]
    }
   ],
   "source": [
    "print(\"Samples before filtering:\", snpobj.samples)\n",
    "snpobj2 = snpobj.filter_samples(samples=['sample_3', 'sample_4'], include=False)\n",
    "print(\"Samples after filtering:\", snpobj2.samples)"
   ]
  },
  {
   "cell_type": "markdown",
   "id": "7396eec1-1b91-4810-86d9-62e60b78548f",
   "metadata": {},
   "source": [
    "* Exclude samples at indexes [0, 3]:"
   ]
  },
  {
   "cell_type": "code",
   "execution_count": 17,
   "id": "615755bd-3bf8-4219-b9a2-c7aa9cc0852a",
   "metadata": {},
   "outputs": [
    {
     "name": "stdout",
     "output_type": "stream",
     "text": [
      "Samples before filtering: ['sample_1', 'sample_2', 'sample_3', 'sample_4']\n",
      "Samples after filtering: ['sample_2' 'sample_3']\n"
     ]
    }
   ],
   "source": [
    "print(\"Samples before filtering:\", snpobj.samples)\n",
    "snpobj2 = snpobj.filter_samples(indexes=[0, 3], include=False)\n",
    "print(\"Samples after filtering:\", snpobj2.samples)"
   ]
  },
  {
   "cell_type": "markdown",
   "id": "72f9dd75-4efd-4504-8c12-32043697958c",
   "metadata": {},
   "source": [
    "### 9. Subset to common SNPs with another SNPObj\n",
    "\n",
    "The ``subset_to_common_snps()`` method can be used to subset a SNPObj to the common markers (i.e., SNPs at the \n",
    "        same CHROM, POS, REF and ALT) with another SNPObj."
   ]
  },
  {
   "cell_type": "code",
   "execution_count": 18,
   "id": "11b3690d-9e46-4725-942f-ae0b2859da6c",
   "metadata": {},
   "outputs": [
    {
     "name": "stdout",
     "output_type": "stream",
     "text": [
      "INFO:snputils.snp.io.read.vcf:Reading ../../data/subset.vcf\n",
      "INFO:snputils.snp.io.read.vcf:Finished reading ../../data/subset.vcf\n",
      "INFO:snputils.snp.io.read.vcf:Reading ../../data/subset.vcf\n",
      "INFO:snputils.snp.io.read.vcf:Finished reading ../../data/subset.vcf\n",
      "\n",
      "976599/976599 SNPs are common markers\n"
     ]
    }
   ],
   "source": [
    "snpobj1 = VCFReader(query_path).read()\n",
    "snpobj2 = VCFReader(query_path).read()\n",
    "\n",
    "n_snps = snpobj1.n_snps()\n",
    "snpobj1 = snpobj1.subset_to_common_snps(snpobj2)\n",
    "\n",
    "print(f'\\n{snpobj1.n_snps()}/{n_snps} SNPs are common markers')"
   ]
  },
  {
   "cell_type": "markdown",
   "id": "95aec49b-df9b-4a14-ba4d-c74cfa6943ed",
   "metadata": {},
   "source": [
    "### 10. Clean SNPObj"
   ]
  },
  {
   "cell_type": "code",
   "execution_count": 20,
   "id": "705a1792-6993-4781-9b49-ecd2c4e64b6f",
   "metadata": {},
   "outputs": [
    {
     "name": "stdout",
     "output_type": "stream",
     "text": [
      "INFO:snputils.snp.io.read.vcf:Reading ../../data/subset.vcf\n",
      "INFO:snputils.snp.io.read.vcf:Finished reading ../../data/subset.vcf\n",
      "INFO:snputils.snp.io.read.vcf:Reading ../../data/subset.vcf\n",
      "INFO:snputils.snp.io.read.vcf:Finished reading ../../data/subset.vcf\n"
     ]
    }
   ],
   "source": [
    "reader = VCFReader(query_path)\n",
    "query = reader.read()\n",
    "\n",
    "# Define path to reference VCF data\n",
    "reference_path = query_path\n",
    "\n",
    "reader = VCFReader(reference_path)\n",
    "reference = reader.read()"
   ]
  },
  {
   "cell_type": "markdown",
   "id": "bb7b7841-442c-47a5-993c-93b100de0335",
   "metadata": {},
   "source": [
    "#### 10.1 Remove strand-ambiguous SNPs\n",
    "\n",
    "The `remove_strand_ambiguous_snps()` method searches and removes strand-ambiguous SNPs. A/T, T/A, C/G, and G/C pairs are strand-ambiguous because their components are complementary, making it difficult to determine the DNA strand. If inplace=False, the modified object is returned. Otherwise, the operation is done in-place and None is returned. By default, inplace=False. "
   ]
  },
  {
   "cell_type": "code",
   "execution_count": 21,
   "id": "0237f82e-83f8-40d8-9405-96f1d65a9c5d",
   "metadata": {},
   "outputs": [
    {
     "name": "stdout",
     "output_type": "stream",
     "text": [
      "INFO:snputils.snp.genobj.snpobj:35183 ambiguities of A-T type.\n",
      "INFO:snputils.snp.genobj.snpobj:35105 ambiguities of T-A type.\n",
      "INFO:snputils.snp.genobj.snpobj:39334 ambiguities of C-G type.\n",
      "INFO:snputils.snp.genobj.snpobj:38992 ambiguities of G-C type.\n",
      "INFO:snputils.snp.genobj.snpobj:148614 strand-ambiguous SNPs in total.\n",
      "148614 ambiguous SNPs removed.\n"
     ]
    }
   ],
   "source": [
    "query2 = query.remove_strand_ambiguous_snps(inplace=False)\n",
    "print(query.n_snps()-query2.n_snps(), \"ambiguous SNPs removed.\")"
   ]
  },
  {
   "cell_type": "markdown",
   "id": "1b036b11-5b40-4668-b1be-1b3d24803334",
   "metadata": {},
   "source": [
    "#### 10.2 Correct SNP flips\n",
    "\n",
    "The ``correct_snp_flips`` method searches and corrects SNP flips between the current snpobj (query) and another snpobj (reference). An SNP flip occurs when the 'variants_ref' and 'variants_alt' fields are swapped in the current object (query) and the provided snpobj (reference). SNP flips are corrected by swapping the 'variants_ref' and 'variants_alt'  fields in the query, as well as their respective 0s and 1s in the 'calldata_gt' field. If inplace=False, the modified object is returned. Otherwise, the operation is done in-place and None is returned. By default, inplace=False. "
   ]
  },
  {
   "cell_type": "code",
   "execution_count": 22,
   "id": "37693020-43d3-4cbd-ad74-c8ea57627cdf",
   "metadata": {},
   "outputs": [
    {
     "name": "stdout",
     "output_type": "stream",
     "text": [
      "INFO:snputils.snp.genobj.snpobj:Matching ref and alts are: 976599, 976599\n",
      "INFO:snputils.snp.genobj.snpobj:Number of ambiguous is 0\n",
      "INFO:snputils.snp.genobj.snpobj:Correcting 148614 SNP flips.\n"
     ]
    }
   ],
   "source": [
    "query.correct_snp_flips(reference, inplace=True)"
   ]
  },
  {
   "cell_type": "markdown",
   "id": "3e33df3e-e933-4810-945a-94a9eaba93cd",
   "metadata": {},
   "source": [
    "#### 10.3 Remove Mismatching SNPs"
   ]
  },
  {
   "cell_type": "code",
   "execution_count": 23,
   "id": "886e26fd-e5a1-45c4-9008-8f641f258bf2",
   "metadata": {},
   "outputs": [
    {
     "name": "stdout",
     "output_type": "stream",
     "text": [
      "INFO:snputils.snp.genobj.snpobj:976599 SNPs at the same position.\n",
      "INFO:snputils.snp.genobj.snpobj:148614 mismatching SNPs in total.\n",
      "148614 mismatching SNPs removed.\n"
     ]
    }
   ],
   "source": [
    "query2 = query.remove_mismatching_snps(reference, inplace=False)\n",
    "print(query.n_snps()-query2.n_snps(), \"mismatching SNPs removed.\")"
   ]
  },
  {
   "cell_type": "markdown",
   "id": "6e9a3022-03a3-4c89-8e66-8ae10c631a09",
   "metadata": {},
   "source": [
    "### 11. Write SNPObj into a VCF file\n",
    "\n",
    "The `VCFWriter()` can be used to write a SNPObj into a VCF file. If `chrom_partition=True` when calling `write()` method, then individual VCF files are generated for each chromosome. If False, a single VCF file containing data for all chromosomes is created. By default, `chrom_partition=False`."
   ]
  },
  {
   "cell_type": "code",
   "execution_count": 24,
   "id": "db84f5fa-2a1a-4f1d-b6df-56849eb73b29",
   "metadata": {},
   "outputs": [
    {
     "name": "stdout",
     "output_type": "stream",
     "text": [
      "INFO:snputils.snp.io.read.vcf:Reading ../../data/subset.vcf\n",
      "INFO:snputils.snp.io.read.vcf:Finished reading ../../data/subset.vcf\n"
     ]
    }
   ],
   "source": [
    "# Define path to output VCF\n",
    "output_path = '../../data/trush.vcf'\n",
    "\n",
    "reader = VCFReader(query_path)\n",
    "snpobj = reader.read()\n",
    "writer = VCFWriter(snpobj, output_path)\n",
    "writer.write(chrom_partition=False)"
   ]
  },
  {
   "cell_type": "code",
   "execution_count": null,
   "id": "8c32b217-3aca-4116-b291-203b68b84ec6",
   "metadata": {},
   "outputs": [],
   "source": []
  }
 ],
 "metadata": {
  "kernelspec": {
   "display_name": "Python 3 (ipykernel)",
   "language": "python",
   "name": "python3"
  },
  "language_info": {
   "codemirror_mode": {
    "name": "ipython",
    "version": 3
   },
   "file_extension": ".py",
   "mimetype": "text/x-python",
   "name": "python",
   "nbconvert_exporter": "python",
   "pygments_lexer": "ipython3",
   "version": "3.10.13"
  }
 },
 "nbformat": 4,
 "nbformat_minor": 5
}
