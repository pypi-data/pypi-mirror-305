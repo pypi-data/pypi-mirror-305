{
 "cells": [
  {
   "cell_type": "code",
   "execution_count": 1,
   "id": "c575341b",
   "metadata": {},
   "outputs": [
    {
     "data": {
      "application/javascript": "IPython.OutputArea.prototype._should_scroll = function(lines) {\n    return false;\n}\ndocument.title='aiidalab-qe-vibroscopy detached app'\n",
      "text/plain": [
       "<IPython.core.display.Javascript object>"
      ]
     },
     "metadata": {},
     "output_type": "display_data"
    }
   ],
   "source": [
    "%%javascript\n",
    "IPython.OutputArea.prototype._should_scroll = function(lines) {\n",
    "    return false;\n",
    "}\n",
    "document.title='aiidalab-qe-vibroscopy detached app'"
   ]
  },
  {
   "cell_type": "code",
   "execution_count": 2,
   "id": "a8549863",
   "metadata": {},
   "outputs": [],
   "source": [
    "# Fix pybel import path\n",
    "try:\n",
    "    import sys\n",
    "\n",
    "    sys.modules[\"pybel\"] = __import__(\"openbabel\", globals(), locals(), [\"pybel\"]).pybel\n",
    "except Exception:\n",
    "    pass\n",
    "\n",
    "import ipywidgets as ipw\n",
    "\n",
    "from importlib_resources import files\n",
    "from IPython.display import display\n",
    "from jinja2 import Environment\n",
    "\n",
    "from aiidalab_qe_vibroscopy.utils.euphonic import static\n",
    "from aiidalab_qe_vibroscopy.utils.euphonic import EuphonicSuperWidget"
   ]
  },
  {
   "cell_type": "code",
   "execution_count": null,
   "id": "586bd730",
   "metadata": {},
   "outputs": [],
   "source": [
    "env = Environment()\n",
    "\n",
    "template = files(static).joinpath(\"welcome.jinja\").read_text()\n",
    "style = files(static).joinpath(\"style.css\").read_text()\n",
    "welcome_message = ipw.HTML(env.from_string(template).render(style=style))\n",
    "footer = ipw.HTML(\n",
    "    '<p style=\"text-align:right;\">Copyright (c) 2024 Miki Bonacci (PSI), miki.bonacci@psi.ch; &#8195Version: 0.1.1</p>'\n",
    ")\n",
    "\n",
    "widget = EuphonicSuperWidget(mode=\"detached\")\n",
    "\n",
    "output = ipw.Output()\n",
    "\n",
    "with output:\n",
    "    display(welcome_message, widget, footer)\n",
    "\n",
    "display(output)"
   ]
  }
 ],
 "metadata": {
  "kernelspec": {
   "display_name": "Python 3 (ipykernel)",
   "language": "python",
   "name": "python3"
  },
  "language_info": {
   "codemirror_mode": {
    "name": "ipython",
    "version": 3
   },
   "file_extension": ".py",
   "mimetype": "text/x-python",
   "name": "python",
   "nbconvert_exporter": "python",
   "pygments_lexer": "ipython3",
   "version": "3.9.13"
  }
 },
 "nbformat": 4,
 "nbformat_minor": 5
}
