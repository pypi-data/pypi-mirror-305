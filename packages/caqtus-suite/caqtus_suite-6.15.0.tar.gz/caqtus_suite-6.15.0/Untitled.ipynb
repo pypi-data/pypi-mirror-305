{
 "cells": [
  {
   "cell_type": "code",
   "id": "a20fdb66-97c5-44e3-acaf-3a0b98916815",
   "metadata": {
    "ExecuteTime": {
     "end_time": "2024-10-27T20:28:22.310363Z",
     "start_time": "2024-10-27T20:28:22.287700Z"
    }
   },
   "source": "import attrs",
   "outputs": [],
   "execution_count": 1
  },
  {
   "metadata": {
    "ExecuteTime": {
     "end_time": "2024-10-27T20:28:24.347797Z",
     "start_time": "2024-10-27T20:28:24.335419Z"
    }
   },
   "cell_type": "code",
   "source": [
    "@attrs.define\n",
    "class Test:\n",
    "    a: int = attrs.field(validator=attrs.validators.ge(0))"
   ],
   "id": "49958dca34194170",
   "outputs": [],
   "execution_count": 2
  },
  {
   "metadata": {
    "ExecuteTime": {
     "end_time": "2024-10-27T20:28:25.313770Z",
     "start_time": "2024-10-27T20:28:25.305074Z"
    }
   },
   "cell_type": "code",
   "source": "a = attrs.fields(Test)[0].validators",
   "id": "cb9be53e80546cc",
   "outputs": [],
   "execution_count": 3
  },
  {
   "metadata": {
    "ExecuteTime": {
     "end_time": "2024-10-27T20:28:26.753025Z",
     "start_time": "2024-10-27T20:28:26.745147Z"
    }
   },
   "cell_type": "code",
   "source": "",
   "id": "c8f9b613f81818a0",
   "outputs": [
    {
     "name": "stdout",
     "output_type": "stream",
     "text": [
      "a\n"
     ]
    }
   ],
   "execution_count": 4
  }
 ],
 "metadata": {
  "kernelspec": {
   "display_name": "Python 3 (ipykernel)",
   "language": "python",
   "name": "python3"
  },
  "language_info": {
   "codemirror_mode": {
    "name": "ipython",
    "version": 3
   },
   "file_extension": ".py",
   "mimetype": "text/x-python",
   "name": "python",
   "nbconvert_exporter": "python",
   "pygments_lexer": "ipython3",
   "version": "3.12.3"
  }
 },
 "nbformat": 4,
 "nbformat_minor": 5
}
