{
 "cells": [
  {
   "cell_type": "code",
   "execution_count": 1,
   "metadata": {},
   "outputs": [],
   "source": [
    "import xmle\n",
    "from xmle import Reporter, NumberedCaption, Elem, Show"
   ]
  },
  {
   "cell_type": "code",
   "execution_count": 2,
   "metadata": {},
   "outputs": [
    {
     "data": {
      "text/plain": [
       "'0.1.15'"
      ]
     },
     "execution_count": 2,
     "metadata": {},
     "output_type": "execute_result"
    }
   ],
   "source": [
    "xmle.__version__"
   ]
  },
  {
   "cell_type": "markdown",
   "metadata": {},
   "source": [
    "The `Show` command accepts a wide variety of inputs, and outputs a \n",
    "rendered static XML output suitable for use in a HTML document, or\n",
    "for rendering directly in a Jupyter notebook."
   ]
  },
  {
   "cell_type": "code",
   "execution_count": 3,
   "metadata": {},
   "outputs": [
    {
     "data": {
      "text/html": [
       "<div class=\"blurb\">\n",
       "<div class=\"section\" id=\"using-restructuredtext\">\n",
       "<h3>Using reStructuredText</h3>\n",
       "<p>You can add sections of prose formatted using the reStructuredText markup\n",
       "syntax.  Just compose a string and pass it to the <tt class=\"docutils literal\">Show</tt> function, and\n",
       "you'll get a neatly formatted output.</p>\n",
       "<p>The default interpreter for <tt class=\"docutils literal\">str</tt> input to the <tt class=\"docutils literal\">Show</tt> function is\n",
       "reStructuredText, so you don't need to do anything special.  One caveat,\n",
       "though: the default for reStructuredText items is to step down headings by\n",
       "two levels.  So, the heading tag on this section will be <tt class=\"docutils literal\">h3</tt> not <tt class=\"docutils literal\">h1</tt>.</p>\n",
       "<div class=\"section\" id=\"deeper-headings-are-stepped-down-also\">\n",
       "<h4>Deeper Headings are Stepped Down Also</h4>\n",
       "<p>So the heading on this section will be <tt class=\"docutils literal\">h4</tt>.  Each block of\n",
       "reStructuredText is evaluated seperately, so knowledge of heading levels and\n",
       "which styles correspond to them is lost when evaluating a different string.</p>\n",
       "</div>\n",
       "</div>\n",
       "<div class=\"section\" id=\"prevent-interpreting-the-first-heading-as-a-title\">\n",
       "<h3>Prevent Interpreting The First Heading as a Title</h3>\n",
       "<p>If the first heading is at the beginning of the \"document\" and it is the\n",
       "only heading at that level, it is interpreted as the \"title\" and subsequent\n",
       "headings are stepped up a level.  This is how the standard docutils interpreter\n",
       "handles these cases.</p>\n",
       "</div>\n",
       "</div>"
      ],
      "text/plain": [
       "<xmle.Elem 'div' with 2 children>"
      ]
     },
     "execution_count": 3,
     "metadata": {},
     "output_type": "execute_result"
    }
   ],
   "source": [
    "Show(\"\"\"\n",
    "\n",
    "Using reStructuredText\n",
    "======================\n",
    "\n",
    "You can add sections of prose formatted using the reStructuredText markup\n",
    "syntax.  Just compose a string and pass it to the ``Show`` function, and\n",
    "you'll get a neatly formatted output.\n",
    "\n",
    "The default interpreter for ``str`` input to the ``Show`` function is \n",
    "reStructuredText, so you don't need to do anything special.  One caveat, \n",
    "though: the default for reStructuredText items is to step down headings by\n",
    "two levels.  So, the heading tag on this section will be ``h3`` not ``h1``.\n",
    "\n",
    "Deeper Headings are Stepped Down Also\n",
    "-------------------------------------\n",
    "\n",
    "So the heading on this section will be ``h4``.  Each block of \n",
    "reStructuredText is evaluated seperately, so knowledge of heading levels and\n",
    "which styles correspond to them is lost when evaluating a different string.\n",
    "\n",
    "Prevent Interpreting The First Heading as a Title\n",
    "=================================================\n",
    "\n",
    "If the first heading is at the beginning of the \"document\" and it is the \n",
    "only heading at that level, it is interpreted as the \"title\" and subsequent \n",
    "headings are stepped up a level.  This is how the standard docutils interpreter\n",
    "handles these cases.\n",
    "\n",
    "\"\"\")"
   ]
  },
  {
   "cell_type": "markdown",
   "metadata": {},
   "source": [
    "You can also use the `Reporter` class, which will both render the inputs in\n",
    "Jupyter and store them to eventually be written out to a HTML file."
   ]
  },
  {
   "cell_type": "code",
   "execution_count": 4,
   "metadata": {},
   "outputs": [],
   "source": [
    "R = Reporter()"
   ]
  },
  {
   "cell_type": "markdown",
   "metadata": {},
   "source": [
    "Simple titles on a single line can be created using the markdown syntax (one hash for `h1`, two for `h2`, etc.)"
   ]
  },
  {
   "cell_type": "code",
   "execution_count": 5,
   "metadata": {
    "toc-hr-collapsed": false
   },
   "outputs": [
    {
     "data": {
      "text/html": [
       "<h1><a class=\"toc\" name=\"rx1\" reftxt=\"A Title is Born\" toclevel=\"1\"></a>A Title is Born</h1>"
      ],
      "text/plain": [
       "<xmle.Elem 'div' with 1 children>"
      ]
     },
     "execution_count": 5,
     "metadata": {},
     "output_type": "execute_result"
    }
   ],
   "source": [
    "R << \"# A Title is Born\""
   ]
  },
  {
   "cell_type": "code",
   "execution_count": 6,
   "metadata": {},
   "outputs": [
    {
     "data": {
      "text/html": [
       "<h2><a class=\"toc\" name=\"rx2\" reftxt=\"Also a Subtitile\" toclevel=\"2\"></a>Also a Subtitile</h2>"
      ],
      "text/plain": [
       "<xmle.Elem 'div' with 2 children>"
      ]
     },
     "execution_count": 6,
     "metadata": {},
     "output_type": "execute_result"
    }
   ],
   "source": [
    "R << \"## Also a Subtitile\""
   ]
  },
  {
   "cell_type": "markdown",
   "metadata": {},
   "source": [
    "Automatically numbered captions can be created using `NumberedCaption`.\n",
    "Just define a type using the contructor..."
   ]
  },
  {
   "cell_type": "code",
   "execution_count": 7,
   "metadata": {},
   "outputs": [],
   "source": [
    "FIG = NumberedCaption('Figure')"
   ]
  },
  {
   "cell_type": "markdown",
   "metadata": {},
   "source": [
    "Then call that type to create a caption.  Captions are not actually \n",
    "numbered when shown in Jupyter, but numbers are added when saving\n",
    "an HTML report."
   ]
  },
  {
   "cell_type": "code",
   "execution_count": 8,
   "metadata": {},
   "outputs": [
    {
     "data": {
      "text/html": [
       "<h2><span class=\"larch_figure_caption larch_caption\" larch_caption=\"Figure\">Figure: </span>An Example</h2><div class=\"blurb\">\n",
       "<p>Some plain old text as a figure.</p>\n",
       "</div>"
      ],
      "text/plain": [
       "<xmle.Elem 'div' with 4 children>"
      ]
     },
     "execution_count": 8,
     "metadata": {},
     "output_type": "execute_result"
    }
   ],
   "source": [
    "R << FIG('An Example')\n",
    "R << \"Some plain old text as a figure.\""
   ]
  },
  {
   "cell_type": "markdown",
   "metadata": {},
   "source": [
    "You can add figures in PNG or SVG format as well."
   ]
  },
  {
   "cell_type": "code",
   "execution_count": 9,
   "metadata": {},
   "outputs": [],
   "source": [
    "import networkx\n",
    "g = networkx.DiGraph()\n",
    "for i in range(3):\n",
    "    g.add_edge(i, i+1)\n",
    "    g.add_edge(-1, i)\n",
    "    g.add_edge(i, 999)"
   ]
  },
  {
   "cell_type": "code",
   "execution_count": 10,
   "metadata": {},
   "outputs": [
    {
     "data": {
      "text/html": [
       "<h2><span class=\"larch_figure_caption larch_caption\" larch_caption=\"Figure\">Figure: </span>Network Graph PNG Example</h2><img src=\"data:image/png;base64,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\">"
      ],
      "text/plain": [
       "<xmle.Elem 'div' with 6 children>"
      ]
     },
     "execution_count": 10,
     "metadata": {},
     "output_type": "execute_result"
    }
   ],
   "source": [
    "R << FIG('Network Graph PNG Example')\n",
    "R << networkx.drawing.nx_pydot.to_pydot(g).create_png()"
   ]
  },
  {
   "cell_type": "code",
   "execution_count": 11,
   "metadata": {},
   "outputs": [
    {
     "data": {
      "text/html": [
       "<h2><span class=\"larch_figure_caption larch_caption\" larch_caption=\"Figure\">Figure: </span>Network Graph SVG Example</h2><svg xmlns=\"http://www.w3.org/2000/svg\" height=\"332pt\" viewBox=\"0.00 0.00 166.00 332.00\" width=\"166pt\">\n",
       "<g class=\"graph\" id=\"graph0\" transform=\"scale(1 1) rotate(0) translate(4 328)\">\n",
       "<title>%3</title>\n",
       "<polygon fill=\"#ffffff\" points=\"-4,4 -4,-328 162,-328 162,4 -4,4\" stroke=\"transparent\"></polygon>\n",
       "\n",
       "<g class=\"node\" id=\"node1\">\n",
       "<title>0</title>\n",
       "<ellipse cx=\"27\" cy=\"-234\" fill=\"none\" rx=\"27\" ry=\"18\" stroke=\"#000000\"></ellipse>\n",
       "<text fill=\"#000000\" font-family=\"Times,serif\" font-size=\"14.00\" text-anchor=\"middle\" x=\"27\" y=\"-229.8\">0</text>\n",
       "</g>\n",
       "\n",
       "<g class=\"node\" id=\"node2\">\n",
       "<title>1</title>\n",
       "<ellipse cx=\"73\" cy=\"-162\" fill=\"none\" rx=\"27\" ry=\"18\" stroke=\"#000000\"></ellipse>\n",
       "<text fill=\"#000000\" font-family=\"Times,serif\" font-size=\"14.00\" text-anchor=\"middle\" x=\"73\" y=\"-157.8\">1</text>\n",
       "</g>\n",
       "\n",
       "<g class=\"edge\" id=\"edge1\">\n",
       "<title>0-&gt;1</title>\n",
       "<path d=\"M37.6689,-217.3008C43.3586,-208.3952 50.4777,-197.2524 56.8316,-187.307\" fill=\"none\" stroke=\"#000000\"></path>\n",
       "<polygon fill=\"#000000\" points=\"59.9544,-188.92 62.3889,-178.6087 54.0555,-185.1513 59.9544,-188.92\" stroke=\"#000000\"></polygon>\n",
       "</g>\n",
       "\n",
       "<g class=\"node\" id=\"node4\">\n",
       "<title>999</title>\n",
       "<ellipse cx=\"59\" cy=\"-18\" fill=\"none\" rx=\"27\" ry=\"18\" stroke=\"#000000\"></ellipse>\n",
       "<text fill=\"#000000\" font-family=\"Times,serif\" font-size=\"14.00\" text-anchor=\"middle\" x=\"59\" y=\"-13.8\">999</text>\n",
       "</g>\n",
       "\n",
       "<g class=\"edge\" id=\"edge2\">\n",
       "<title>0-&gt;999</title>\n",
       "<path d=\"M28.6648,-216.0288C30.4284,-197.8324 33.4461,-168.9015 37,-144 41.8315,-110.1459 48.8114,-71.4259 53.6065,-45.9454\" fill=\"none\" stroke=\"#000000\"></path>\n",
       "<polygon fill=\"#000000\" points=\"57.0891,-46.3658 55.5152,-35.8885 50.2119,-45.0606 57.0891,-46.3658\" stroke=\"#000000\"></polygon>\n",
       "</g>\n",
       "\n",
       "<g class=\"edge\" id=\"edge4\">\n",
       "<title>1-&gt;999</title>\n",
       "<path d=\"M71.2269,-143.7623C68.839,-119.201 64.5657,-75.2474 61.7566,-46.3541\" fill=\"none\" stroke=\"#000000\"></path>\n",
       "<polygon fill=\"#000000\" points=\"65.21,-45.704 60.7587,-36.0896 58.2429,-46.3814 65.21,-45.704\" stroke=\"#000000\"></polygon>\n",
       "</g>\n",
       "\n",
       "<g class=\"node\" id=\"node5\">\n",
       "<title>2</title>\n",
       "<ellipse cx=\"123\" cy=\"-90\" fill=\"none\" rx=\"27\" ry=\"18\" stroke=\"#000000\"></ellipse>\n",
       "<text fill=\"#000000\" font-family=\"Times,serif\" font-size=\"14.00\" text-anchor=\"middle\" x=\"123\" y=\"-85.8\">2</text>\n",
       "</g>\n",
       "\n",
       "<g class=\"edge\" id=\"edge3\">\n",
       "<title>1-&gt;2</title>\n",
       "<path d=\"M84.3458,-145.6621C90.5855,-136.6768 98.4623,-125.3343 105.4749,-115.2362\" fill=\"none\" stroke=\"#000000\"></path>\n",
       "<polygon fill=\"#000000\" points=\"108.5229,-116.983 111.3521,-106.7729 102.7733,-112.9902 108.5229,-116.983\" stroke=\"#000000\"></polygon>\n",
       "</g>\n",
       "\n",
       "<g class=\"node\" id=\"node3\">\n",
       "<title>-1</title>\n",
       "<ellipse cx=\"82\" cy=\"-306\" fill=\"none\" rx=\"27\" ry=\"18\" stroke=\"#000000\"></ellipse>\n",
       "<text fill=\"#000000\" font-family=\"Times,serif\" font-size=\"14.00\" text-anchor=\"middle\" x=\"82\" y=\"-301.8\">-1</text>\n",
       "</g>\n",
       "\n",
       "<g class=\"edge\" id=\"edge5\">\n",
       "<title>-1-&gt;0</title>\n",
       "<path d=\"M69.5196,-289.6621C62.4876,-280.4564 53.5653,-268.7764 45.7117,-258.4953\" fill=\"none\" stroke=\"#000000\"></path>\n",
       "<polygon fill=\"#000000\" points=\"48.2828,-256.0953 39.431,-250.2733 42.72,-260.3446 48.2828,-256.0953\" stroke=\"#000000\"></polygon>\n",
       "</g>\n",
       "\n",
       "<g class=\"edge\" id=\"edge6\">\n",
       "<title>-1-&gt;1</title>\n",
       "<path d=\"M80.8601,-287.7623C79.3251,-263.201 76.578,-219.2474 74.7721,-190.3541\" fill=\"none\" stroke=\"#000000\"></path>\n",
       "<polygon fill=\"#000000\" points=\"78.2477,-189.8518 74.1306,-180.0896 71.2613,-190.2885 78.2477,-189.8518\" stroke=\"#000000\"></polygon>\n",
       "</g>\n",
       "\n",
       "<g class=\"edge\" id=\"edge7\">\n",
       "<title>-1-&gt;2</title>\n",
       "<path d=\"M86.1663,-288.1197C91.7671,-263.7538 101.8461,-218.7187 109,-180 112.8248,-159.2994 116.4575,-135.7904 119.0637,-117.9917\" fill=\"none\" stroke=\"#000000\"></path>\n",
       "<polygon fill=\"#000000\" points=\"122.5441,-118.3782 120.5096,-107.9805 115.616,-117.3774 122.5441,-118.3782\" stroke=\"#000000\"></polygon>\n",
       "</g>\n",
       "\n",
       "<g class=\"edge\" id=\"edge9\">\n",
       "<title>2-&gt;999</title>\n",
       "<path d=\"M109.113,-74.3771C100.4747,-64.659 89.2107,-51.987 79.5503,-41.1191\" fill=\"none\" stroke=\"#000000\"></path>\n",
       "<polygon fill=\"#000000\" points=\"82.1196,-38.7413 72.8599,-33.5924 76.8877,-43.3918 82.1196,-38.7413\" stroke=\"#000000\"></polygon>\n",
       "</g>\n",
       "\n",
       "<g class=\"node\" id=\"node6\">\n",
       "<title>3</title>\n",
       "<ellipse cx=\"131\" cy=\"-18\" fill=\"none\" rx=\"27\" ry=\"18\" stroke=\"#000000\"></ellipse>\n",
       "<text fill=\"#000000\" font-family=\"Times,serif\" font-size=\"14.00\" text-anchor=\"middle\" x=\"131\" y=\"-13.8\">3</text>\n",
       "</g>\n",
       "\n",
       "<g class=\"edge\" id=\"edge8\">\n",
       "<title>2-&gt;3</title>\n",
       "<path d=\"M125.0187,-71.8314C125.8743,-64.131 126.8917,-54.9743 127.8426,-46.4166\" fill=\"none\" stroke=\"#000000\"></path>\n",
       "<polygon fill=\"#000000\" points=\"131.3283,-46.7386 128.9541,-36.4133 124.3711,-45.9656 131.3283,-46.7386\" stroke=\"#000000\"></polygon>\n",
       "</g>\n",
       "</g>\n",
       "</svg>"
      ],
      "text/plain": [
       "<xmle.Elem 'div' with 8 children>"
      ]
     },
     "execution_count": 11,
     "metadata": {},
     "output_type": "execute_result"
    }
   ],
   "source": [
    "R << FIG('Network Graph SVG Example')\n",
    "R << networkx.drawing.nx_pydot.to_pydot(g).create_svg()"
   ]
  },
  {
   "cell_type": "markdown",
   "metadata": {},
   "source": [
    "You can save out the report to an HTML file.  Optionally save pickle-able \n",
    "objects in metadata, which will be embedded in the HTML and can be recovered later."
   ]
  },
  {
   "cell_type": "code",
   "execution_count": 12,
   "metadata": {},
   "outputs": [
    {
     "data": {
      "text/plain": [
       "'./123.html'"
      ]
     },
     "execution_count": 12,
     "metadata": {},
     "output_type": "execute_result"
    }
   ],
   "source": [
    "R.save('./123.html', overwrite=True, metadata={'g':g, })"
   ]
  },
  {
   "cell_type": "markdown",
   "metadata": {},
   "source": [
    "It will create a nicely formatted file, with a table of contents\n",
    "in a sidebar, listing the headings for convenient navigation."
   ]
  },
  {
   "cell_type": "code",
   "execution_count": 13,
   "metadata": {},
   "outputs": [
    {
     "data": {
      "text/html": [
       "\n",
       "        <iframe\n",
       "            width=\"800\"\n",
       "            height=\"400\"\n",
       "            src=\"./123.html\"\n",
       "            frameborder=\"0\"\n",
       "            allowfullscreen\n",
       "        ></iframe>\n",
       "        "
      ],
      "text/plain": [
       "<IPython.lib.display.IFrame at 0xa19442668>"
      ]
     },
     "execution_count": 13,
     "metadata": {},
     "output_type": "execute_result"
    }
   ],
   "source": [
    "from IPython.display import IFrame\n",
    "IFrame(src='./123.html', width=800, height=400)"
   ]
  },
  {
   "cell_type": "markdown",
   "metadata": {},
   "source": [
    "Recover metadata using the `load_metadata` function."
   ]
  },
  {
   "cell_type": "code",
   "execution_count": 14,
   "metadata": {},
   "outputs": [
    {
     "data": {
      "text/plain": [
       "<networkx.classes.digraph.DiGraph at 0xa19476278>"
      ]
     },
     "execution_count": 14,
     "metadata": {},
     "output_type": "execute_result"
    }
   ],
   "source": [
    "meta = xmle.load_metadata('/tmp/123.html')\n",
    "meta['g']"
   ]
  }
 ],
 "metadata": {
  "kernelspec": {
   "display_name": "Greenhouse",
   "language": "python",
   "name": "greenhouse"
  },
  "language_info": {
   "codemirror_mode": {
    "name": "ipython",
    "version": 3
   },
   "file_extension": ".py",
   "mimetype": "text/x-python",
   "name": "python",
   "nbconvert_exporter": "python",
   "pygments_lexer": "ipython3",
   "version": "3.7.3"
  },
  "widgets": {
   "application/vnd.jupyter.widget-state+json": {
    "state": {},
    "version_major": 2,
    "version_minor": 0
   }
  }
 },
 "nbformat": 4,
 "nbformat_minor": 4
}
