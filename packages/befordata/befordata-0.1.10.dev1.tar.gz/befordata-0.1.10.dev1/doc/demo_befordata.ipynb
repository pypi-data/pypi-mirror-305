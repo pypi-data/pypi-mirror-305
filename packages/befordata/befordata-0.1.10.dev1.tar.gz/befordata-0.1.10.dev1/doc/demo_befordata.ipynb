{
 "cells": [
  {
   "cell_type": "markdown",
   "id": "768c6e30-a5b0-4ba8-b895-a66e489a12c5",
   "metadata": {},
   "source": [
    "# Demo \"BeForData\": Behavioral Force Data\n",
    "\n",
    "Install package\n",
    "```\n",
    "pip install before\n",
    "```\n"
   ]
  },
  {
   "cell_type": "code",
   "execution_count": 1,
   "id": "c81c884a-bb44-4fbc-a91f-291b71d84e48",
   "metadata": {},
   "outputs": [],
   "source": [
    "from pyarrow.feather import read_table\n",
    "from befordata import BeForData, force_tools"
   ]
  },
  {
   "cell_type": "markdown",
   "id": "5718989c-f035-42a2-adb4-e7c55d987341",
   "metadata": {},
   "source": [
    "## Loading BefoData\n",
    "\n",
    "load files as arrow table"
   ]
  },
  {
   "cell_type": "code",
   "execution_count": 2,
   "id": "0f632566-c3c0-44ac-a575-24a990dbfdf4",
   "metadata": {},
   "outputs": [],
   "source": [
    "tbl = read_table(\"robot_test.feather\")"
   ]
  },
  {
   "cell_type": "markdown",
   "id": "7bf51379-886c-4924-9e70-c1b3e7b091ed",
   "metadata": {},
   "source": [
    "Convert to BeForData struct"
   ]
  },
  {
   "cell_type": "code",
   "execution_count": 3,
   "id": "abb13591-244c-443b-bf3b-d213d28a278f",
   "metadata": {},
   "outputs": [
    {
     "name": "stdout",
     "output_type": "stream",
     "text": [
      "BeForData\n",
      "  sampling_rate: 1000.0, n sessions: 1\n",
      "  columns: 'S1_Fx', 'S1_Fy', 'S1_Fz', 'S2_Fx', 'S2_Fy', 'S2_Fz'\n",
      "  time_column: \n",
      "  metadata\n",
      "  - comments: Recorded at Tue Oct 01 10:59:54 2024 with pyForceDAQ 0.7.6\n",
      " Sensor: id=1, name=FT22178, cal-file=calibration\\FT22178.cal\n",
      " Sensor: id=2, name=FT9093, cal-file=calibration\\FT9093.cal\n",
      "         S1_Fx   S1_Fy   S1_Fz   S2_Fx   S2_Fy   S2_Fz\n",
      "0       0.0001  0.0009  0.0070 -0.0075 -0.0071 -0.0053\n",
      "1       0.0003 -0.0016 -0.0065  0.0023 -0.0047 -0.0212\n",
      "2       0.0023 -0.0004 -0.0100 -0.0076 -0.0072  0.0152\n",
      "3       0.0023 -0.0003  0.0006  0.0004  0.0157  0.0008\n",
      "4      -0.0040  0.0009  0.0141 -0.0004 -0.0017  0.0028\n",
      "...        ...     ...     ...     ...     ...     ...\n",
      "979159 -0.0502  0.0271  0.0290 -0.0160  0.0127  0.0540\n",
      "979160 -0.0481  0.0211  0.0222 -0.0076  0.0093  0.0641\n",
      "979161 -0.0419  0.0294  0.0119 -0.0210  0.0069  0.0685\n",
      "979162 -0.0481  0.0259  0.0426 -0.0015  0.0158  0.0639\n",
      "979163 -0.0460  0.0247  0.0189 -0.0095  0.0103  0.0477\n",
      "\n",
      "[979164 rows x 6 columns]\n"
     ]
    }
   ],
   "source": [
    "data = BeForData.from_arrow(tbl)\n",
    "print(data)"
   ]
  },
  {
   "cell_type": "markdown",
   "id": "49f35857-f988-4b82-9638-8e97c943d045",
   "metadata": {},
   "source": [
    "## Filterung"
   ]
  },
  {
   "cell_type": "code",
   "execution_count": 4,
   "id": "90608ea8-ef0f-482a-8187-53198a942906",
   "metadata": {},
   "outputs": [
    {
     "name": "stdout",
     "output_type": "stream",
     "text": [
      "BeForData\n",
      "  sampling_rate: 1000.0, n sessions: 1\n",
      "  columns: 'S1_Fx', 'S1_Fy', 'S1_Fz', 'S2_Fx', 'S2_Fy', 'S2_Fz'\n",
      "  time_column: \n",
      "  metadata\n",
      "  - comments: Recorded at Tue Oct 01 10:59:54 2024 with pyForceDAQ 0.7.6\n",
      " Sensor: id=1, name=FT22178, cal-file=calibration\\FT22178.cal\n",
      " Sensor: id=2, name=FT9093, cal-file=calibration\\FT9093.cal\n",
      "  - cutoff_freq: 15\n",
      "  - butterworth_order: 4\n",
      "           S1_Fx     S1_Fy     S1_Fz     S2_Fx     S2_Fy     S2_Fz\n",
      "0       0.000246  0.000557  0.005873 -0.007246 -0.007191 -0.005483\n",
      "1       0.000154  0.000615  0.005498 -0.006833 -0.006759 -0.004805\n",
      "2       0.000066  0.000666  0.005116 -0.006417 -0.006330 -0.004140\n",
      "3      -0.000017  0.000712  0.004728 -0.005999 -0.005906 -0.003492\n",
      "4      -0.000096  0.000752  0.004338 -0.005580 -0.005486 -0.002863\n",
      "...          ...       ...       ...       ...       ...       ...\n",
      "979159 -0.045814  0.023473  0.025710 -0.010873  0.013253  0.051090\n",
      "979160 -0.045811  0.023473  0.025688 -0.010881  0.013248  0.051119\n",
      "979161 -0.045808  0.023474  0.025670 -0.010887  0.013244  0.051143\n",
      "979162 -0.045806  0.023474  0.025653 -0.010892  0.013240  0.051162\n",
      "979163 -0.045805  0.023475  0.025640 -0.010896  0.013236  0.051178\n",
      "\n",
      "[979164 rows x 6 columns]\n"
     ]
    }
   ],
   "source": [
    "flt_data = force_tools.lowpass_filter(data, cutoff_freq=15, butterworth_order=4)\n",
    "print(flt_data)"
   ]
  },
  {
   "cell_type": "markdown",
   "id": "83acfe2e-5b5d-438a-b2ba-0aa006a523ca",
   "metadata": {},
   "source": [
    "## Creating epochs-based representation\n",
    "\n",
    "Epochs are represented in a matrix. Each row is one trial\n",
    "\n",
    "Example\n",
    "\n",
    "* Extracting epochs of the length 2000 from `Fx` (plut 100 samples befor)\n",
    "* the 6 epochs  start at the 6 \"zero samples\""
   ]
  },
  {
   "cell_type": "code",
   "execution_count": 5,
   "id": "d41379c8-e308-4d2c-ab31-05824d42a2bd",
   "metadata": {},
   "outputs": [
    {
     "name": "stdout",
     "output_type": "stream",
     "text": [
      "BeForEpochs\n",
      "  n epochs: 5, n_samples: 2010\n",
      "  sampling_rate: 1000.0, zero_sample: 10\n",
      "  design: None\n"
     ]
    }
   ],
   "source": [
    "epochs = flt_data.extract_epochs(\"S1_Fx\",\n",
    "            zero_samples = [1530, 6021, 16983, 28952, 67987],\n",
    "            n_samples=2000,\n",
    "            n_samples_before=10)\n",
    "print(epochs)"
   ]
  },
  {
   "cell_type": "markdown",
   "id": "427b395f-6c8a-4b6a-82c4-fcd93c089ff6",
   "metadata": {},
   "source": [
    "# Create you BeForData from CSV-file\n",
    "\n",
    "**coming soon**"
   ]
  },
  {
   "cell_type": "code",
   "execution_count": null,
   "id": "fd28818f-ccd5-4a41-90f6-d2c047eaccc2",
   "metadata": {},
   "outputs": [],
   "source": []
  }
 ],
 "metadata": {
  "kernelspec": {
   "display_name": "scipy",
   "language": "python",
   "name": "python3"
  },
  "language_info": {
   "codemirror_mode": {
    "name": "ipython",
    "version": 3
   },
   "file_extension": ".py",
   "mimetype": "text/x-python",
   "name": "python",
   "nbconvert_exporter": "python",
   "pygments_lexer": "ipython3",
   "version": "3.10.12"
  }
 },
 "nbformat": 4,
 "nbformat_minor": 5
}
