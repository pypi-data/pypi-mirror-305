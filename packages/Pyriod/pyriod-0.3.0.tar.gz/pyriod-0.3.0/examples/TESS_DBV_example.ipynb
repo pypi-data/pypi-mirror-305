{
 "cells": [
  {
   "cell_type": "markdown",
   "metadata": {},
   "source": [
    "This first example of the basic usage of the Pyriod package was demonstrated at the [TASC5/KASC12 workshop](https://web.mit.edu/tasc5/) in Boston 22-26 July 2019.  It shows how to reproduce the frequency analysis of a pulsating helium-atmosphere white dwarf presented in [Bell et al. (A&A, 632, A42)](https://ui.adsabs.harvard.edu/abs/2019A%26A...632A..42B).  \n",
    "\n",
    "See the online [tutorial](https://pyriod.readthedocs.io/en/latest/tutorial/) for more info about how to use Pyriod."
   ]
  },
  {
   "cell_type": "code",
   "execution_count": 1,
   "metadata": {},
   "outputs": [
    {
     "name": "stderr",
     "output_type": "stream",
     "text": [
      "/opt/anaconda3/lib/python3.12/site-packages/Pyriod-0.2.6-py3.12.egg/Pyriod/Pyriod.py:1040: SyntaxWarning: invalid escape sequence '\\+'\n",
      "/opt/anaconda3/lib/python3.12/site-packages/Pyriod-0.2.6-py3.12.egg/Pyriod/Pyriod.py:1095: SyntaxWarning: invalid escape sequence '\\+'\n",
      "/opt/anaconda3/lib/python3.12/site-packages/Pyriod-0.2.6-py3.12.egg/Pyriod/Pyriod.py:1099: SyntaxWarning: invalid escape sequence '\\+'\n",
      "/opt/anaconda3/lib/python3.12/site-packages/Pyriod-0.2.6-py3.12.egg/Pyriod/Pyriod.py:1213: SyntaxWarning: invalid escape sequence '\\+'\n",
      "/opt/anaconda3/lib/python3.12/site-packages/Pyriod-0.2.6-py3.12.egg/Pyriod/Pyriod.py:1216: SyntaxWarning: invalid escape sequence '\\+'\n",
      "/opt/anaconda3/lib/python3.12/site-packages/Pyriod-0.2.6-py3.12.egg/Pyriod/Pyriod.py:1040: SyntaxWarning: invalid escape sequence '\\+'\n",
      "/opt/anaconda3/lib/python3.12/site-packages/Pyriod-0.2.6-py3.12.egg/Pyriod/Pyriod.py:1095: SyntaxWarning: invalid escape sequence '\\+'\n",
      "/opt/anaconda3/lib/python3.12/site-packages/Pyriod-0.2.6-py3.12.egg/Pyriod/Pyriod.py:1099: SyntaxWarning: invalid escape sequence '\\+'\n",
      "/opt/anaconda3/lib/python3.12/site-packages/Pyriod-0.2.6-py3.12.egg/Pyriod/Pyriod.py:1213: SyntaxWarning: invalid escape sequence '\\+'\n",
      "/opt/anaconda3/lib/python3.12/site-packages/Pyriod-0.2.6-py3.12.egg/Pyriod/Pyriod.py:1216: SyntaxWarning: invalid escape sequence '\\+'\n"
     ]
    }
   ],
   "source": [
    "%matplotlib widget\n",
    "import lightkurve as lk\n",
    "from Pyriod import Pyriod"
   ]
  },
  {
   "cell_type": "code",
   "execution_count": 2,
   "metadata": {},
   "outputs": [
    {
     "name": "stderr",
     "output_type": "stream",
     "text": [
      "Warning: 30% (5871/19412) of the cadences will be ignored due to the quality mask (quality_bitmask=175).\n"
     ]
    }
   ],
   "source": [
    "#Download light curve of a DBV white dwarf pulsator observed by TESS\n",
    "#Then smooth and remove outliers\n",
    "lc = lk.search_lightcurve('TIC 257459955',mission='TESS',sector=3)[0].download().remove_outliers(5).flatten(2161)"
   ]
  },
  {
   "cell_type": "code",
   "execution_count": 3,
   "metadata": {},
   "outputs": [],
   "source": [
    "#Instantiate Pyriod object\n",
    "pyriod = Pyriod(lc)"
   ]
  },
  {
   "cell_type": "code",
   "execution_count": 4,
   "metadata": {},
   "outputs": [
    {
     "data": {
      "application/vnd.jupyter.widget-view+json": {
       "model_id": "22d00f8f0a7a42e5aa2c96bd2985fc1f",
       "version_major": 2,
       "version_minor": 0
      },
      "text/plain": [
       "VBox(children=(HTML(value=''), Canvas(toolbar=Toolbar(toolitems=[('Home', 'Reset original view', 'home', 'home…"
      ]
     },
     "metadata": {},
     "output_type": "display_data"
    }
   ],
   "source": [
    "#Interact with time series\n",
    "pyriod.TimeSeries()"
   ]
  },
  {
   "cell_type": "code",
   "execution_count": 5,
   "metadata": {},
   "outputs": [
    {
     "data": {
      "application/vnd.jupyter.widget-view+json": {
       "model_id": "93eb38729e8745eea36d534c15b6d14c",
       "version_major": 2,
       "version_minor": 0
      },
      "text/plain": [
       "VBox(children=(HTML(value=''), HBox(children=(Text(value='1561.1643943500267', description='Frequency:', place…"
      ]
     },
     "metadata": {},
     "output_type": "display_data"
    }
   ],
   "source": [
    "#Interact with periodogram\n",
    "pyriod.Periodogram()"
   ]
  },
  {
   "cell_type": "code",
   "execution_count": null,
   "metadata": {},
   "outputs": [],
   "source": [
    "#Interact with frequency solution\n",
    "pyriod.Signals()"
   ]
  },
  {
   "cell_type": "code",
   "execution_count": null,
   "metadata": {},
   "outputs": [],
   "source": [
    "#Interact with log\n",
    "pyriod.Log()"
   ]
  },
  {
   "cell_type": "code",
   "execution_count": null,
   "metadata": {},
   "outputs": [],
   "source": [
    "#Show all panels in single cell\n",
    "pyriod.Pyriod()"
   ]
  }
 ],
 "metadata": {
  "kernelspec": {
   "display_name": "Python 3 (ipykernel)",
   "language": "python",
   "name": "python3"
  },
  "language_info": {
   "codemirror_mode": {
    "name": "ipython",
    "version": 3
   },
   "file_extension": ".py",
   "mimetype": "text/x-python",
   "name": "python",
   "nbconvert_exporter": "python",
   "pygments_lexer": "ipython3",
   "version": "3.12.7"
  }
 },
 "nbformat": 4,
 "nbformat_minor": 4
}
