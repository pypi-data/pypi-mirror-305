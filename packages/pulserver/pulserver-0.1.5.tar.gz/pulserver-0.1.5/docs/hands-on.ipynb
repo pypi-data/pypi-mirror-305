{
 "cells": [
  {
   "cell_type": "markdown",
   "metadata": {},
   "source": [
    "# Hands-on: a 2D SPGR (Spoiled Gradient-Recalled Echo) Sequence Example\n",
    "\n",
    "This tutorial aims to illustrate the sequence design features of Pulserver through building a minimal 2D Spoiled Gradient Recalled Echo (2D SPGR) sequence.\n",
    "We will demonstrate the built-in high-level design functions as well as show how to customize the sequence using lower-level routines, assuming a basic knowledge of the [(Py)Pulseq](https://github.com/imr-framework/pypulseq/tree/dev) formalism.\n",
    "Let’s get started!\n",
    "\n",
    "First, we have to import the relevant packages and define the basic sequence parameters:"
   ]
  },
  {
   "cell_type": "code",
   "execution_count": 1,
   "metadata": {},
   "outputs": [],
   "source": [
    "import numpy as np\n",
    "import pypulseq as pp\n",
    "\n",
    "import pulserver\n",
    "\n",
    "# Define sequence parameters\n",
    "fov = 256.0  # Field of view in mm (assume squared FOV)\n",
    "matrix_size = 256  # Matrix size (assume squared matrix)\n",
    "n_slices = 1  # Single slice acquisition\n",
    "\n",
    "flip_angle = 15.0  # Flip angle in degrees\n",
    "slice_thickness = 5.0  # Slice thickness in mm"
   ]
  },
  {
   "cell_type": "markdown",
   "metadata": {},
   "source": [
    "Now, we can proceed to the actual sequence design.\n",
    "\n",
    "## 1. Define system limits\n",
    "Similarly to a standard (Py)Pulseq sequence, we need to define the system limits object, using the implementation from PyPulseq. This includes the specific scanner gradient and slew rate, the waveforms raster times and the different boards dead and ringdown times.\n",
    "\n",
    "In this case, we only specify gradient and slew rate, and use the default values for the other attributes:"
   ]
  },
  {
   "cell_type": "code",
   "execution_count": 2,
   "metadata": {},
   "outputs": [
    {
     "name": "stdout",
     "output_type": "stream",
     "text": [
      "System limits:\n",
      "max_grad: 1490160.0000000002\n",
      "max_slew: 5534880000\n",
      "rise_time: None\n",
      "rf_dead_time: 0\n",
      "rf_ringdown_time: 0\n",
      "adc_dead_time: 0\n",
      "adc_raster_time: 1e-07\n",
      "rf_raster_time: 1e-06\n",
      "grad_raster_time: 1e-05\n",
      "block_duration_raster: 1e-05\n",
      "gamma: 42576000\n",
      "B0: 1.5\n"
     ]
    }
   ],
   "source": [
    "system_limits = pulserver.Opts(\n",
    "    max_grad=35, grad_unit=\"mT/m\", max_slew=130, slew_unit=\"T/m/s\"\n",
    ")\n",
    "print(system_limits)  # this is an alias for pypulseq.Opts"
   ]
  },
  {
   "cell_type": "markdown",
   "metadata": {},
   "source": [
    "You can notice that gradient and slew rate are automatically converted to ``[Hz]`` and ``[Hz/m/s]``, respectively.\n",
    "\n",
    "## 2. Instantiate the Sequence object\n",
    "Now, we instantiate the sequence object. This is designed to provide a similar use experience as native Pulseq's `Sequence` class, but is effectively a `builder <(https://en.wikipedia.org/wiki/Builder_pattern>` we use to create the actual PyPulseq `Sequence` object or the equivalent representations for other Pulseq interpreters (for now, GEHC TOPPE). The aim is providing a familiar syntax to Pulseq users, while minimizing the computationally expensive conversion steps required to adapt the format to different platforms."
   ]
  },
  {
   "cell_type": "code",
   "execution_count": 3,
   "metadata": {},
   "outputs": [],
   "source": [
    "seq = pulserver.Sequence(\n",
    "    system_limits, platform=\"pulseq\"\n",
    ")  # 'platform' specifies the internal Sequence type"
   ]
  },
  {
   "cell_type": "markdown",
   "metadata": {},
   "source": [
    "## 3. Define Sequence building blocks\n",
    "\n",
    "At its core, each MR sequence usually consists of the repetition of a few blocks, each consisting of the simultaneous execution of one or more events (e.g., RF, ADC, Gradient). Throughout the acquisition, some parameters of the blocks, e.g., the amplitude of the phase encoding gradients, are dynamically modified to obtained the desired image properties (e.g., FOV, resolution, contrasts). A basic 2D SPGR sequence, for example, consists of the repetition of the following block structure:"
   ]
  },
  {
   "cell_type": "code",
   "execution_count": 4,
   "metadata": {
    "hideCode": true,
    "hidePrompt": false,
    "scrolled": false,
    "tags": [
     "hide-input"
    ]
   },
   "outputs": [
    {
     "data": {
      "image/png": "[encoded data removed]",
      "text/plain": [
       "<Figure size 1000x400 with 1 Axes>"
      ]
     },
     "metadata": {
      "needs_background": "dark"
     },
     "output_type": "display_data"
    }
   ],
   "source": [
    "\"\"\" Draw the sequence diagram of the FLASH sequence. Adapted from \"FLASH\n",
    "    imaging. Rapid NMR imaging using low flip-angle pulses\", Haase et al.,\n",
    "    Journal of Magnetic Resonance, 67(2), pp. 258-266, 1986.\n",
    "\"\"\"\n",
    "\n",
    "import copy\n",
    "\n",
    "import matplotlib.pyplot\n",
    "import mrsd\n",
    "\n",
    "# Define sequence parameters (arbitrary units): echo and repetition times,\n",
    "# durations of ramp, pulses, encoding and readout\n",
    "TE, TR = 4.1, 10\n",
    "d_ramp, d_pulse, d_encoding, d_readout = 0.1, 1, 1, 2\n",
    "\n",
    "# Create the underlying Matplotlib objects and the diagram\n",
    "figure, plot = matplotlib.pyplot.subplots(figsize=(10, 4), tight_layout=True)\n",
    "\n",
    "# Set transparent background\n",
    "figure.patch.set_alpha(0)\n",
    "plot.patch.set_alpha(0)\n",
    "\n",
    "# Set the color for ticks, labels, and lines (use black or another neutral color)\n",
    "plot.spines[\"bottom\"].set_color(\"cornflowerblue\")\n",
    "plot.spines[\"top\"].set_color(\"cornflowerblue\")\n",
    "plot.spines[\"right\"].set_color(\"cornflowerblue\")\n",
    "plot.spines[\"left\"].set_color(\"cornflowerblue\")\n",
    "\n",
    "plot.xaxis.label.set_color(\"cornflowerblue\")\n",
    "plot.yaxis.label.set_color(\"cornflowerblue\")\n",
    "plot.tick_params(axis=\"x\", colors=\"cornflowerblue\")\n",
    "plot.tick_params(axis=\"y\", colors=\"cornflowerblue\")\n",
    "\n",
    "diagram = mrsd.Diagram(\n",
    "    plot, [\"RF\", \"$G_{slice}$\", \"$G_{phase}$\", \"$G_{readout}$\", \"Signal\"]\n",
    ")\n",
    "\n",
    "# Slice-selective pulse of the first TR\n",
    "excitation, slice_selection = diagram.selective_pulse(\n",
    "    \"RF\",\n",
    "    \"$G_{slice}$\",\n",
    "    d_pulse,\n",
    "    ramp=d_ramp,\n",
    "    center=0,\n",
    "    pulse_kwargs={\"ec\": \"cornflowerblue\"},\n",
    "    gradient_kwargs={\"ec\": \"cornflowerblue\"},\n",
    ")\n",
    "\n",
    "# Design events\n",
    "adc = mrsd.ADC(d_readout, center=TE, ec=\"0.5\")\n",
    "echo = mrsd.Echo(d_readout, 1, center=adc.center, ec=\"cornflowerblue\")\n",
    "readout = mrsd.Gradient(d_readout, 1, ramp=0.1, center=adc.center, ec=\"cornflowerblue\")\n",
    "slice_rewind = mrsd.Gradient(\n",
    "    d_encoding, -0.5, d_ramp, begin=slice_selection.end, ec=\"cornflowerblue\"\n",
    ")\n",
    "\n",
    "phase_encoding = mrsd.MultiGradient(\n",
    "    d_encoding, 1, 0.1, begin=slice_rewind.end, ec=\"cornflowerblue\"\n",
    ")\n",
    "readout_prephasing = readout.adapt(\n",
    "    d_encoding, -0.5, 0.1, begin=slice_rewind.end, ec=\"cornflowerblue\"\n",
    ")\n",
    "phase_rewind = mrsd.MultiGradient(\n",
    "    d_encoding, 1, 0.1, begin=readout.end, edgecolor=\"cornflowerblue\"\n",
    ")\n",
    "\n",
    "readout_rewind = readout.adapt(\n",
    "    d_encoding, -0.5, 0.1, begin=readout.end, ec=\"cornflowerblue\"\n",
    ")\n",
    "spoil = readout.adapt(\n",
    "    d_encoding, 1.0, 0.1, begin=readout_rewind.end + 0.5, ec=\"cornflowerblue\"\n",
    ")\n",
    "\n",
    "# Rewind slice selection\n",
    "diagram.add(\"$G_{slice}$\", slice_rewind)\n",
    "\n",
    "# Readout\n",
    "diagram.add(\"Signal\", adc)\n",
    "diagram.add(\"Signal\", echo)\n",
    "diagram.add(\"$G_{readout}$\", readout)\n",
    "\n",
    "# Encoding: rewind slice-selection gradient, run phase gradient, prephase\n",
    "\n",
    "diagram.add(\"$G_{phase}$\", phase_encoding)\n",
    "diagram.add(\"$G_{readout}$\", readout_prephasing)\n",
    "\n",
    "# Post-readout: rewind phase encoding, spoil\n",
    "\n",
    "diagram.add(\"$G_{phase}$\", phase_rewind)\n",
    "diagram.add(\"$G_{readout}$\", readout_rewind)\n",
    "diagram.add(\"$G_{slice}$\", spoil)\n",
    "\n",
    "# Start of next TR\n",
    "diagram.add(\"RF\", copy.copy(excitation).move(TR))\n",
    "diagram.add(\"$G_{slice}$\", copy.copy(slice_selection).move(TR))\n",
    "\n",
    "# Add annotations: flip angles and TE/TR intervals\n",
    "diagram.annotate(\"RF\", 0.2, 1, r\"$\\alpha,\\phi_n$\", color=\"cornflowerblue\")\n",
    "diagram.annotate(\"RF\", TR + 0.2, 1, r\"$\\alpha,\\phi_{n+1}$\", color=\"cornflowerblue\")\n",
    "diagram.annotate(\n",
    "    \"$G_{phase}$\", phase_encoding.end, 0.5, r\"$\\uparrow$\", color=\"cornflowerblue\"\n",
    ")\n",
    "diagram.annotate(\n",
    "    \"$G_{phase}$\", phase_rewind.end, 0.5, r\"$\\downarrow$\", color=\"cornflowerblue\"\n",
    ")\n",
    "diagram.interval(0, TE, -1.5, \"TE\", color=\"black\")\n",
    "diagram.interval(0, TR, -2.5, \"TR\", color=\"black\")\n",
    "\n",
    "matplotlib.pyplot.show()"
   ]
  },
  {
   "cell_type": "markdown",
   "metadata": {},
   "source": [
    "Hence, we need to create the following blocks:\n",
    "\n",
    "- **RF Excitation**:this consists of the simultaneous execution of an RF event and its accompanying slice selection gradient on z-axis.\n",
    "- **Slice Rephasing**: this consists of the slice rephasing gradient event on z-axis.\n",
    "- **Phase encoding**: this consists of simultaneous execution of the phase encoding gradient event on y-axis and the readout pre-winder event on the x-axis.\n",
    "- **Readout**: this consists of the simultaneous execution of the readout gradient (x-axis) and the ADC event (to record the MR signal).\n",
    "- **Rewinder**: this is a repetition of the **Phase encoding**, with a scaling factor equal to -1.0 for the y-axis gradient event (reverse polarity).\n",
    "- **Spoiler**: this consists of the spoiling gradient event on z-axis.\n",
    "\n",
    "This can be accomplished using `pulserver.blocks` sub-package as follows:"
   ]
  },
  {
   "cell_type": "code",
   "execution_count": 5,
   "metadata": {},
   "outputs": [],
   "source": [
    "# create excitation and slice rephasing blocks\n",
    "exc_block, slice_reph_block = pulserver.blocks.make_slr_pulse(\n",
    "    system_limits, flip_angle, slice_thickness\n",
    ")\n",
    "\n",
    "# create phase encoding gradient, readout pre-/re-winder and readout/adc blocks:\n",
    "phase_enc = pulserver.blocks.make_phase_encoding(\"y\", system_limits, fov, matrix_size)\n",
    "readout_block, readout_prewind_block = pulserver.blocks.make_line_readout(\n",
    "    system_limits, fov, matrix_size\n",
    ")\n",
    "\n",
    "# create combined phase encoding + readout prewinder block\n",
    "phase_enc_block = {\"gy\": phase_enc, **readout_prewind_block}\n",
    "\n",
    "# create spoiling block\n",
    "spoil_block = {\n",
    "    \"gz\": pulserver.blocks.make_spoiler_gradient(\n",
    "        \"z\", system_limits, ncycles=4, voxel_size=fov / matrix_size\n",
    "    )\n",
    "}"
   ]
  },
  {
   "cell_type": "markdown",
   "metadata": {},
   "source": [
    "These blocks have to be registered by using `Sequence.register_block` method. Similarly to `Pypulseq.Sequence.register_*_event`, this is used to efficently re-use sequence blocks throughout the scan loop.\n",
    "\n",
    "The `Sequence.register_block` method accepts the following arguments:\n",
    "\n",
    "- **name**: this is the identifier of the block (e.g., ``\"excitation\"``, ``\"readout\"``).\n",
    "- **rf**: this is a RF pulse event. A block can contain either a RF event or an ADC event, not both.\n",
    "- **gx**: this is a Gradient event along x-axis.\n",
    "- **gy**: this is a Gradient event along y-axis.\n",
    "- **gz**: this is a Gradient event along z-axis.\n",
    "- **adc**: this is an ADC event. A block can contain either a RF event or an ADC event, not both.\n",
    "- **trig**: this is a trigger event.\n",
    "- **delay**: this is a delay event, which defines the minimum duration of the block. If the maximum of event durations within a block is lower than this value, a `wait` event will be created by the interpreter so that the duration of the block is equal to `delay`. If the duration is already higher than this value, this is ignored.\n",
    "\n",
    "To reduce boilerplate, sequence blocks returned by `pulserver.blocks` routines are usually dictionaries with a subset of `(rf, gx, gy, gz, adc, trig, delay)` keys. This way, sequence blocks can be simply registered as:"
   ]
  },
  {
   "cell_type": "code",
   "execution_count": 6,
   "metadata": {},
   "outputs": [],
   "source": [
    "seq.register_block(name=\"excitation\", **exc_block)\n",
    "seq.register_block(name=\"slice_rephasing\", **slice_reph_block)\n",
    "seq.register_block(name=\"readout\", **readout_block)\n",
    "seq.register_block(name=\"phase_encoding\", **phase_enc_block)\n",
    "seq.register_block(name=\"spoiling\", **spoil_block)"
   ]
  },
  {
   "cell_type": "markdown",
   "metadata": {},
   "source": [
    "Block name can be freely chosen by the user, with the exception of `\"delay\"`: this is reserved as a pure delay block with this name is created during the instantiation of `Sequence` object.\n",
    "\n",
    "### Custom Blocks\n",
    "\n",
    "As the input arguments for `Sequence.register_event` are Pypulseq events, the user can leverage the PyPulseq design routines to create custom blocks other then the `Pulserver` built-in. For example, the spoiler gradient could have been designed as:"
   ]
  },
  {
   "cell_type": "code",
   "execution_count": 7,
   "metadata": {},
   "outputs": [],
   "source": [
    "# Example of a custom block\n",
    "custom_gz_spoil = pp.make_trapezoid(\n",
    "    channel=\"z\", area=32 / slice_thickness, system=system_limits\n",
    ")"
   ]
  },
  {
   "cell_type": "markdown",
   "metadata": {},
   "source": [
    "and then registered as \n",
    "\n",
    "```Python\n",
    "seq.register_block(\"custom_spoil\", gz=custom_gz_spoil)\n",
    "```"
   ]
  },
  {
   "cell_type": "markdown",
   "metadata": {},
   "source": [
    "## 4. Define the Sequence plan\n",
    "\n",
    "Throughout the scan loop, the basic sequence structure is repeated while changing the phase $\\Phi_n$ phase of the RF pulse (RF spoiling), its frequency offset (to excite different slices) and the scaling of the y-gradient events in both **Phase encoding** and **Rewinder** blocks to sample different ky lines in k-space. The gradient amplitude scaling and RF phase and frequency offsets are examples of dynamic sequence parameters, which also include RF amplitude scaling, gradient rotations and variable delay times, that are used to control the image contrast and k-space sampling pattern.\n",
    "\n",
    "Hence, the user needs to create the schedule for these dynamic sequence parameters. As this require a lot of effort, especially to obtain specific sampling pattern for Parallel Imaging and Compressed Sensing (e.g., CAIPIRINHA and Poisson Disk sampling), we include support routines to 1) generate such sampling masks and RF modulation patterns and 2) retrieve the corresponding gradient / RF amplitude settings at each TR. These support routines are included in `pulserver.plan` subpackage.\n",
    "\n",
    "We now use this package to create a Cartesian sampling mask and the RF phase list required to obtain RF spoiling:"
   ]
  },
  {
   "cell_type": "code",
   "execution_count": 8,
   "metadata": {},
   "outputs": [],
   "source": [
    "# total number of RF excitations\n",
    "n_scans = matrix_size * n_slices\n",
    "\n",
    "# create RF phase schedule\n",
    "rf_phases = pulserver.plan.RfPhaseCycle(\n",
    "    num_pulses=n_scans,\n",
    "    phase_increment=117.0,  # degrees\n",
    ")\n",
    "\n",
    "# create Gy and RF frequency offset schedule to achieve the requested FOV, in-plane resolution and number of slices\n",
    "encoding_plan, _ = pulserver.plan.cartesian2D(\n",
    "    g_slice_select=exc_block[\"gz\"],\n",
    "    slice_thickness=slice_thickness,\n",
    "    n_slices=n_slices,\n",
    "    ny=matrix_size,\n",
    ")  # second output is the (kx, ky) sampling mask, here not necessary because we do not have acceleration"
   ]
  },
  {
   "cell_type": "markdown",
   "metadata": {},
   "source": [
    "Both `rf_phases` and `encoding_plan` are iterators which keep track of the number of times they have been called, and which can be used to retrieve the actual `rf_phase`, the gradient and rf frequency offsets `(gy_amp, rf_freq)` and the corresponding phase encoding and slice indexes `(iy, iz)` while increasing the readability in case of nested (e.g., phase and slice) loops:"
   ]
  },
  {
   "cell_type": "code",
   "execution_count": 9,
   "metadata": {},
   "outputs": [
    {
     "name": "stdout",
     "output_type": "stream",
     "text": [
      "RF phase: 0.0 [rad]\n",
      "Gy amplitude (wrt to peak of gradient waveform): -0.5\n",
      "Phase encoding index: 0\n",
      "RF frequency offset: 0.0\n",
      "Slice index: 0\n",
      "RF phase: 0.03564023811504491 [rad]\n",
      "Gy amplitude (wrt to peak of gradient waveform): -0.49609375\n",
      "Phase encoding index: 1\n",
      "RF frequency offset: 0.0\n",
      "Slice index: 0\n",
      "RF phase: 0.10692071434513473 [rad]\n",
      "Gy amplitude (wrt to peak of gradient waveform): -0.4921875\n",
      "Phase encoding index: 2\n",
      "RF frequency offset: 0.0\n",
      "Slice index: 0\n",
      "RF phase: 0.21384142869026945 [rad]\n",
      "Gy amplitude (wrt to peak of gradient waveform): -0.48828125\n",
      "Phase encoding index: 3\n",
      "RF frequency offset: 0.0\n",
      "Slice index: 0\n"
     ]
    }
   ],
   "source": [
    "for n in range(4):\n",
    "    rf_phase = rf_phases()\n",
    "    encoding, header = encoding_plan()\n",
    "    print(f\"RF phase: {rf_phase} [rad]\")\n",
    "    print(f\"Gy amplitude (wrt to peak of gradient waveform): {encoding.gy_amp}\")\n",
    "    print(f\"Phase encoding index: {header.iy}\")\n",
    "    print(f\"RF frequency offset: {encoding.rf_freq}\")\n",
    "    print(f\"Slice index: {header.iz}\")"
   ]
  },
  {
   "cell_type": "markdown",
   "metadata": {},
   "source": [
    "Iterators can be rewound by using the `reset()` method:"
   ]
  },
  {
   "cell_type": "code",
   "execution_count": 10,
   "metadata": {},
   "outputs": [
    {
     "name": "stdout",
     "output_type": "stream",
     "text": [
      "RF phase counter before reset: 4\n",
      "Encoding counter before reset: 4\n",
      "RF phase counter after reset: 0\n",
      "Encoding counter after reset: 0\n"
     ]
    }
   ],
   "source": [
    "print(f\"RF phase counter before reset: {rf_phases.count}\")\n",
    "print(f\"Encoding counter before reset: {encoding_plan.count}\")\n",
    "rf_phases.reset()\n",
    "encoding_plan.reset()\n",
    "print(f\"RF phase counter after reset: {rf_phases.count}\")\n",
    "print(f\"Encoding counter after reset: {encoding_plan.count}\")"
   ]
  },
  {
   "cell_type": "markdown",
   "metadata": {},
   "source": [
    "### Custom plans\n",
    "Both the plan design routines and the iterators are just convenience tool to help the user. Since the entities used in dynamic loop definition, as we will see in the next section, are the plain floating point rf/gradient scaling and rotations (float or NumPy NDArrays), the user can leverage `NumPy` and any existing sampling pattern generator package (e.g., [SigPy.RF](https://github.com/mikgroup/sigpy) or [PulPy](https://github.com/jonbmartin/pulpy) to create its own sequence plan:"
   ]
  },
  {
   "cell_type": "code",
   "execution_count": 11,
   "metadata": {},
   "outputs": [],
   "source": [
    "def my_sequence_plan(ny, nz, Ry):\n",
    "    \"\"\"This is actually an example of 3D encoding\"\"\"\n",
    "    # create Gy scaling for ny lines and Ry acceleration factor\n",
    "    gy_scale = (\n",
    "        np.arange(ny)[::Ry] - (ny // 2)\n",
    "    ) / ny  # -0.5:0.5, in-plane acceleration = 2\n",
    "\n",
    "    # create Gz scaling\n",
    "    gz_scale = (np.arange(nz) - (nz // 2)) / nz  # -0.5:0.5\n",
    "\n",
    "    # create Gy, Gz combinations using Gy as faster varying dimension (inner sequence loop)\n",
    "    return np.meshgrid(\n",
    "        gy_scale,\n",
    "        gz_scale,\n",
    "        indexing=\"xy\",\n",
    "    )"
   ]
  },
  {
   "cell_type": "markdown",
   "metadata": {},
   "source": [
    "## 5. Create scan loop\n",
    "\n",
    "Now that we have all sequence building blocks, it is time to build the actual loop. It is advised to mark the beginning of scan loop with a `pulserver.Sequence.section` method call, which only accepts a `name` argument. The user can concatenate multiple `section` blocks (each corresponding to an individual loop), which can be used to create e.g., the steady state preparation loop, the Parallel Imaging calibration loop or the main sequence loop. The actual section name is not currently used by the builder, but the `section` declaration helps some of the interpreters (e.g., TOPPE) to identify the periodic sequences of the loop. If the interpreter does not use this (e.g., Siemens's Pulseq), `section` marks are ignored, but having them in the code helps the user to better visualize the sequence structure.\n",
    "\n",
    "In this example, we will design a simple sequence with a single section:"
   ]
  },
  {
   "cell_type": "code",
   "execution_count": 12,
   "metadata": {},
   "outputs": [],
   "source": [
    "seq.section(name=\"scan_loop\")  # section declaration\n",
    "for n in range(n_scans):\n",
    "\n",
    "    # get dynamic sequence parameters\n",
    "    rf_phase = rf_phases()\n",
    "    encoding, _ = encoding_plan()\n",
    "\n",
    "    # update sequence loop\n",
    "    seq.add_block(\"excitation\", rf_phase=rf_phase, rf_freq=encoding.rf_freq)\n",
    "    seq.add_block(\"slice_rephasing\")\n",
    "    seq.add_block(\"phase_encoding\", gy_amp=encoding.gy_amp)\n",
    "    seq.add_block(\"readout\", adc_phase=rf_phase)\n",
    "    seq.add_block(\"phase_encoding\", gy_amp=-encoding.gy_amp)\n",
    "    seq.add_block(\"spoiling\")"
   ]
  },
  {
   "cell_type": "markdown",
   "metadata": {},
   "source": [
    "Each loop iteration consists essentially in the computation of the current dynamic parameters (here, `(rf_phase, rf_freq, gy_amp)`), followed by an update of the `Sequence` object. This is achieved by using `pulserver.Sequence.add_block` method.\n",
    "\n",
    "This is conceptually similar to `pypulseq.Sequence.add_block`. However, while the latter directly accepts a list of `pypulseq` events and build a block, `pulserver.Sequence.add_block` expect the identifier (i.e., `name`) of the registered blocks and the following parameters:\n",
    "\n",
    "- **gx_amp**: amplitude scaling of the x-gradient event in the block (i.e., `gx_amp=1.0` corresponding to the nominal amplitude).\n",
    "- **gy_amp**: amplitude scaling of the y-gradient event in the block (i.e., `gy_amp=1.0` corresponding to the nominal amplitude).\n",
    "- **gz_amp**: amplitude scaling of the z-gradient event in the block (i.e., `gz_amp=1.0` corresponding to the nominal amplitude).\n",
    "- **rf_amp**: amplitude scaling of the RF event in the block (i.e., `rf_amp=1.0` corresponding to the nominal amplitude).\n",
    "- **rf_phase**: RF pulse phase modulation in `rad` (e.g., for phase cycling and RF spoiling).\n",
    "- **rf_freq**: RF pulse frequency offset in `Hz` (e.g., for off-isocenter slice excitation, fat saturation or MT preparation).\n",
    "- **rf_phase**: ADC phase modulation in `rad` (i.e., for signal de-modulation), usually the same as **rf_phase**.\n",
    "- **delay**: delay time in `s`. For the pure delay block, allows to dynamically modulate sequence timing (e.g., TE, TR) - ignored for standard blocks.\n",
    "- **rotmat**: Gradient 3D rotation matrix of shape `(3, 3)` - used to rotate the slice orientation or for Non Cartesian imaging.\n",
    "\n",
    "N.B: after the first `add_block` call, the user cannot register any more sequence blocks."
   ]
  },
  {
   "cell_type": "markdown",
   "metadata": {},
   "source": [
    "## 6. Building the sequence \n",
    "\n",
    "We are almost there! Now, we can build the sequence by calling the `pulserver.Sequence.build` method.\n",
    "\n",
    "If `platform==\"pulseq\"` this will internally take the building blocks, scale and rotate them by using (e.g., using `pypulseq.scale_grad`, `pypulseq.rotate`) and build the actual `pypulseq.Sequence` object by calling `pypulseq.Sequence.add_block`. The result is a native `PyPulseq` sequence object, which can be saved as `pypulseq.Sequence.write_seq`:"
   ]
  },
  {
   "cell_type": "code",
   "execution_count": 13,
   "metadata": {},
   "outputs": [
    {
     "name": "stdout",
     "output_type": "stream",
     "text": [
      "Sequence:\n",
      "shape_library: EventLibrary:\n",
      "data: 3\n",
      "type: 0\n",
      "rf_library: EventLibrary:\n",
      "data: 256\n",
      "type: 256\n",
      "grad_library: EventLibrary:\n",
      "data: 262\n",
      "type: 262\n",
      "adc_library: EventLibrary:\n",
      "data: 256\n",
      "type: 0\n",
      "delay_library: EventLibrary:\n",
      "data: 0\n",
      "type: 0\n",
      "extensions_library: EventLibrary:\n",
      "data: 0\n",
      "type: 0\n",
      "rf_raster_time: 1e-06\n",
      "grad_raster_time: 1e-05\n",
      "block_events: 1536\n"
     ]
    }
   ],
   "source": [
    "# build\n",
    "seq = seq.build()\n",
    "\n",
    "# this is now a PyPulseq Sequence object!\n",
    "print(seq)"
   ]
  },
  {
   "cell_type": "markdown",
   "metadata": {},
   "source": [
    "## Wrapping up\n",
    "\n",
    "These steps can (and should!) be grouped in a design routine:"
   ]
  },
  {
   "cell_type": "code",
   "execution_count": 14,
   "metadata": {},
   "outputs": [],
   "source": [
    "def design_2D_spgr(\n",
    "    fov: float,\n",
    "    matrix_size: int,\n",
    "    n_slices: int,\n",
    "    flip_angle: float,\n",
    "    slice_thickness: float,\n",
    "    platform: str = \"pulseq\",\n",
    "):\n",
    "    \"\"\"\n",
    "    Design a simplified 2D Spoiled Gradient Echo sequence.\n",
    "\n",
    "    Parameters\n",
    "    ----------\n",
    "    fov : float\n",
    "        In-plane field of view in [m].\n",
    "    matrix_size : int\n",
    "        Number of pixels (assume squared matrix).\n",
    "    n_slices : int\n",
    "        Number of slices.\n",
    "    flip_angle : float\n",
    "        Flip Angle in [deg].\n",
    "    slice_thickness : float\n",
    "        Slice thickness in [mm].\n",
    "    platform : str, optional\n",
    "        MR scanner platform (e.g., \"siemens\", \"gehc\").\n",
    "        The default is \"pulseq\" (alias for \"siemens\").\n",
    "\n",
    "    Returns\n",
    "    -------\n",
    "    pypulse.Sequence | pulserver.Ceq\n",
    "        Object representing the sequence.\n",
    "        The format is determined by input platform.\n",
    "\n",
    "    \"\"\"\n",
    "    # define system limits\n",
    "    system_limits = pulserver.Opts(\n",
    "        max_grad=35, grad_unit=\"mT/m\", max_slew=130, slew_unit=\"T/m/s\"\n",
    "    )\n",
    "\n",
    "    # initialize sequence object\n",
    "    seq = pulserver.Sequence(\n",
    "        system_limits, platform=\"pulseq\"\n",
    "    )  # 'platform' specifies the internal Sequence type\n",
    "\n",
    "    # Define Blocks\n",
    "    # -------------\n",
    "    # create excitation and slice rephasing blocks\n",
    "    exc_block, slice_reph_block = pulserver.blocks.make_slr_pulse(\n",
    "        system_limits, flip_angle, slice_thickness\n",
    "    )\n",
    "\n",
    "    # create phase encoding gradient, readout pre-/re-winder and readout/adc blocks:\n",
    "    phase_enc = pulserver.blocks.make_phase_encoding(\n",
    "        \"y\", system_limits, fov, matrix_size\n",
    "    )\n",
    "    readout_block, readout_prewind_block = pulserver.blocks.make_line_readout(\n",
    "        system_limits, fov, matrix_size\n",
    "    )\n",
    "\n",
    "    # create combined phase encoding + readout prewinder block\n",
    "    phase_enc_block = {\"gy\": phase_enc, **readout_prewind_block}\n",
    "\n",
    "    # create spoiling block\n",
    "    spoil_block = {\n",
    "        \"gz\": pulserver.blocks.make_spoiler_gradient(\n",
    "            \"z\", system_limits, ncycles=4, voxel_size=fov / matrix_size\n",
    "        )\n",
    "    }\n",
    "\n",
    "    # register blocks\n",
    "    seq.register_block(name=\"excitation\", **exc_block)\n",
    "    seq.register_block(name=\"slice_rephasing\", **slice_reph_block)\n",
    "    seq.register_block(name=\"readout\", **readout_block)\n",
    "    seq.register_block(name=\"phase_encoding\", **phase_enc_block)\n",
    "    seq.register_block(name=\"spoiling\", **spoil_block)\n",
    "\n",
    "    # Define sequence plan\n",
    "    # --------------------\n",
    "    # total number of RF excitations\n",
    "    n_scans = matrix_size * n_slices\n",
    "\n",
    "    # create RF phase schedule\n",
    "    rf_phases = pulserver.plan.RfPhaseCycle(\n",
    "        num_pulses=n_scans,\n",
    "        phase_increment=117.0,  # degrees\n",
    "    )\n",
    "\n",
    "    # create Gy and RF frequency offset schedule to achieve the requested FOV, in-plane resolution and number of slices\n",
    "    encoding_plan, _ = pulserver.plan.cartesian2D(\n",
    "        g_slice_select=exc_block[\"gz\"],\n",
    "        slice_thickness=slice_thickness,\n",
    "        n_slices=n_slices,\n",
    "        ny=matrix_size,\n",
    "    )  # second output is the (kx, ky) sampling mask, here not necessary because we do not have acceleration\n",
    "\n",
    "    # Set up scan loop\n",
    "    # ----------------\n",
    "    seq.section(name=\"scan_loop\")  # section declaration\n",
    "    for n in range(n_scans):\n",
    "\n",
    "        # get dynamic sequence parameters\n",
    "        rf_phase = rf_phases()\n",
    "        encoding, _ = encoding_plan()\n",
    "\n",
    "        # update sequence loop\n",
    "        seq.add_block(\"excitation\", rf_phase=rf_phase, rf_freq=encoding.rf_freq)\n",
    "        seq.add_block(\"slice_rephasing\")\n",
    "        seq.add_block(\"phase_encoding\", gy_amp=encoding.gy_amp)\n",
    "        seq.add_block(\"readout\", adc_phase=rf_phase)\n",
    "        seq.add_block(\"phase_encoding\", gy_amp=-encoding.gy_amp)\n",
    "        seq.add_block(\"spoiling\")\n",
    "\n",
    "    # build the sequence\n",
    "    return seq.build()"
   ]
  },
  {
   "cell_type": "markdown",
   "metadata": {},
   "source": [
    "which can be called as:"
   ]
  },
  {
   "cell_type": "code",
   "execution_count": 15,
   "metadata": {},
   "outputs": [
    {
     "name": "stdout",
     "output_type": "stream",
     "text": [
      "Sequence:\n",
      "shape_library: EventLibrary:\n",
      "data: 3\n",
      "type: 0\n",
      "rf_library: EventLibrary:\n",
      "data: 256\n",
      "type: 256\n",
      "grad_library: EventLibrary:\n",
      "data: 262\n",
      "type: 262\n",
      "adc_library: EventLibrary:\n",
      "data: 256\n",
      "type: 0\n",
      "delay_library: EventLibrary:\n",
      "data: 0\n",
      "type: 0\n",
      "extensions_library: EventLibrary:\n",
      "data: 0\n",
      "type: 0\n",
      "rf_raster_time: 1e-06\n",
      "grad_raster_time: 1e-05\n",
      "block_events: 1536\n"
     ]
    }
   ],
   "source": [
    "seq = design_2D_spgr(\n",
    "    fov, matrix_size, n_slices, flip_angle, slice_thickness, platform=\"pulseq\"\n",
    ")\n",
    "print(seq)"
   ]
  },
  {
   "cell_type": "markdown",
   "metadata": {},
   "source": [
    "This can also be used as a custom plugin for the server architecture in the context of online sequence design."
   ]
  }
 ],
 "metadata": {
  "celltoolbar": "Hide code",
  "kernelspec": {
   "display_name": "Python 3 (ipykernel)",
   "language": "python",
   "name": "python3"
  },
  "language_info": {
   "codemirror_mode": {
    "name": "ipython",
    "version": 3
   },
   "file_extension": ".py",
   "mimetype": "text/x-python",
   "name": "python",
   "nbconvert_exporter": "python",
   "pygments_lexer": "ipython3",
   "version": "3.12.4"
  }
 },
 "nbformat": 4,
 "nbformat_minor": 4
}
