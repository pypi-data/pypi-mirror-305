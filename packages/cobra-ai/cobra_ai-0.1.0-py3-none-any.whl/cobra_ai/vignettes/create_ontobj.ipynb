{
 "cells": [
  {
   "cell_type": "markdown",
   "metadata": {},
   "source": [
    "## Vignette for handling Ontobjs\n",
    "\n",
    "The COBRA package implements a class ```Ontobj```, wich functions as a container for preprocessing and trimming a given biological (regulatory) network. The class is named ```Ontobj``` because it was originally designed to store a hierarchical biological ontology such as Gene Ontology. However, the class can handle any kind of one-layer (Transcription factor regulons, pathways) or multi-layer structures (GO), which consist of biological entities that are annotated to a set of genes. In the following, I demonstrate how to build a multi-layer or one-layer ```Ontobj```, and how to save and load the class."
   ]
  },
  {
   "cell_type": "markdown",
   "metadata": {},
   "source": [
    "### Creating and saving an ontobj"
   ]
  },
  {
   "cell_type": "code",
   "execution_count": null,
   "metadata": {},
   "outputs": [],
   "source": [
    "# import packages\n",
    "import sys\n",
    "sys.path.append('/workspace')\n",
    "from cobra_ai.module.ontobj import *"
   ]
  },
  {
   "cell_type": "code",
   "execution_count": null,
   "metadata": {},
   "outputs": [],
   "source": [
    "# initialize the Ontobj\n",
    "ontobj = Ontobj(description='GO') # the user can give any description here to specify what kind of network is stored in the class"
   ]
  },
  {
   "cell_type": "code",
   "execution_count": null,
   "metadata": {},
   "outputs": [],
   "source": [
    "# initialize the ontology\n",
    "ontobj.initialize_dag(obo='/workspace/cobra_ai/data/GO/go-basic.obo', # an obo file for a hierarchical ontology\n",
    "                   gene_annot='/workspace/cobra_ai/data/GO/hgnc_goterm_mapping.txt', # a two-column annotation file (tab-separated) (1st column: genes, 2nd column: terms)\n",
    "                   filter_id = 'biological_process') # optional parameter: if obo file should be filtered"
   ]
  },
  {
   "cell_type": "markdown",
   "metadata": {},
   "source": [
    "After the ontology was initialized, it needs to be trimmed so that it can be accommodated into a Variational Autoencoder model. For trimming, the user chooses a bottom threshold and a top threshold, and only terms where the annotated number of genes lies within the thresholds are kept (bottom_thresh < no. of annotated genes < top_thresh). For the annotated genes, the algorithm considers the descendant genes, genes that are annotated either to the term itself or to any of its descendant terms. If the top_thresh and bottom_thresh parameters are not specified, the defaults of 1000 and 30 will be used. Be aware that these defaults were calibrated for Gene Ontology. \n",
    "The user can also run the trimming with different thresholds, then multiple versions will be stored in the same ontobj. "
   ]
  },
  {
   "cell_type": "code",
   "execution_count": null,
   "metadata": {},
   "outputs": [],
   "source": [
    "# trim the ontology\n",
    "ontobj.trim_dag(top_thresh=1000, \n",
    "             bottom_thresh=30)"
   ]
  },
  {
   "cell_type": "code",
   "execution_count": null,
   "metadata": {},
   "outputs": [],
   "source": [
    "# create binary masks for decoder initialization\n",
    "ontobj.create_masks()"
   ]
  },
  {
   "cell_type": "code",
   "execution_count": null,
   "metadata": {},
   "outputs": [],
   "source": [
    "# save ontobj\n",
    "ontobj.save('/workspace/cobra_ai/data/GO/GO.ontobj')"
   ]
  },
  {
   "cell_type": "markdown",
   "metadata": {},
   "source": [
    "### Loading an ontobj and accessing the data"
   ]
  },
  {
   "cell_type": "code",
   "execution_count": null,
   "metadata": {},
   "outputs": [],
   "source": [
    "# initialize Ontobj and load existing object\n",
    "ontobj = Ontobj()\n",
    "ontobj.load('/workspace/cobra_ai/data/GO/GO.ontobj')"
   ]
  },
  {
   "cell_type": "code",
   "execution_count": null,
   "metadata": {},
   "outputs": [],
   "source": [
    "# extract ontology annot\n",
    "annot = ontobj.extract_annot(top_thresh=1000, bottom_thresh=30)"
   ]
  },
  {
   "cell_type": "code",
   "execution_count": null,
   "metadata": {},
   "outputs": [],
   "source": [
    "# extract ontology genes\n",
    "genes = ontobj.extract_genes()"
   ]
  },
  {
   "cell_type": "markdown",
   "metadata": {},
   "source": [
    "## Creating ontobj with one-layer network\n",
    "\n",
    "If one wants to use a one-layer network such as TF regulons, annotations are provided through the gene_annot parameter, and the obo parameter is not used in the ```ìnitialize_dag()``` function"
   ]
  },
  {
   "cell_type": "code",
   "execution_count": null,
   "metadata": {},
   "outputs": [],
   "source": [
    "# initialize one-layer network, eg TFs\n",
    "ontobj.initialize_dag(gene_annot='/workspace/cobra_ai/data/gene_tf_mapping.txt')"
   ]
  }
 ],
 "metadata": {
  "kernelspec": {
   "display_name": "base",
   "language": "python",
   "name": "python3"
  },
  "language_info": {
   "codemirror_mode": {
    "name": "ipython",
    "version": 3
   },
   "file_extension": ".py",
   "mimetype": "text/x-python",
   "name": "python",
   "nbconvert_exporter": "python",
   "pygments_lexer": "ipython3",
   "version": "3.10.8"
  },
  "orig_nbformat": 4
 },
 "nbformat": 4,
 "nbformat_minor": 2
}
