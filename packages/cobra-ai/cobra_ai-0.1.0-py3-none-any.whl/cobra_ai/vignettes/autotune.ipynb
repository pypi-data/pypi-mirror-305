{
 "cells": [
  {
   "cell_type": "markdown",
   "metadata": {},
   "source": [
    "## Autotune OntoVAE models"
   ]
  },
  {
   "cell_type": "markdown",
   "metadata": {},
   "source": [
    "The OntoVAE package contains a class ModelTuner() to do autotuning of the hyperparameters of OntoVAE. This vignette shows how to utilize this class to get optimal hyperparameter settings."
   ]
  },
  {
   "cell_type": "markdown",
   "metadata": {},
   "source": [
    "### Creating a Tuner for OntoVAEcpa"
   ]
  },
  {
   "cell_type": "code",
   "execution_count": null,
   "metadata": {},
   "outputs": [],
   "source": [
    "import sys\n",
    "sys.path.append('/workspace')\n",
    "import scanpy as sc\n",
    "from cobra_ai.module.ontobj import *\n",
    "from cobra_ai.module.utils import *\n",
    "from cobra_ai.model.cobra import *\n",
    "from cobra_ai.module.autotune import *\n",
    "from ray import tune"
   ]
  },
  {
   "cell_type": "code",
   "execution_count": null,
   "metadata": {},
   "outputs": [],
   "source": [
    "# load ontobj\n",
    "ontobj = Ontobj()\n",
    "ontobj.load('cobra_ai/GO/GO.ontobj')\n",
    "\n",
    "# load anndata\n",
    "adata = sc.read_h5ad('cobra_ai/data/train_pbmc.h5ad')\n",
    "\n",
    "# setup the anndata\n",
    "cobra_keys = ['n_genes']\n",
    "adata = utils.setup_anndata_ontovae(adata, ontobj, cobra_keys = cobra_keys)\n"
   ]
  },
  {
   "cell_type": "code",
   "execution_count": null,
   "metadata": {},
   "outputs": [],
   "source": [
    "# create the tuner and show a summary\n",
    "tuner = ModelTuner(COBRA)\n",
    "tuner.info()"
   ]
  },
  {
   "cell_type": "markdown",
   "metadata": {},
   "source": [
    "### Tune Hyperparameters"
   ]
  },
  {
   "cell_type": "code",
   "execution_count": null,
   "metadata": {},
   "outputs": [],
   "source": [
    "# create the search space dictionary with the parameters you want to define a search space for yourself\n",
    "search_space = {\"hidden_layers_class\": tune.choice([1, 2]), \"lr_vae\": tune.loguniform(1e-4, 1e-2)}\n",
    "# create a list of parameters that you also want to tune with the default search space specified in the package\n",
    "use_defaults = ['drop_class', 'kl_coeff']"
   ]
  },
  {
   "cell_type": "markdown",
   "metadata": {},
   "source": [
    "You can have a look at the default search space with the following code snippet:"
   ]
  },
  {
   "cell_type": "code",
   "execution_count": null,
   "metadata": {},
   "outputs": [],
   "source": [
    "DEFAULTS[COBRA.__name__]\n",
    "DEFAULTS[OntoVAE.__name__]"
   ]
  },
  {
   "cell_type": "code",
   "execution_count": null,
   "metadata": {},
   "outputs": [],
   "source": [
    "# run the fit function of the tuner\n",
    "results = tuner.fit(adata, ontobj, search_space = search_space, use_defaults = use_defaults, epochs = 100, cobra_keys = cobra_keys, num_samples = 10, resources = {'gpu': 1})\n",
    "# show the best hyperparameter settings\n",
    "tuner.output(results[0], results[1])"
   ]
  }
 ],
 "metadata": {
  "kernelspec": {
   "display_name": "Python 3",
   "language": "python",
   "name": "python3"
  },
  "language_info": {
   "name": "python",
   "version": "3.8.10"
  }
 },
 "nbformat": 4,
 "nbformat_minor": 2
}
