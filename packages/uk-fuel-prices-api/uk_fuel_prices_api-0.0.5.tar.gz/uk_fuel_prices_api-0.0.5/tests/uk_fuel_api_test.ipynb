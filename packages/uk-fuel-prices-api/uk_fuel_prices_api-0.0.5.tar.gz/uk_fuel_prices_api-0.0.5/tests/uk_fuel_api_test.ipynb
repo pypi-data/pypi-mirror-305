{
 "cells": [
  {
   "cell_type": "code",
   "execution_count": 2,
   "metadata": {},
   "outputs": [
    {
     "name": "stdout",
     "output_type": "stream",
     "text": [
      "Ready\n"
     ]
    }
   ],
   "source": [
    "# Initialise\n",
    "%load_ext autoreload\n",
    "%autoreload 2\n",
    "\n",
    "import os\n",
    "import sys\n",
    "sys.path.append(os.path.abspath('../src'))\n",
    "\n",
    "from uk_fuel_prices_api import UKFuelPricesApi\n",
    "api = UKFuelPricesApi()\n",
    "\n",
    "await api.get_prices()\n",
    "\n",
    "print(\"Ready\")\n",
    "#display(df.sample(n=3))"
   ]
  },
  {
   "cell_type": "code",
   "execution_count": null,
   "metadata": {},
   "outputs": [],
   "source": [
    "# api.search\n",
    "\n",
    "value = \"jet\"\n",
    "\n",
    "display(api.search(value, 10))"
   ]
  },
  {
   "cell_type": "code",
   "execution_count": null,
   "metadata": {},
   "outputs": [],
   "source": [
    "# api.get_site_id\n",
    "\n",
    "id = 'gcrfcbhmt8rb'\n",
    "\n",
    "display(api.get_station(id))"
   ]
  },
  {
   "cell_type": "code",
   "execution_count": null,
   "metadata": {},
   "outputs": [],
   "source": [
    "# check distance utility method\n",
    "\n",
    "dist = UKFuelPricesApi.distance(52, -1, 52, -2)\n",
    "print(round(dist, 2))\n",
    "\n",
    "dist = UKFuelPricesApi.distance(12, 2, -10, -39)\n",
    "print(round(dist, 2))"
   ]
  },
  {
   "cell_type": "code",
   "execution_count": null,
   "metadata": {},
   "outputs": [],
   "source": [
    "# api.stationsWithinRadius\n",
    "\n",
    "lat, lng = 53.743175, -1.882085  # Halifax Esso\n",
    "radius = 5\n",
    "\n",
    "display(api.stationsWithinRadius(lat, lng, radius))"
   ]
  },
  {
   "cell_type": "code",
   "execution_count": 3,
   "metadata": {},
   "outputs": [
    {
     "data": {
      "text/plain": [
       "[{'site_id': 'gcw37zt2j4yv',\n",
       "  'brand': 'TESCO',\n",
       "  'address': 'Bocholt Way Rawtenstall Lancashire',\n",
       "  'postcode': 'BB4 6DB',\n",
       "  'last_updated': '2024-10-27T11:19:03',\n",
       "  'source_endpoint': 'https://www.tesco.com/fuel_prices/fuel_prices_data.json',\n",
       "  'latitude': 53.698441,\n",
       "  'longitude': -2.288709,\n",
       "  'B7': 1.329,\n",
       "  'E10': 1.309,\n",
       "  'E5': 1.409,\n",
       "  'SDV': None,\n",
       "  'dist': 0.51},\n",
       " {'site_id': 'gcw37q9jvpy1',\n",
       "  'brand': 'TESCO',\n",
       "  'address': 'Syke St Haslingden Rossendale',\n",
       "  'postcode': 'BB4 6LY',\n",
       "  'last_updated': '2024-10-27T11:19:03',\n",
       "  'source_endpoint': 'https://www.tesco.com/fuel_prices/fuel_prices_data.json',\n",
       "  'latitude': 53.693961,\n",
       "  'longitude': -2.316519,\n",
       "  'B7': 1.329,\n",
       "  'E10': 1.299,\n",
       "  'E5': 1.399,\n",
       "  'SDV': None,\n",
       "  'dist': 2.38},\n",
       " {'site_id': 'gcw3eh271q27',\n",
       "  'brand': 'SHELL',\n",
       "  'address': 'BLACKBURN ROAD',\n",
       "  'postcode': 'BB5 2SB',\n",
       "  'last_updated': '2024-10-27T00:00:00',\n",
       "  'source_endpoint': 'https://www.shell.co.uk/fuel-prices-data.html',\n",
       "  'latitude': 53.725067,\n",
       "  'longitude': -2.328704,\n",
       "  'B7': 1.429,\n",
       "  'E10': 1.359,\n",
       "  'E5': None,\n",
       "  'SDV': None,\n",
       "  'dist': 4.33}]"
      ]
     },
     "metadata": {},
     "output_type": "display_data"
    }
   ],
   "source": [
    "# api.stationsWithinRadius\n",
    "\n",
    "lat, lng = 53.69821991134749, -2.2810363769531254  # Haslingden\n",
    "radius = 5\n",
    "\n",
    "display(api.stationsWithinRadius(lat, lng, radius))"
   ]
  },
  {
   "cell_type": "code",
   "execution_count": null,
   "metadata": {},
   "outputs": [],
   "source": [
    "# api.findCheapest\n",
    "\n",
    "lat, lng = 53.743175, -1.882085  # Halifax Esso\n",
    "radius = 5\n",
    "stations = api.stationsWithinRadius(lat, lng, radius)\n",
    "\n",
    "for s in stations:\n",
    "    print(f\"{s['site_id']}\\t{s['brand']}\\t\\t £{s['E10']}\")\n"
   ]
  }
 ],
 "metadata": {
  "kernelspec": {
   "display_name": ".venv",
   "language": "python",
   "name": "python3"
  },
  "language_info": {
   "codemirror_mode": {
    "name": "ipython",
    "version": 3
   },
   "file_extension": ".py",
   "mimetype": "text/x-python",
   "name": "python",
   "nbconvert_exporter": "python",
   "pygments_lexer": "ipython3",
   "version": "3.10.12"
  }
 },
 "nbformat": 4,
 "nbformat_minor": 2
}
