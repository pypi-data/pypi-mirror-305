{
 "cells": [
  {
   "cell_type": "markdown",
   "metadata": {},
   "source": [
    "# Planform constraints\n",
    "Demo showing how to apply planform constraints, such as: \n",
    "\n",
    "- `root_chord`: Returns a smooth transition from an ideal aerodynamic chord that satisfy a root-chord- and a maximum-chord-size.\n",
    "- `min_tc_chord`: Returns a chord that maintains the minimum $t/c$ for the tip region (it is often the case that the tip-loss model leads to an increase in $t/c$ in this region)\n",
    "- `max_twist`: Returns a twist that satisfy a maximum twist"
   ]
  },
  {
   "cell_type": "code",
   "execution_count": null,
   "metadata": {},
   "outputs": [],
   "source": [
    "import numpy as np\n",
    "import matplotlib.pyplot as plt\n",
    "from lacbox.aero import root_chord, min_tc_chord, max_twist\n",
    "from lacbox.test import test_data_path\n",
    "\n",
    "# Load data\n",
    "r, t, chord_ideal, tc_ideal, twist_ideal = np.loadtxt(test_data_path+\"/ideal_planform.dat\", unpack=True)"
   ]
  },
  {
   "cell_type": "markdown",
   "metadata": {},
   "source": [
    "## Root chord transition (`root_chord`)\n",
    "Demo showing how to make a chord design at the root that satisfy a given chord size at the root and a maximum chord from a ideal aerodynamic designed chord."
   ]
  },
  {
   "cell_type": "code",
   "execution_count": null,
   "metadata": {},
   "outputs": [],
   "source": [
    "# Apply the root chord transition\n",
    "chord_root = t[0]\n",
    "chord_max = 3\n",
    "chord_rc = root_chord(r, chord_ideal, chord_root, chord_max)\n",
    "# Calculating new t/c\n",
    "tc_rc = t/chord_rc*100\n",
    "\n",
    "# Plot the ideal- and root-chord transition constraint chord and t/c\n",
    "# Chord\n",
    "fig, axs = plt.subplots(2)\n",
    "ax = axs[0]\n",
    "ax.plot(r, chord_ideal, label=\"Ideal\")\n",
    "ax.plot(r, chord_rc, label=\"Root chord transition\")\n",
    "ax.set_ylabel(\"Chord [m]\")\n",
    "ax.legend()\n",
    "# t/c\n",
    "ax = axs[1]\n",
    "ax.plot(r, tc_ideal)\n",
    "ax.plot(r, tc_rc)\n",
    "ax.set_xlabel(\"Span [m]\")\n",
    "ax.set_ylabel(\"t/c [%]\")\n",
    "fig.tight_layout()"
   ]
  },
  {
   "cell_type": "markdown",
   "metadata": {},
   "source": [
    "## Constrain t/c to be decreasing (`min_tc_chord`)\n",
    "Demo showing how to get a monotonically decreasing relative profile thickness ($t/c$) along the span."
   ]
  },
  {
   "cell_type": "code",
   "execution_count": null,
   "metadata": {},
   "outputs": [],
   "source": [
    "# Applying the constraint on t/c\n",
    "chord = min_tc_chord(chord_rc, t)\n",
    "# Computing the new t/c\n",
    "tc = t/chord*100\n",
    "\n",
    "# Plot the ideal- and constraint chord and t/c\n",
    "# Chord\n",
    "fig, axs = plt.subplots(2)\n",
    "ax = axs[0]\n",
    "ax.plot(r, chord_rc, label=\"Root chord transition\")\n",
    "ax.plot(r, chord, label=\"Decreasing t/c\")\n",
    "#ax.set_xlabel(\"Span [m]\")\n",
    "ax.set_ylabel(\"Chord [m]\")\n",
    "ax.legend()\n",
    "# t/c\n",
    "ax = axs[1]\n",
    "ax.plot(r, tc_rc)\n",
    "ax.plot(r, tc)\n",
    "ax.set_xlabel(\"Span [m]\")\n",
    "ax.set_ylabel(\"t/c [%]\")\n",
    "fig.tight_layout()"
   ]
  },
  {
   "cell_type": "markdown",
   "metadata": {},
   "source": [
    "## Limit the maximum twist angel (`max_twist`)\n",
    "Demo showing how to apply a maximum twist constraint for an ideal aerodynamic twist."
   ]
  },
  {
   "cell_type": "code",
   "execution_count": null,
   "metadata": {},
   "outputs": [],
   "source": [
    "# Input\n",
    "twist_max = 20\n",
    "\n",
    "# Applying the maximum twist\n",
    "twist = max_twist(twist_ideal, twist_max)\n",
    "\n",
    "# Plotting the ideal and constraint twist\n",
    "fig, ax = plt.subplots()\n",
    "ax.axhline(twist_max, ls=\"--\", lw=1, color=\"k\", label=\"Maximum twist\")\n",
    "ax.plot(r, twist_ideal, label=\"Ideal\")\n",
    "ax.plot(r, twist, label=\"With maximum twist\")\n",
    "ax.set_xlabel(\"Span [m]\")\n",
    "ax.set_ylabel(\"Twist [deg]\")\n",
    "ax.legend()\n",
    "fig.tight_layout()"
   ]
  }
 ],
 "metadata": {
  "interpreter": {
   "hash": "deb47b2e2014642bfbab3a8cd5dac78b7082e632e943a64158996f0b4c697279"
  },
  "kernelspec": {
   "display_name": "Python 3 (ipykernel)",
   "language": "python",
   "name": "python3"
  },
  "language_info": {
   "codemirror_mode": {
    "name": "ipython",
    "version": 3
   },
   "file_extension": ".py",
   "mimetype": "text/x-python",
   "name": "python",
   "nbconvert_exporter": "python",
   "pygments_lexer": "ipython3",
   "version": "3.7.3"
  }
 },
 "nbformat": 4,
 "nbformat_minor": 2
}
