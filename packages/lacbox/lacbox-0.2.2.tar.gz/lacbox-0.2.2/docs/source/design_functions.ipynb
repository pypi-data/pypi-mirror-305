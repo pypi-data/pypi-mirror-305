{
 "cells": [
  {
   "cell_type": "markdown",
   "metadata": {},
   "source": [
    "# Aerodynamic polar design interpolator (`interpolator`)\n",
    "Demo showing how to use a set of aerodynamic polar design points as a function of the profile thickness ($t/c$)."
   ]
  },
  {
   "cell_type": "code",
   "execution_count": null,
   "metadata": {},
   "outputs": [],
   "source": [
    "# Import the interpolator\n",
    "from lacbox.aero import interpolator\n",
    "import numpy as np\n",
    "import matplotlib.pyplot as plt\n",
    "\n",
    "# Design value (extended to have a valid range from 0-100 including zero tangent at the ends)\n",
    "tc_des_vals = [0, 15, 18, 24, 30, 36, 100, 105]\n",
    "cl_des_vals = [0.9, 0.9, 0.8, 0.8, 0.7, 0.6, 0.0, 0.0]\n",
    "cd_des_vals = [0.00850, 0.00850, 0.00604, 0.0107, 0.0139, 0.0155, 0.5, 0.5]\n",
    "aoa_des_vals = [5.0, 5.0, 4.3, 4.3, 4.0, 0.5, 0.0, 0.0]\n",
    "\n",
    "# Creating the interpolator function\n",
    "cl_des = interpolator(tc_des_vals, cl_des_vals)\n",
    "cd_des = interpolator(tc_des_vals, cd_des_vals)\n",
    "aoa_des = interpolator(tc_des_vals, aoa_des_vals)\n",
    "\n",
    "# Plotting the design functions\n",
    "tc = np.linspace(0, 100, 100)\n",
    "fig, axs = plt.subplots(3, 1)\n",
    "# Cl\n",
    "ax = axs[0]\n",
    "ax.plot(tc, cl_des(tc), \"k\")\n",
    "ax.plot(tc_des_vals[1:-1], cl_des_vals[1:-1], \"ok\")\n",
    "ax.set_ylabel(\"$C_{l,design}$ [-]\")\n",
    "# Cd\n",
    "ax = axs[1]\n",
    "ax.plot(tc, cd_des(tc), \"k\", label=\"Design function\")\n",
    "ax.plot(tc_des_vals[1:-1], cd_des_vals[1:-1], \"ok\", label=\"Design values\")\n",
    "ax.set_ylabel(\"$C_{d,design}$ [-]\")\n",
    "ax.legend()\n",
    "# AoA\n",
    "ax = axs[2]\n",
    "ax.plot(tc, aoa_des(tc), \"k\")\n",
    "ax.plot(tc_des_vals[1:-1], aoa_des_vals[1:-1], \"ok\")\n",
    "ax.set_xlabel(\"Relative profile thickness (t/c) [%]\")\n",
    "ax.set_ylabel(r\"AoA ($\\alpha$) [deg]\")\n",
    "fig.tight_layout()"
   ]
  }
 ],
 "metadata": {
  "kernelspec": {
   "display_name": "Python 3 (ipykernel)",
   "language": "python",
   "name": "python3"
  },
  "language_info": {
   "codemirror_mode": {
    "name": "ipython",
    "version": 3
   },
   "file_extension": ".py",
   "mimetype": "text/x-python",
   "name": "python",
   "nbconvert_exporter": "python",
   "pygments_lexer": "ipython3",
   "version": "3.7.3"
  },
  "vscode": {
   "interpreter": {
    "hash": "deb47b2e2014642bfbab3a8cd5dac78b7082e632e943a64158996f0b4c697279"
   }
  }
 },
 "nbformat": 4,
 "nbformat_minor": 2
}
