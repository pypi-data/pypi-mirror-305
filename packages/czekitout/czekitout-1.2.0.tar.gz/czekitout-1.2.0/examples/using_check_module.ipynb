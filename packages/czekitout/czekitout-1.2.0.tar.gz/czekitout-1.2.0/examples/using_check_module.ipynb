{
 "cells": [
  {
   "cell_type": "markdown",
   "id": "6bb7f461",
   "metadata": {},
   "source": [
    "# Using the ``czekitout.check`` module #"
   ]
  },
  {
   "cell_type": "markdown",
   "id": "5d6d9cd7",
   "metadata": {},
   "source": [
    "## A NOTE BEFORE STARTING ##"
   ]
  },
  {
   "cell_type": "markdown",
   "id": "880421e9",
   "metadata": {},
   "source": [
    "Since the ``czekitout`` git repository tracks this notebook under its original\n",
    "basename ``using_check_module.ipynb``, we recommend that you copy the original\n",
    "notebook and rename it to any other basename that is not one of the original\n",
    "basenames that appear in the ``<root>/examples`` directory before executing any\n",
    "of the notebook cells below, where ``<root>`` is the root of the ``czekitout``\n",
    "repository. This way you can explore the notebook by executing and modifying\n",
    "cells without changing the original notebook, which is being tracked by git."
   ]
  },
  {
   "cell_type": "markdown",
   "id": "12b0d90e",
   "metadata": {},
   "source": [
    "## Import necessary modules ##"
   ]
  },
  {
   "cell_type": "code",
   "execution_count": null,
   "id": "e7f9787f",
   "metadata": {},
   "outputs": [],
   "source": [
    "# For general array handling.\n",
    "import numpy as np\n",
    "\n",
    "\n",
    "\n",
    "# The module that is the subject of this demonstration.\n",
    "import czekitout.check"
   ]
  },
  {
   "cell_type": "markdown",
   "id": "e667d633",
   "metadata": {},
   "source": [
    "## Introduction ##"
   ]
  },
  {
   "cell_type": "markdown",
   "id": "ec7f2509",
   "metadata": {},
   "source": [
    "In this notebook, we exemplify typical use cases of the module\n",
    "``czekiout.check``. The module contains functions that facilitate validation\n",
    "with useful error messages for certain frequently-used classes. This notebook\n",
    "contains examples of the usage of only a subset of the functions in the module,\n",
    "although the typical usage of the functions not exemplified in this notebook\n",
    "follow the same general patterns as those included in the notebook. See\n",
    "[here](https://mrfitzpa.github.io/czekitout/_autosummary/czekitout.check.html)\n",
    "for a description of all functions available in the ``czekitout.check``\n",
    "module. It is recommended that you consult the documentation of this class as\n",
    "you explore the notebook."
   ]
  },
  {
   "cell_type": "markdown",
   "id": "ee0993ba",
   "metadata": {},
   "source": [
    "## Generic type-checking ##"
   ]
  },
  {
   "cell_type": "markdown",
   "id": "21a2529c",
   "metadata": {},
   "source": [
    "Check whether ``obj_1`` is either an integer, a ``slice`` object, or a ``numpy`` array:"
   ]
  },
  {
   "cell_type": "code",
   "execution_count": null,
   "id": "5bdd09c4",
   "metadata": {},
   "outputs": [],
   "source": [
    "obj_1 = 3.2\n",
    "kwargs = {\"obj\": obj_1, \n",
    "          \"obj_name\": \"obj_1\", \n",
    "          \"accepted_types\": (int, slice, np.ndarray)}\n",
    "czekitout.check.if_instance_of_any_accepted_types(**kwargs)"
   ]
  },
  {
   "cell_type": "markdown",
   "id": "0edfc98d",
   "metadata": {},
   "source": [
    "Note that running the above cell returns an error message, as expected."
   ]
  },
  {
   "cell_type": "markdown",
   "id": "8b8ec0db",
   "metadata": {},
   "source": [
    "Check whether ``obj_2`` is either an integer, a ``slice`` object, or a ``numpy`` array:"
   ]
  },
  {
   "cell_type": "code",
   "execution_count": null,
   "id": "92b9dd3d",
   "metadata": {},
   "outputs": [],
   "source": [
    "obj_2 = slice(0, 3)\n",
    "kwargs = {\"obj\": obj_2, \n",
    "          \"obj_name\": \"obj_2\", \n",
    "          \"accepted_types\": (int, slice, np.ndarray)}\n",
    "czekitout.check.if_instance_of_any_accepted_types(**kwargs)"
   ]
  },
  {
   "cell_type": "markdown",
   "id": "d6accf38",
   "metadata": {},
   "source": [
    "Note that running the above cell does not return an error message, as expected."
   ]
  },
  {
   "cell_type": "markdown",
   "id": "52c61d09",
   "metadata": {},
   "source": [
    "## Checking whether objects match user-specified strings  ##"
   ]
  },
  {
   "cell_type": "markdown",
   "id": "e0aef83f",
   "metadata": {},
   "source": [
    "Check whether ``obj_3`` is equal to any of the strings stored in\n",
    "``accepted_strings``:"
   ]
  },
  {
   "cell_type": "code",
   "execution_count": null,
   "id": "883c86cb",
   "metadata": {},
   "outputs": [],
   "source": [
    "obj_3 = \"hello world\"\n",
    "accepted_strings = (\"hello\", \"Hello world\", \"goodbye\")\n",
    "kwargs = {\"obj\": obj_3, \n",
    "          \"obj_name\": \"obj_3\", \n",
    "          \"accepted_strings\": accepted_strings}\n",
    "czekitout.check.if_one_of_any_accepted_strings(**kwargs)"
   ]
  },
  {
   "cell_type": "markdown",
   "id": "9d94eb59",
   "metadata": {},
   "source": [
    "Note that running the above cell returns an error message, as expected."
   ]
  },
  {
   "cell_type": "markdown",
   "id": "3b31766b",
   "metadata": {},
   "source": [
    "Check whether ``obj_4`` is equal to any of the strings stored in\n",
    "``accepted_strings``:"
   ]
  },
  {
   "cell_type": "code",
   "execution_count": null,
   "id": "3b931bec",
   "metadata": {},
   "outputs": [],
   "source": [
    "obj_4 = \"Hello world\"\n",
    "accepted_strings = (\"hello\", \"Hello world\", \"goodbye\")\n",
    "kwargs = {\"obj\": obj_4, \n",
    "          \"obj_name\": \"obj_4\", \n",
    "          \"accepted_strings\": accepted_strings}\n",
    "czekitout.check.if_one_of_any_accepted_strings(**kwargs)"
   ]
  },
  {
   "cell_type": "markdown",
   "id": "ce828b89",
   "metadata": {},
   "source": [
    "Note that running the above cell does not return an error message, as expected."
   ]
  },
  {
   "cell_type": "markdown",
   "id": "f21c96a3",
   "metadata": {},
   "source": [
    "## Other validation functions  ##"
   ]
  },
  {
   "cell_type": "markdown",
   "id": "58246ef9",
   "metadata": {},
   "source": [
    "The typical usage of the remaining validation functions that have not yet been\n",
    "introduced in this notebook follow the same pattern. Hence, below we only show\n",
    "examples of the usage of a subset of the aforementioned remaining validation\n",
    "functions. See\n",
    "[here](https://mrfitzpa.github.io/czekitout/_autosummary/czekitout.check.html)\n",
    "for a description of all functions available in the ``czekitout.check`` module."
   ]
  },
  {
   "cell_type": "markdown",
   "id": "53a6cf7b",
   "metadata": {},
   "source": [
    "Check whether ``obj_5`` is an integer."
   ]
  },
  {
   "cell_type": "code",
   "execution_count": null,
   "id": "ce892a66",
   "metadata": {},
   "outputs": [],
   "source": [
    "obj_5 = 3.5\n",
    "kwargs = {\"obj\": obj_5, \n",
    "          \"obj_name\": \"obj_5\"}\n",
    "czekitout.check.if_int(**kwargs)"
   ]
  },
  {
   "cell_type": "markdown",
   "id": "9d3817ed",
   "metadata": {},
   "source": [
    "Note that running the above cell returns an error message, as expected."
   ]
  },
  {
   "cell_type": "markdown",
   "id": "89902b89",
   "metadata": {},
   "source": [
    "Check whether ``obj_6`` is an integer."
   ]
  },
  {
   "cell_type": "code",
   "execution_count": null,
   "id": "93d70ed5",
   "metadata": {},
   "outputs": [],
   "source": [
    "obj_6 = 3.0\n",
    "kwargs = {\"obj\": obj_6, \n",
    "          \"obj_name\": \"obj_6\"}\n",
    "czekitout.check.if_int(**kwargs)"
   ]
  },
  {
   "cell_type": "markdown",
   "id": "78448435",
   "metadata": {},
   "source": [
    "Note that running the above cell does not return an error message, as expected."
   ]
  },
  {
   "cell_type": "markdown",
   "id": "d7dfacb6",
   "metadata": {},
   "source": [
    "Check whether ``obj_7`` is a pair of positive real numbers."
   ]
  },
  {
   "cell_type": "code",
   "execution_count": null,
   "id": "7a856b64",
   "metadata": {},
   "outputs": [],
   "source": [
    "obj_7 = (3, 2.0, 4.5)\n",
    "kwargs = {\"obj\": obj_7, \n",
    "          \"obj_name\": \"obj_7\"}\n",
    "czekitout.check.if_pair_of_positive_floats(**kwargs)"
   ]
  },
  {
   "cell_type": "markdown",
   "id": "30e4ede6",
   "metadata": {},
   "source": [
    "Note that running the above cell returns an error message, as expected."
   ]
  },
  {
   "cell_type": "markdown",
   "id": "a7aa739c",
   "metadata": {},
   "source": [
    "Check whether ``obj_8`` is a pair of positive real numbers."
   ]
  },
  {
   "cell_type": "code",
   "execution_count": null,
   "id": "5c0a0b15",
   "metadata": {},
   "outputs": [],
   "source": [
    "obj_8 = (3, 4.5)\n",
    "kwargs = {\"obj\": obj_8, \n",
    "          \"obj_name\": \"obj_8\"}\n",
    "czekitout.check.if_pair_of_positive_floats(**kwargs)"
   ]
  },
  {
   "cell_type": "markdown",
   "id": "57a34e2e",
   "metadata": {},
   "source": [
    "Note that running the above cell does not return an error message, as expected."
   ]
  },
  {
   "cell_type": "markdown",
   "id": "f71bd75c",
   "metadata": {},
   "source": [
    "Check whether ``obj_9`` is a callable object."
   ]
  },
  {
   "cell_type": "code",
   "execution_count": null,
   "id": "af565341",
   "metadata": {},
   "outputs": [],
   "source": [
    "obj_9 = slice(None)\n",
    "kwargs = {\"obj\": obj_9, \n",
    "          \"obj_name\": \"obj_9\"}\n",
    "czekitout.check.if_callable(**kwargs)"
   ]
  },
  {
   "cell_type": "markdown",
   "id": "5a466b92",
   "metadata": {},
   "source": [
    "Note that running the above cell returns an error message, as expected."
   ]
  },
  {
   "cell_type": "markdown",
   "id": "ccd11a1d",
   "metadata": {},
   "source": [
    "Check whether ``obj_10`` is a callable object."
   ]
  },
  {
   "cell_type": "code",
   "execution_count": null,
   "id": "3576c205",
   "metadata": {},
   "outputs": [],
   "source": [
    "obj_10 = sum\n",
    "kwargs = {\"obj\": obj_10, \n",
    "          \"obj_name\": \"obj_10\"}\n",
    "czekitout.check.if_callable(**kwargs)"
   ]
  },
  {
   "cell_type": "markdown",
   "id": "2176c00f",
   "metadata": {},
   "source": [
    "Note that running the above cell does not return an error message, as expected."
   ]
  },
  {
   "cell_type": "markdown",
   "id": "0cb3e3ff",
   "metadata": {},
   "source": [
    "See\n",
    "[here](https://mrfitzpa.github.io/czekitout/_autosummary/czekitout.check.html)\n",
    "for a description of all functions available in the ``czekitout.check`` module."
   ]
  }
 ],
 "metadata": {
  "kernelspec": {
   "display_name": "Python 3 (ipykernel)",
   "language": "python",
   "name": "python3"
  },
  "language_info": {
   "codemirror_mode": {
    "name": "ipython",
    "version": 3
   },
   "file_extension": ".py",
   "mimetype": "text/x-python",
   "name": "python",
   "nbconvert_exporter": "python",
   "pygments_lexer": "ipython3",
   "version": "3.12.4"
  }
 },
 "nbformat": 4,
 "nbformat_minor": 5
}
