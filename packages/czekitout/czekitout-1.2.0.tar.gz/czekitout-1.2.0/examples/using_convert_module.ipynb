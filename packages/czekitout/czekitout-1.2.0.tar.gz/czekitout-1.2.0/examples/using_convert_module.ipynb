{
 "cells": [
  {
   "cell_type": "markdown",
   "id": "6bb7f461",
   "metadata": {},
   "source": [
    "# Using the ``czekitout.convert`` module #"
   ]
  },
  {
   "cell_type": "markdown",
   "id": "5d6d9cd7",
   "metadata": {},
   "source": [
    "## A NOTE BEFORE STARTING ##"
   ]
  },
  {
   "cell_type": "markdown",
   "id": "880421e9",
   "metadata": {},
   "source": [
    "Since the ``czekitout`` git repository tracks this notebook under its original\n",
    "basename ``using_convert_module.ipynb``, we recommend that you copy the original\n",
    "notebook and rename it to any other basename that is not one of the original\n",
    "basenames that appear in the ``<root>/examples`` directory before executing any\n",
    "of the notebook cells below, where ``<root>`` is the root of the ``czekitout``\n",
    "repository. This way you can explore the notebook by executing and modifying\n",
    "cells without changing the original notebook, which is being tracked by git."
   ]
  },
  {
   "cell_type": "markdown",
   "id": "12b0d90e",
   "metadata": {},
   "source": [
    "## Import necessary modules ##"
   ]
  },
  {
   "cell_type": "code",
   "execution_count": null,
   "id": "e7f9787f",
   "metadata": {},
   "outputs": [],
   "source": [
    "# For general array handling.\n",
    "import numpy as np\n",
    "\n",
    "\n",
    "\n",
    "# The module that is the subject of this demonstration.\n",
    "import czekitout.convert"
   ]
  },
  {
   "cell_type": "markdown",
   "id": "e667d633",
   "metadata": {},
   "source": [
    "## Introduction ##"
   ]
  },
  {
   "cell_type": "markdown",
   "id": "ec7f2509",
   "metadata": {},
   "source": [
    "In this notebook, we exemplify typical use cases of the module\n",
    "``czekiout.convert``. The module contains functions that facilitate\n",
    "type-conversions with useful error messages when exceptions are thrown for\n",
    "certain frequently-used classes. This notebook contains examples of the usage of\n",
    "only a subset of the functions in the module, although the typical usage of the\n",
    "functions not exemplified in this notebook follow the same general pattern as\n",
    "those included in the notebook. See\n",
    "[here](https://mrfitzpa.github.io/czekitout/_autosummary/czekitout.convert.html)\n",
    "for a description of all functions available in the ``czekitout.convert``\n",
    "module. It is recommended that you consult the documentation of this class as\n",
    "you explore the notebook."
   ]
  },
  {
   "cell_type": "markdown",
   "id": "ee0993ba",
   "metadata": {},
   "source": [
    "## Performing type-conversions ##"
   ]
  },
  {
   "cell_type": "markdown",
   "id": "21a2529c",
   "metadata": {},
   "source": [
    "Let's try to convert ``obj_1`` to a tuple of positive integers."
   ]
  },
  {
   "cell_type": "code",
   "execution_count": null,
   "id": "5bdd09c4",
   "metadata": {},
   "outputs": [],
   "source": [
    "obj_1 = np.array([3.2, 4.0, 1])\n",
    "kwargs = {\"obj\": obj_1, \n",
    "          \"obj_name\": \"obj_1\"}\n",
    "czekitout.convert.to_tuple_of_positive_ints(**kwargs)"
   ]
  },
  {
   "cell_type": "markdown",
   "id": "0edfc98d",
   "metadata": {},
   "source": [
    "Note that running the above cell returns an error message, as expected."
   ]
  },
  {
   "cell_type": "markdown",
   "id": "8b8ec0db",
   "metadata": {},
   "source": [
    "Let's try to convert ``obj_2`` to a tuple of positive integers."
   ]
  },
  {
   "cell_type": "code",
   "execution_count": null,
   "id": "92b9dd3d",
   "metadata": {},
   "outputs": [],
   "source": [
    "obj_2 = np.array([3.0, 4.0, 1])\n",
    "kwargs = {\"obj\": obj_2, \n",
    "          \"obj_name\": \"obj_1\"}\n",
    "czekitout.convert.to_tuple_of_positive_ints(**kwargs)"
   ]
  },
  {
   "cell_type": "markdown",
   "id": "d6accf38",
   "metadata": {},
   "source": [
    "Note that running the above cell does not return an error message, as expected."
   ]
  },
  {
   "cell_type": "markdown",
   "id": "ec998018",
   "metadata": {},
   "source": [
    "Let's try to convert ``obj_3`` to a nonnegative numpy matrix."
   ]
  },
  {
   "cell_type": "code",
   "execution_count": null,
   "id": "13ec3540",
   "metadata": {},
   "outputs": [],
   "source": [
    "obj_3 = [(3.2, 2), \n",
    "         [-2, 0], \n",
    "         [1.2, 43.2], \n",
    "         (5.5, 5.5)]\n",
    "kwargs = {\"obj\": obj_3, \n",
    "          \"obj_name\": \"obj_3\"}\n",
    "czekitout.convert.to_nonnegative_numpy_matrix(**kwargs)"
   ]
  },
  {
   "cell_type": "markdown",
   "id": "71354181",
   "metadata": {},
   "source": [
    "Note that running the above cell returns an error message, as expected."
   ]
  },
  {
   "cell_type": "markdown",
   "id": "ea083df0",
   "metadata": {},
   "source": [
    "Let's try to convert ``obj_4`` to a nonnegative numpy matrix."
   ]
  },
  {
   "cell_type": "code",
   "execution_count": null,
   "id": "90046bfc",
   "metadata": {},
   "outputs": [],
   "source": [
    "obj_4 = [(3.2, 2), \n",
    "         [2, 0], \n",
    "         [1.2, 43.2], \n",
    "         (5.5, 5.5)]\n",
    "kwargs = {\"obj\": obj_4, \n",
    "          \"obj_name\": \"obj_4\"}\n",
    "czekitout.convert.to_nonnegative_numpy_matrix(**kwargs)"
   ]
  },
  {
   "cell_type": "markdown",
   "id": "7fa4f597",
   "metadata": {},
   "source": [
    "Note that running the above cell does not return an error message, as expected."
   ]
  },
  {
   "cell_type": "markdown",
   "id": "0cb3e3ff",
   "metadata": {},
   "source": [
    "See\n",
    "[here](https://mrfitzpa.github.io/czekitout/_autosummary/czekitout.convert.html)\n",
    "for a description of all functions available in the ``czekitout.convert``\n",
    "module."
   ]
  }
 ],
 "metadata": {
  "kernelspec": {
   "display_name": "Python 3 (ipykernel)",
   "language": "python",
   "name": "python3"
  },
  "language_info": {
   "codemirror_mode": {
    "name": "ipython",
    "version": 3
   },
   "file_extension": ".py",
   "mimetype": "text/x-python",
   "name": "python",
   "nbconvert_exporter": "python",
   "pygments_lexer": "ipython3",
   "version": "3.12.4"
  }
 },
 "nbformat": 4,
 "nbformat_minor": 5
}
