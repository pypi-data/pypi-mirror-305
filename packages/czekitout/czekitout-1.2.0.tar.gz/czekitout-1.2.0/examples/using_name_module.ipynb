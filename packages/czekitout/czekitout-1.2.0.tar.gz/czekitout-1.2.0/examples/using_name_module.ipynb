{
 "cells": [
  {
   "cell_type": "markdown",
   "id": "6bb7f461",
   "metadata": {},
   "source": [
    "# Using the ``czekitout.name`` module #"
   ]
  },
  {
   "cell_type": "markdown",
   "id": "5d6d9cd7",
   "metadata": {},
   "source": [
    "## A NOTE BEFORE STARTING ##"
   ]
  },
  {
   "cell_type": "markdown",
   "id": "880421e9",
   "metadata": {},
   "source": [
    "Since the ``czekitout`` git repository tracks this notebook under its original\n",
    "basename ``using_name_module.ipynb``, we recommend that you copy the original\n",
    "notebook and rename it to any other basename that is not one of the original\n",
    "basenames that appear in the ``<root>/examples`` directory before executing any\n",
    "of the notebook cells below, where ``<root>`` is the root of the ``czekitout``\n",
    "repository. This way you can explore the notebook by executing and modifying\n",
    "cells without changing the original notebook, which is being tracked by git."
   ]
  },
  {
   "cell_type": "markdown",
   "id": "12b0d90e",
   "metadata": {},
   "source": [
    "## Import necessary modules ##"
   ]
  },
  {
   "cell_type": "code",
   "execution_count": null,
   "id": "e7f9787f",
   "metadata": {},
   "outputs": [],
   "source": [
    "# For general array handling.\n",
    "import numpy as np\n",
    "\n",
    "\n",
    "\n",
    "# The module that is the subject of this demonstration.\n",
    "import czekitout.name"
   ]
  },
  {
   "cell_type": "markdown",
   "id": "e667d633",
   "metadata": {},
   "source": [
    "## Introduction ##"
   ]
  },
  {
   "cell_type": "markdown",
   "id": "ec7f2509",
   "metadata": {},
   "source": [
    "In this notebook, we exemplify typical use cases of the module\n",
    "``czekiout.name``. The module contains a single function called\n",
    "``fully_qualified_class_name`` which returns the fully qualified class name of a\n",
    "given input object or class. See\n",
    "[here](https://mrfitzpa.github.io/czekitout/_autosummary/czekitout.name.html)\n",
    "for a description of the ``czekitout.name`` module. It is recommended that you\n",
    "consult the documentation of this module as you explore the notebook."
   ]
  },
  {
   "cell_type": "markdown",
   "id": "ee0993ba",
   "metadata": {},
   "source": [
    "## Getting the fully qualified class names of given input objects ##"
   ]
  },
  {
   "cell_type": "markdown",
   "id": "21a2529c",
   "metadata": {},
   "source": [
    "Let's get the fully qualified class name of ``obj_1``:"
   ]
  },
  {
   "cell_type": "code",
   "execution_count": null,
   "id": "5bdd09c4",
   "metadata": {},
   "outputs": [],
   "source": [
    "obj_1 = [1, 2]\n",
    "czekitout.name.fully_qualified_class_name(obj_or_cls=obj_1)"
   ]
  },
  {
   "cell_type": "markdown",
   "id": "0edfc98d",
   "metadata": {},
   "source": [
    "and ``obj_2``:"
   ]
  },
  {
   "cell_type": "code",
   "execution_count": null,
   "id": "ce892a66",
   "metadata": {},
   "outputs": [],
   "source": [
    "obj_2 = np.random.default_rng()\n",
    "czekitout.name.fully_qualified_class_name(obj_or_cls=obj_2)"
   ]
  },
  {
   "cell_type": "markdown",
   "id": "dda58861",
   "metadata": {},
   "source": [
    "## Getting the fully qualified class names of given input classes ##"
   ]
  },
  {
   "cell_type": "markdown",
   "id": "2ae3515a",
   "metadata": {},
   "source": [
    "Let's get the fully qualified class name of ``cls_1``:"
   ]
  },
  {
   "cell_type": "code",
   "execution_count": null,
   "id": "d9d93ac2",
   "metadata": {},
   "outputs": [],
   "source": [
    "cls_1 = tuple\n",
    "czekitout.name.fully_qualified_class_name(obj_or_cls=cls_1)"
   ]
  },
  {
   "cell_type": "markdown",
   "id": "31f63fea",
   "metadata": {},
   "source": [
    "and ``cls_2``:"
   ]
  },
  {
   "cell_type": "code",
   "execution_count": null,
   "id": "b516df97",
   "metadata": {},
   "outputs": [],
   "source": [
    "cls_2 = np.polynomial.polynomial.Polynomial\n",
    "czekitout.name.fully_qualified_class_name(obj_or_cls=cls_2)"
   ]
  }
 ],
 "metadata": {
  "kernelspec": {
   "display_name": "Python 3 (ipykernel)",
   "language": "python",
   "name": "python3"
  },
  "language_info": {
   "codemirror_mode": {
    "name": "ipython",
    "version": 3
   },
   "file_extension": ".py",
   "mimetype": "text/x-python",
   "name": "python",
   "nbconvert_exporter": "python",
   "pygments_lexer": "ipython3",
   "version": "3.12.4"
  }
 },
 "nbformat": 4,
 "nbformat_minor": 5
}
