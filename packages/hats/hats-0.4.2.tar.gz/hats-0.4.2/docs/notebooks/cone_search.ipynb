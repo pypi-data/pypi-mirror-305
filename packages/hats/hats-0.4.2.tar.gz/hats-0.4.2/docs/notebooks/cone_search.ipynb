{
 "cells": [
  {
   "attachments": {},
   "cell_type": "markdown",
   "metadata": {},
   "source": [
    "# Cone search demo\n",
    "\n",
    "This notebook walks through performing a cone search of the pixels in a HATS catalog. This shows strategies for visualizing a catalog's partitions, and using hats's spatial metadata to improve performance in targeted queries."
   ]
  },
  {
   "cell_type": "code",
   "execution_count": null,
   "metadata": {},
   "outputs": [],
   "source": [
    "import hats\n",
    "import healpy as hp\n",
    "import numpy as np\n",
    "\n",
    "## Fill in these variables with what's relevant in your use case:\n",
    "\n",
    "### Change this path!!!\n",
    "catalog_path = \"../../tests/data/small_sky_order1\"\n",
    "\n",
    "ra = 0  # degrees\n",
    "dec = -80  # degrees\n",
    "radius_degrees = 10  # degrees"
   ]
  },
  {
   "cell_type": "code",
   "execution_count": null,
   "metadata": {},
   "outputs": [],
   "source": [
    "## Load catalog\n",
    "\n",
    "catalog = hats.read_hats(catalog_path)"
   ]
  },
  {
   "cell_type": "code",
   "execution_count": null,
   "metadata": {},
   "outputs": [],
   "source": [
    "## Plot catalog pixels\n",
    "\n",
    "hats.inspection.plot_pixels(catalog)"
   ]
  },
  {
   "cell_type": "code",
   "execution_count": null,
   "metadata": {},
   "outputs": [],
   "source": [
    "## Plot the cone using healpy for demonstration\n",
    "\n",
    "NSIDE = 256\n",
    "NPIX = hp.nside2npix(NSIDE)\n",
    "m = np.zeros(NPIX)\n",
    "center_vec = hp.ang2vec(ra, dec, lonlat=True)\n",
    "radius_radians = np.radians(radius_degrees)\n",
    "cone_pixels = hp.query_disc(NSIDE, center_vec, radius_radians)\n",
    "m[cone_pixels] = 1\n",
    "hp.mollview(m, title=\"Cone to search\")"
   ]
  },
  {
   "cell_type": "code",
   "execution_count": null,
   "metadata": {},
   "outputs": [],
   "source": [
    "## Filter catalog and plot filtered pixels\n",
    "\n",
    "radius_arcseconds = radius_degrees * 3600\n",
    "filtered_catalog = catalog.filter_by_cone(ra, dec, radius_arcseconds)\n",
    "\n",
    "hats.inspection.plot_pixels(filtered_catalog)"
   ]
  }
 ],
 "metadata": {
  "language_info": {
   "name": "python"
  }
 },
 "nbformat": 4,
 "nbformat_minor": 2
}
