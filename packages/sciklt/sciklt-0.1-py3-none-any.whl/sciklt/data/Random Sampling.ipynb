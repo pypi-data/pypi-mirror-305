{
 "cells": [
  {
   "cell_type": "code",
   "execution_count": 1,
   "id": "01e42fdd-2199-41e4-a60f-b30a9f54f3a7",
   "metadata": {},
   "outputs": [
    {
     "name": "stdout",
     "output_type": "stream",
     "text": [
      "Original: [1, 2, 3, 4, 5, 6, 7, 8, 9, 10]\n",
      "Random Sample: [2, 1, 4, 6]\n"
     ]
    }
   ],
   "source": [
    "def random_sampling(data, N, seed = 1):\n",
    "    shuffled_data = data[:]\n",
    "    for i in range(len(data) - 1, 0, -1):\n",
    "        seed = (seed * 1664525 + 1013904223) & 0xFFFFFFFF\n",
    "        j = seed % (i + 1)\n",
    "        shuffled_data[i], shuffled_data[j] = shuffled_data[j], shuffled_data[i]\n",
    "    return shuffled_data[:N]\n",
    "\n",
    "data = [1, 2, 3, 4, 5, 6, 7, 8, 9, 10]\n",
    "sample_size = 4\n",
    "sample = random_sampling(data, sample_size)\n",
    "print(\"Original:\", data)\n",
    "print(\"Random Sample:\",sample)"
   ]
  }
 ],
 "metadata": {
  "kernelspec": {
   "display_name": "Python 3 (ipykernel)",
   "language": "python",
   "name": "python3"
  },
  "language_info": {
   "codemirror_mode": {
    "name": "ipython",
    "version": 3
   },
   "file_extension": ".py",
   "mimetype": "text/x-python",
   "name": "python",
   "nbconvert_exporter": "python",
   "pygments_lexer": "ipython3",
   "version": "3.12.4"
  }
 },
 "nbformat": 4,
 "nbformat_minor": 5
}
